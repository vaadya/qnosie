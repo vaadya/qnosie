{
 "cells": [
  {
   "cell_type": "markdown",
   "metadata": {},
   "source": [
    "<span style=\"font-size:200%; text-align:left;\"><b>Lab setup of long SRC in a Michelson</b></span>\n",
    "<br/>\n",
    "Code : Mostly D.Toyra but I, V Adya chipped in\n"
   ]
  },
  {
   "cell_type": "markdown",
   "metadata": {},
   "source": [
    "# Importing packages"
   ]
  },
  {
   "cell_type": "code",
   "execution_count": 1,
   "metadata": {},
   "outputs": [
    {
     "name": "stdout",
     "output_type": "stream",
     "text": [
      "                                              ..-\n",
      "    PyKat develop         _                  '(\n",
      "                          \\`.|\\.__...-\"\"\"\"-_.\" )\n",
      "       ..+-----.._        /  ' `            .-'\n",
      "   . '            `:      7/* _/._\\    \\   (\n",
      "  (        '::;;+;;:      `-\"' =\" /,`\"\" `) /\n",
      "  L.        \\`:::a:f            c_/     n_'\n",
      "  ..`--...___`.  .    ,\n",
      "   `^-....____:   +.      www.gwoptics.org/pykat\n",
      "\n"
     ]
    }
   ],
   "source": [
    "import pykat\n",
    "import pykat.ifo as ifo\n",
    "import pykat.ifo.aligo as aligo\n",
    "import pykat.ifo.aligo.plot\n",
    "from pykat.optics import ABCD as a\n",
    "\n",
    "import numpy as np\n",
    "import matplotlib.pyplot as plt\n",
    "from scipy.optimize import minimize_scalar\n",
    "\n",
    "import pickle\n",
    "import matplotlib as mpl\n",
    "mpl.rcParams['axes.formatter.useoffset']=False\n",
    "\n",
    "\n",
    "from scipy.optimize import minimize\n",
    "from pykat.optics.gaussian_beams import BeamParam"
   ]
  },
  {
   "cell_type": "markdown",
   "metadata": {},
   "source": [
    "# Designing the waist size in the crystal  \n"
   ]
  },
  {
   "cell_type": "markdown",
   "metadata": {},
   "source": [
    "## Controller"
   ]
  },
  {
   "cell_type": "code",
   "execution_count": 2,
   "metadata": {},
   "outputs": [],
   "source": [
    "RoC = [0.1,0.25,0.5,0.75,1,1.333,1.5,2,3,4,5,6.667,10]   # RoCs available off the shelf\n",
    "\n",
    "\n",
    "RoC_EX = 5\n",
    "RoC_EY = 5\n",
    "\n",
    "\n",
    "w_crys = 30e-6\n",
    "\n",
    "# Constraints\n",
    "w_bs = 3.4e-3\n",
    "w_etm = 4.8e-3\n",
    "w_srm = 4.8e-3"
   ]
  },
  {
   "cell_type": "markdown",
   "metadata": {},
   "source": [
    "## The model"
   ]
  },
  {
   "cell_type": "code",
   "execution_count": 3,
   "metadata": {},
   "outputs": [],
   "source": [
    "base = pykat.finesse.kat()\n",
    "base.verbose = True\n",
    "base.load(\"LongSRC_design_03Oct.kat\")\n",
    "\n",
    "base.removeBlock('Photodiodes')\n",
    "\n",
    "base.EX.Rc = RoC_EX\n",
    "base.EY.Rc = RoC_EY\n"
   ]
  },
  {
   "cell_type": "markdown",
   "metadata": {},
   "source": [
    "## Run 0\n",
    "Setting the radii of curvature of the End Mirrors and the SRM"
   ]
  },
  {
   "cell_type": "code",
   "execution_count": 4,
   "metadata": {},
   "outputs": [
    {
     "name": "stdout",
     "output_type": "stream",
     "text": [
      "--------------------------------------------------------------\n",
      "Running kat - Started at 2019-10-09 15:30:24.136154\n",
      "\n",
      "Finished in 0.0286689 seconds\n",
      "\n",
      "------------------------------------------------------------------------\n",
      "                     FINESSE 2.2                (build 2.2-31-ge1141681)\n",
      "       o_.-=.        Frequency domain INterferomEter Simulation SoftwarE\n",
      "      (\\'\".\\|        06.03.2019         http://www.gwoptics.org/finesse/\n",
      "      .>' (_--.      \n",
      "   _=/d   ,^\\        Input file /var/folders/k1/yts33d_93v1_9yd1768nkwph0000gn/T/tmppojj_nhy.kat,\n",
      "  ~~ \\)-'   '        Output file /var/folders/k1/yts33d_93v1_9yd1768nkwph0000gn/T/tmppojj_nhy.out,\n",
      "     / |             Gnuplot file /var/folders/k1/yts33d_93v1_9yd1768nkwph0000gn/T/tmppojj_nhy.gnu \n",
      "    '  '                                        Wed Oct  9 15:30:24 2019\n",
      "------------------------------------------------------------------------\n",
      " 'noxaxis' has been set, ignoring all other xaxis commands\n",
      " --- cavity tracing\n",
      " cavity cSRMX:\n",
      "  cavity is stable! Eigenvalues:\n",
      "  q=-0.6911+1.72565j, w0=764.491576753132um z=-691.1mm m=0.0470781\n",
      "  finesse : 3.43093, round-trip power loss: 0.820036 [/100]\n",
      "  opt. length: 2.7644m, FSR: 108.447568369266MHz, m: 47.0781472m\n",
      "  FWHM: 31.6088413989882MHz (pole: 15.8044206994941MHz)\n",
      "  (x) A: 0.44712 B: 2.0002093 C: -0.578848 D: -0.35296371\n",
      "  (y) A: 0.44712 B: 2.0002093 C: -0.578848 D: -0.35296371\n",
      "  RT Gouy: 87.3016234728225 deg (mode sep.: 26.2990243897691MHz)\n",
      " cavity cSRMY:\n",
      "  cavity is stable! Eigenvalues:\n",
      "  q=-0.6911+1.72565j, w0=764.491576753132um z=-691.1mm m=0.0470781\n",
      "  finesse : 3.43138, round-trip power loss: 0.82 [/100]\n",
      "  opt. length: 2.7644m, FSR: 108.447568369266MHz, m: 47.0781472m\n",
      "  FWHM: 31.6046338051164MHz (pole: 15.8023169025582MHz)\n",
      "  (x) A: 0.44712 B: 2.0002093 C: -0.578848 D: -0.35296371\n",
      "  (y) A: 0.44712 B: 2.0002093 C: -0.578848 D: -0.35296371\n",
      "  RT Gouy: 87.3016234728225 deg (mode sep.: 26.2990243897691MHz)\n",
      " \n",
      " --- cavity tracing\n",
      " cavity cSRMX:\n",
      "  cavity is stable! Eigenvalues:\n",
      "  q=-0.6911+1.72565j, w0=764.491576753132um z=-691.1mm m=0.0470781\n",
      "  finesse : 3.43093, round-trip power loss: 0.820036 [/100]\n",
      "  opt. length: 2.7644m, FSR: 108.447568369266MHz, m: 47.0781472m\n",
      "  FWHM: 31.6088413989882MHz (pole: 15.8044206994941MHz)\n",
      "  (x) A: 0.44712 B: 2.0002093 C: -0.578848 D: -0.35296371\n",
      "  (y) A: 0.44712 B: 2.0002093 C: -0.578848 D: -0.35296371\n",
      "  RT Gouy: 87.3016234728225 deg (mode sep.: 26.2990243897691MHz)\n",
      " cavity cSRMY:\n",
      "  cavity is stable! Eigenvalues:\n",
      "  q=-0.6911+1.72565j, w0=764.491576753132um z=-691.1mm m=0.0470781\n",
      "  finesse : 3.43138, round-trip power loss: 0.82 [/100]\n",
      "  opt. length: 2.7644m, FSR: 108.447568369266MHz, m: 47.0781472m\n",
      "  FWHM: 31.6046338051164MHz (pole: 15.8023169025582MHz)\n",
      "  (x) A: 0.44712 B: 2.0002093 C: -0.578848 D: -0.35296371\n",
      "  (y) A: 0.44712 B: 2.0002093 C: -0.578848 D: -0.35296371\n",
      "  RT Gouy: 87.3016234728225 deg (mode sep.: 26.2990243897691MHz)\n",
      " \n",
      " --- cavity tracing\n",
      " cavity cSRMX:\n",
      "  cavity is stable! Eigenvalues:\n",
      "  q=-0.6911+1.72565j, w0=764.491576753132um z=-691.1mm m=0.0470781\n",
      "  finesse : 3.43093, round-trip power loss: 0.820036 [/100]\n",
      "  opt. length: 2.7644m, FSR: 108.447568369266MHz, m: 47.0781472m\n",
      "  FWHM: 31.6088413989882MHz (pole: 15.8044206994941MHz)\n",
      "  (x) A: 0.44712 B: 2.0002093 C: -0.578848 D: -0.35296371\n",
      "  (y) A: 0.44712 B: 2.0002093 C: -0.578848 D: -0.35296371\n",
      "  RT Gouy: 87.3016234728225 deg (mode sep.: 26.2990243897691MHz)\n",
      " cavity cSRMY:\n",
      "  cavity is stable! Eigenvalues:\n",
      "  q=-0.6911+1.72565j, w0=764.491576753132um z=-691.1mm m=0.0470781\n",
      "  finesse : 3.43138, round-trip power loss: 0.82 [/100]\n",
      "  opt. length: 2.7644m, FSR: 108.447568369266MHz, m: 47.0781472m\n",
      "  FWHM: 31.6046338051164MHz (pole: 15.8023169025582MHz)\n",
      "  (x) A: 0.44712 B: 2.0002093 C: -0.578848 D: -0.35296371\n",
      "  (y) A: 0.44712 B: 2.0002093 C: -0.578848 D: -0.35296371\n",
      "  RT Gouy: 87.3016234728225 deg (mode sep.: 26.2990243897691MHz)\n",
      " \n",
      " \n",
      " computation time:  0.0180293s\n",
      "\n",
      "\n",
      "      w      max_w\n",
      "EX:  0.8235   4.8 \n",
      "EY:  0.8235   4.8 \n",
      "BS:  0.7692   3.4 \n",
      "SRM: 0.8235   4.8 \n",
      "\n",
      "EX:  diff = -3.98 mm, rdiff = -0.83 \n",
      "EY:  diff = -3.98 mm, rdiff = -0.83 \n",
      "BS:  diff = -2.63 mm, rdiff = -0.77 \n",
      "SRM: diff = -3.98 mm, rdiff = -0.83 \n",
      "\n",
      "Cavity is stable! :) \n",
      "Stability parameters: 0.0470781472  0.0470781472  0.0470781472  0.0470781472\n"
     ]
    },
    {
     "name": "stderr",
     "output_type": "stream",
     "text": [
      "\r",
      "  0% | ETA:  --:--:-- | Calculating                                            \r",
      "100% | ETA:  0:00:00 | Calculating                                             "
     ]
    }
   ],
   "source": [
    "kat = base.deepcopy()\n",
    "kat.cTSRM.remove()\n",
    "kat.parse(\"\"\"\n",
    "bp w_ex x w nEMx\n",
    "bp w_ey x w nEMy\n",
    "bp w_bs x w nBS4\n",
    "bp w_srm x w nSRM1\n",
    "\n",
    "cp cSRMX x m\n",
    "cp cSRMY x m\n",
    "cp cSRMX y m\n",
    "cp cSRMY y m \n",
    "\n",
    "noxaxis\n",
    "yaxis abs\n",
    "trace 2\n",
    "\"\"\")\n",
    "\n",
    "kat.SRM.Rc = 5\n",
    "out = kat.run()\n",
    "print(out.stdout)\n",
    "print()\n",
    "print('      w      max_w')\n",
    "print('EX:  {:.4f}   {} '.format(out['w_ex']*1e3, w_etm*1e3 ))\n",
    "print('EY:  {:.4f}   {} '.format(out['w_ey']*1e3, w_etm*1e3 ))\n",
    "print('BS:  {:.4f}   {} '.format(out['w_bs']*1e3, w_bs*1e3 ))\n",
    "print('SRM: {:.4f}   {} '.format(out['w_srm']*1e3, w_srm*1e3 ))\n",
    "\n",
    "print()\n",
    "\n",
    "print('EX:  diff = {:.2f} mm, rdiff = {:.2} '.format((out['w_ex']-w_etm)*1e3, (out['w_ex']-w_etm)/np.abs(w_etm) ) )\n",
    "print('EY:  diff = {:.2f} mm, rdiff = {:.2} '.format((out['w_ey']-w_etm)*1e3, (out['w_ey']-w_etm)/np.abs(w_etm) ) )\n",
    "print('BS:  diff = {:.2f} mm, rdiff = {:.2} '.format((out['w_bs']-w_bs)*1e3, (out['w_bs']-w_bs)/np.abs(w_bs) ) )\n",
    "print('SRM: diff = {:.2f} mm, rdiff = {:.2} '.format((out['w_srm']-w_srm)*1e3, (out['w_srm']-w_srm)/np.abs(w_srm) ) )\n",
    "print()\n",
    "\n",
    "# Checking stability\n",
    "# --------------------\n",
    "mX_x = np.abs(out['cSRMX_x_m'])\n",
    "mY_x = np.abs(out['cSRMY_x_m'])\n",
    "mX_y = np.abs(out['cSRMX_x_m'])\n",
    "mY_y = np.abs(out['cSRMY_x_m'])\n",
    "\n",
    "if (not (mX_x > -1 and mX_x < 1) or not (mX_y > -1 and mX_y < 1) or \n",
    "    not (mY_x > -1 and mY_x < 1) or not (mY_y > -1 and mY_y < 1)):\n",
    "    print('Cavity is unstable!!!!! :(')\n",
    "    print('Stability parameters: {}  {}  {}  {}'.format(mX_x, mY_x, mX_y, mY_y))\n",
    "else:\n",
    "    print('Cavity is stable! :) ')\n",
    "    print('Stability parameters: {}  {}  {}  {}'.format(mX_x, mY_x, mX_y, mY_y))\n",
    "# --------------------\n",
    "  \n",
    "    \n"
   ]
  },
  {
   "cell_type": "markdown",
   "metadata": {},
   "source": [
    "## Run 1 : Checking the IFO Tuning\n",
    "\n",
    "### Y Arm"
   ]
  },
  {
   "cell_type": "code",
   "execution_count": 5,
   "metadata": {},
   "outputs": [
    {
     "name": "stdout",
     "output_type": "stream",
     "text": [
      "--------------------------------------------------------------\n",
      "Running kat - Started at 2019-10-09 15:30:24.190658\n",
      "\n",
      "Finished in 0.0243578 seconds\n"
     ]
    },
    {
     "name": "stderr",
     "output_type": "stream",
     "text": [
      "\r",
      "  0% | ETA:  --:--:-- | Calculating                                            \r",
      "  1% | ETA:  0:00:00 | Calculating                                             \r",
      "  2% | ETA:  0:00:00 | Calculating                                             \r",
      "  3% | ETA:  0:00:00 | Calculating                                             \r",
      "  4% | ETA:  0:00:00 | Calculating                                             \r",
      "  5% | ETA:  0:00:00 | Calculating                                             \r",
      "  6% | ETA:  0:00:00 | Calculating                                             \r",
      "  7% | ETA:  0:00:00 | Calculating                                             \r",
      "  8% | ETA:  0:00:00 | Calculating                                             \r",
      "  9% | ETA:  0:00:00 | Calculating                                             \r",
      " 10% | ETA:  0:00:00 | Calculating                                             \r",
      " 11% | ETA:  0:00:00 | Calculating                                             \r",
      " 12% | ETA:  0:00:00 | Calculating                                             \r",
      " 13% | ETA:  0:00:00 | Calculating                                             \r",
      " 14% | ETA:  0:00:00 | Calculating                                             \r",
      " 15% | ETA:  0:00:00 | Calculating                                             \r",
      " 16% | ETA:  0:00:00 | Calculating                                             \r",
      " 17% | ETA:  0:00:00 | Calculating                                             \r",
      " 18% | ETA:  0:00:00 | Calculating                                             \r",
      " 19% | ETA:  0:00:00 | Calculating                                             \r",
      " 20% | ETA:  0:00:00 | Calculating                                             \r",
      " 21% | ETA:  0:00:00 | Calculating                                             \r",
      " 22% | ETA:  0:00:00 | Calculating                                             \r",
      " 23% | ETA:  0:00:00 | Calculating                                             \r",
      " 24% | ETA:  0:00:00 | Calculating                                             \r",
      " 25% | ETA:  0:00:00 | Calculating                                             \r",
      " 26% | ETA:  0:00:00 | Calculating                                             \r",
      " 27% | ETA:  0:00:00 | Calculating                                             \r",
      " 28% | ETA:  0:00:00 | Calculating                                             \r",
      " 29% | ETA:  0:00:00 | Calculating                                             \r",
      " 30% | ETA:  0:00:00 | Calculating                                             \r",
      " 31% | ETA:  0:00:00 | Calculating                                             \r",
      " 32% | ETA:  0:00:00 | Calculating                                             \r",
      " 33% | ETA:  0:00:00 | Calculating                                             \r",
      " 34% | ETA:  0:00:00 | Calculating                                             \r",
      " 35% | ETA:  0:00:00 | Calculating                                             \r",
      " 36% | ETA:  0:00:00 | Calculating                                             \r",
      " 37% | ETA:  0:00:00 | Calculating                                             \r",
      " 38% | ETA:  0:00:00 | Calculating                                             \r",
      " 39% | ETA:  0:00:00 | Calculating                                             \r",
      " 40% | ETA:  0:00:00 | Calculating                                             \r",
      " 41% | ETA:  0:00:00 | Calculating                                             \r",
      " 42% | ETA:  0:00:00 | Calculating                                             \r",
      " 43% | ETA:  0:00:00 | Calculating                                             \r",
      " 44% | ETA:  0:00:00 | Calculating                                             \r",
      " 45% | ETA:  0:00:00 | Calculating                                             \r",
      " 46% | ETA:  0:00:00 | Calculating                                             \r",
      " 47% | ETA:  0:00:00 | Calculating                                             \r",
      " 48% | ETA:  0:00:00 | Calculating                                             \r",
      " 49% | ETA:  0:00:00 | Calculating                                             \r",
      " 50% | ETA:  0:00:00 | Calculating                                             \r",
      " 51% | ETA:  0:00:00 | Calculating                                             \r",
      " 52% | ETA:  0:00:00 | Calculating                                             \r",
      " 53% | ETA:  0:00:00 | Calculating                                             \r",
      " 54% | ETA:  0:00:00 | Calculating                                             \r",
      " 55% | ETA:  0:00:00 | Calculating                                             \r",
      " 56% | ETA:  0:00:00 | Calculating                                             \r",
      " 57% | ETA:  0:00:00 | Calculating                                             \r",
      " 58% | ETA:  0:00:00 | Calculating                                             \r",
      " 59% | ETA:  0:00:00 | Calculating                                             \r",
      " 60% | ETA:  0:00:00 | Calculating                                             \r",
      " 61% | ETA:  0:00:00 | Calculating                                             \r",
      " 62% | ETA:  0:00:00 | Calculating                                             \r",
      " 63% | ETA:  0:00:00 | Calculating                                             \r",
      " 64% | ETA:  0:00:00 | Calculating                                             \r",
      " 65% | ETA:  0:00:00 | Calculating                                             \r",
      " 66% | ETA:  0:00:00 | Calculating                                             \r",
      " 67% | ETA:  0:00:00 | Calculating                                             \r",
      " 68% | ETA:  0:00:00 | Calculating                                             \r",
      " 69% | ETA:  0:00:00 | Calculating                                             \r",
      " 70% | ETA:  0:00:00 | Calculating                                             \r",
      " 71% | ETA:  0:00:00 | Calculating                                             \r",
      " 72% | ETA:  0:00:00 | Calculating                                             \r",
      " 73% | ETA:  0:00:00 | Calculating                                             \r",
      " 74% | ETA:  0:00:00 | Calculating                                             \r",
      " 75% | ETA:  0:00:00 | Calculating                                             \r",
      " 76% | ETA:  0:00:00 | Calculating                                             \r",
      " 77% | ETA:  0:00:00 | Calculating                                             \r",
      " 78% | ETA:  0:00:00 | Calculating                                             \r",
      " 79% | ETA:  0:00:00 | Calculating                                             \r",
      " 80% | ETA:  0:00:00 | Calculating                                             \r",
      " 81% | ETA:  0:00:00 | Calculating                                             \r",
      " 82% | ETA:  0:00:00 | Calculating                                             \r",
      " 83% | ETA:  0:00:00 | Calculating                                             \r",
      " 84% | ETA:  0:00:00 | Calculating                                             \r",
      " 85% | ETA:  0:00:00 | Calculating                                             \r",
      " 86% | ETA:  0:00:00 | Calculating                                             \r",
      " 87% | ETA:  0:00:00 | Calculating                                             \r",
      " 88% | ETA:  0:00:00 | Calculating                                             \r",
      " 89% | ETA:  0:00:00 | Calculating                                             \r",
      " 90% | ETA:  0:00:00 | Calculating                                             \r",
      " 91% | ETA:  0:00:00 | Calculating                                             \r",
      " 92% | ETA:  0:00:00 | Calculating                                             \r",
      " 93% | ETA:  0:00:00 | Calculating                                             \r",
      " 94% | ETA:  0:00:00 | Calculating                                             \r",
      " 95% | ETA:  0:00:00 | Calculating                                             \r",
      " 96% | ETA:  0:00:00 | Calculating                                             \r",
      " 97% | ETA:  0:00:00 | Calculating                                             \r",
      " 98% | ETA:  0:00:00 | Calculating                                             \r",
      " 99% | ETA:  0:00:00 | Calculating                                             \r",
      "100% | ETA:  0:00:00 | Calculating                                             "
     ]
    },
    {
     "data": {
      "image/png": "[encoded data removed]",
      "text/plain": [
       "<Figure size 504x216 with 1 Axes>"
      ]
     },
     "metadata": {
      "needs_background": "light"
     },
     "output_type": "display_data"
    }
   ],
   "source": [
    "kat = base.deepcopy()\n",
    "kat.parse(\"\"\"\n",
    "xaxis EY phi lin -100 100 200\n",
    "yaxis abs\n",
    "hd PY 0 nOut1 nOut2\n",
    "\"\"\")\n",
    "out = kat.run()\n",
    "fig = plt.figure(figsize=(7,3))\n",
    "ax = fig.add_subplot(111)\n",
    "ax.plot(out.x, out['PY'])\n",
    "ax.set_xlim(out.x.min(),out.x.max())\n",
    "ax.grid()\n",
    "ax.set_title('Y-ARM')\n",
    "ax.set_xlabel('Tuning [deg]')\n",
    "ax.set_ylabel('Power [W]')\n",
    "plt.show(fig)"
   ]
  },
  {
   "cell_type": "markdown",
   "metadata": {},
   "source": [
    "### X Arm tuning "
   ]
  },
  {
   "cell_type": "code",
   "execution_count": 6,
   "metadata": {},
   "outputs": [
    {
     "name": "stdout",
     "output_type": "stream",
     "text": [
      "--------------------------------------------------------------\n",
      "Running kat - Started at 2019-10-09 15:30:24.349536\n",
      "\n",
      "Finished in 0.025929 seconds\n"
     ]
    },
    {
     "name": "stderr",
     "output_type": "stream",
     "text": [
      "\r",
      "  0% | ETA:  --:--:-- | Calculating                                            \r",
      "  1% | ETA:  0:00:00 | Calculating                                             \r",
      "  2% | ETA:  0:00:00 | Calculating                                             \r",
      "  3% | ETA:  0:00:00 | Calculating                                             \r",
      "  4% | ETA:  0:00:00 | Calculating                                             \r",
      "  5% | ETA:  0:00:00 | Calculating                                             \r",
      "  6% | ETA:  0:00:00 | Calculating                                             \r",
      "  7% | ETA:  0:00:00 | Calculating                                             \r",
      "  8% | ETA:  0:00:00 | Calculating                                             \r",
      "  9% | ETA:  0:00:00 | Calculating                                             \r",
      " 10% | ETA:  0:00:00 | Calculating                                             \r",
      " 11% | ETA:  0:00:00 | Calculating                                             \r",
      " 12% | ETA:  0:00:00 | Calculating                                             \r",
      " 13% | ETA:  0:00:00 | Calculating                                             \r",
      " 14% | ETA:  0:00:00 | Calculating                                             \r",
      " 15% | ETA:  0:00:00 | Calculating                                             \r",
      " 16% | ETA:  0:00:00 | Calculating                                             \r",
      " 17% | ETA:  0:00:00 | Calculating                                             \r",
      " 18% | ETA:  0:00:00 | Calculating                                             \r",
      " 19% | ETA:  0:00:00 | Calculating                                             \r",
      " 20% | ETA:  0:00:00 | Calculating                                             \r",
      " 21% | ETA:  0:00:00 | Calculating                                             \r",
      " 22% | ETA:  0:00:00 | Calculating                                             \r",
      " 23% | ETA:  0:00:00 | Calculating                                             \r",
      " 24% | ETA:  0:00:00 | Calculating                                             \r",
      " 25% | ETA:  0:00:00 | Calculating                                             \r",
      " 26% | ETA:  0:00:00 | Calculating                                             \r",
      " 27% | ETA:  0:00:00 | Calculating                                             \r",
      " 28% | ETA:  0:00:00 | Calculating                                             \r",
      " 29% | ETA:  0:00:00 | Calculating                                             \r",
      " 30% | ETA:  0:00:00 | Calculating                                             \r",
      " 31% | ETA:  0:00:00 | Calculating                                             \r",
      " 32% | ETA:  0:00:00 | Calculating                                             \r",
      " 33% | ETA:  0:00:00 | Calculating                                             \r",
      " 34% | ETA:  0:00:00 | Calculating                                             \r",
      " 35% | ETA:  0:00:00 | Calculating                                             \r",
      " 36% | ETA:  0:00:00 | Calculating                                             \r",
      " 37% | ETA:  0:00:00 | Calculating                                             \r",
      " 38% | ETA:  0:00:00 | Calculating                                             \r",
      " 39% | ETA:  0:00:00 | Calculating                                             \r",
      " 40% | ETA:  0:00:00 | Calculating                                             \r",
      " 41% | ETA:  0:00:00 | Calculating                                             \r",
      " 42% | ETA:  0:00:00 | Calculating                                             \r",
      " 43% | ETA:  0:00:00 | Calculating                                             \r",
      " 44% | ETA:  0:00:00 | Calculating                                             \r",
      " 45% | ETA:  0:00:00 | Calculating                                             \r",
      " 46% | ETA:  0:00:00 | Calculating                                             \r",
      " 47% | ETA:  0:00:00 | Calculating                                             \r",
      " 48% | ETA:  0:00:00 | Calculating                                             \r",
      " 49% | ETA:  0:00:00 | Calculating                                             \r",
      " 50% | ETA:  0:00:00 | Calculating                                             \r",
      " 51% | ETA:  0:00:00 | Calculating                                             \r",
      " 52% | ETA:  0:00:00 | Calculating                                             \r",
      " 53% | ETA:  0:00:00 | Calculating                                             \r",
      " 54% | ETA:  0:00:00 | Calculating                                             \r",
      " 55% | ETA:  0:00:00 | Calculating                                             \r",
      " 56% | ETA:  0:00:00 | Calculating                                             \r",
      " 57% | ETA:  0:00:00 | Calculating                                             \r",
      " 58% | ETA:  0:00:00 | Calculating                                             \r",
      " 59% | ETA:  0:00:00 | Calculating                                             \r",
      " 60% | ETA:  0:00:00 | Calculating                                             \r",
      " 61% | ETA:  0:00:00 | Calculating                                             \r",
      " 62% | ETA:  0:00:00 | Calculating                                             \r",
      " 63% | ETA:  0:00:00 | Calculating                                             \r",
      " 64% | ETA:  0:00:00 | Calculating                                             \r",
      " 65% | ETA:  0:00:00 | Calculating                                             \r",
      " 66% | ETA:  0:00:00 | Calculating                                             \r",
      " 67% | ETA:  0:00:00 | Calculating                                             \r",
      " 68% | ETA:  0:00:00 | Calculating                                             \r",
      " 69% | ETA:  0:00:00 | Calculating                                             \r",
      " 70% | ETA:  0:00:00 | Calculating                                             \r",
      " 71% | ETA:  0:00:00 | Calculating                                             \r",
      " 72% | ETA:  0:00:00 | Calculating                                             \r",
      " 73% | ETA:  0:00:00 | Calculating                                             \r",
      " 74% | ETA:  0:00:00 | Calculating                                             \r",
      " 75% | ETA:  0:00:00 | Calculating                                             \r",
      " 76% | ETA:  0:00:00 | Calculating                                             \r",
      " 77% | ETA:  0:00:00 | Calculating                                             \r",
      " 78% | ETA:  0:00:00 | Calculating                                             \r",
      " 79% | ETA:  0:00:00 | Calculating                                             \r",
      " 80% | ETA:  0:00:00 | Calculating                                             \r",
      " 81% | ETA:  0:00:00 | Calculating                                             \r",
      " 82% | ETA:  0:00:00 | Calculating                                             \r",
      " 83% | ETA:  0:00:00 | Calculating                                             \r",
      " 84% | ETA:  0:00:00 | Calculating                                             \r",
      " 85% | ETA:  0:00:00 | Calculating                                             \r",
      " 86% | ETA:  0:00:00 | Calculating                                             \r",
      " 87% | ETA:  0:00:00 | Calculating                                             \r",
      " 88% | ETA:  0:00:00 | Calculating                                             \r",
      " 89% | ETA:  0:00:00 | Calculating                                             \r",
      " 90% | ETA:  0:00:00 | Calculating                                             \r",
      " 91% | ETA:  0:00:00 | Calculating                                             \r",
      " 92% | ETA:  0:00:00 | Calculating                                             \r",
      " 93% | ETA:  0:00:00 | Calculating                                             \r",
      " 94% | ETA:  0:00:00 | Calculating                                             \r",
      " 95% | ETA:  0:00:00 | Calculating                                             \r",
      " 96% | ETA:  0:00:00 | Calculating                                             \r",
      " 97% | ETA:  0:00:00 | Calculating                                             \r",
      " 98% | ETA:  0:00:00 | Calculating                                             \r",
      " 99% | ETA:  0:00:00 | Calculating                                             \r",
      "100% | ETA:  0:00:00 | Calculating                                             "
     ]
    },
    {
     "data": {
      "image/png": "[encoded data removed]",
      "text/plain": [
       "<Figure size 504x216 with 1 Axes>"
      ]
     },
     "metadata": {
      "needs_background": "light"
     },
     "output_type": "display_data"
    }
   ],
   "source": [
    "kat = base.deepcopy()\n",
    "kat.parse(\"\"\"\n",
    "xaxis EX phi lin -100 100 200\n",
    "yaxis abs\n",
    "hd P_X 0 nOut1 nOut2\n",
    "\"\"\")\n",
    "out = kat.run()\n",
    "\n",
    "fig = plt.figure(figsize=(7,3))\n",
    "ax = fig.add_subplot(111)\n",
    "ax.plot(out.x, out['P_X'])\n",
    "ax.set_xlim(out.x.min(),out.x.max())\n",
    "ax.grid()\n",
    "ax.set_title('X-ARM')\n",
    "ax.set_xlabel('Tuning [deg]')\n",
    "ax.set_ylabel('Power [W]')\n",
    "plt.show(fig)"
   ]
  },
  {
   "cell_type": "markdown",
   "metadata": {},
   "source": [
    "### HOM content test in the SRC"
   ]
  },
  {
   "cell_type": "code",
   "execution_count": 7,
   "metadata": {},
   "outputs": [
    {
     "name": "stdout",
     "output_type": "stream",
     "text": [
      "Parsing `tem Laser 1 0 1.0 0.0` into pykat object not implemented yet, added as extra line.\n",
      "Parsing `tem Laser 2 0 1.0 0.0` into pykat object not implemented yet, added as extra line.\n",
      "Parsing `tem Laser 3 0 1.0 0.0` into pykat object not implemented yet, added as extra line.\n",
      "Parsing `tem Laser 4 0 1.0 0.0` into pykat object not implemented yet, added as extra line.\n",
      "--------------------------------------------------------------\n",
      "Running kat - Started at 2019-10-09 15:30:24.506744\n"
     ]
    },
    {
     "name": "stderr",
     "output_type": "stream",
     "text": [
      "\r",
      "  0% | ETA:  --:--:-- | Calculating                                            \r",
      "  1% | ETA:  0:00:00 | Calculating                                             \r",
      "  2% | ETA:  0:00:00 | Calculating                                             \r",
      "  3% | ETA:  0:00:00 | Calculating                                             \r",
      "  4% | ETA:  0:00:00 | Calculating                                             \r",
      "  5% | ETA:  0:00:00 | Calculating                                             \r",
      "  6% | ETA:  0:00:00 | Calculating                                             \r",
      "  7% | ETA:  0:00:00 | Calculating                                             \r",
      "  8% | ETA:  0:00:00 | Calculating                                             \r",
      "  9% | ETA:  0:00:00 | Calculating                                             \r",
      " 10% | ETA:  0:00:00 | Calculating                                             \r",
      " 11% | ETA:  0:00:00 | Calculating                                             \r",
      " 12% | ETA:  0:00:00 | Calculating                                             \r",
      " 13% | ETA:  0:00:00 | Calculating                                             \r",
      " 14% | ETA:  0:00:00 | Calculating                                             \r",
      " 15% | ETA:  0:00:00 | Calculating                                             \r",
      " 16% | ETA:  0:00:00 | Calculating                                             \r",
      " 17% | ETA:  0:00:00 | Calculating                                             \r",
      " 18% | ETA:  0:00:00 | Calculating                                             \r",
      " 19% | ETA:  0:00:00 | Calculating                                             \r",
      " 20% | ETA:  0:00:00 | Calculating                                             \r",
      " 21% | ETA:  0:00:00 | Calculating                                             \r",
      " 22% | ETA:  0:00:00 | Calculating                                             \r",
      " 23% | ETA:  0:00:00 | Calculating                                             \r",
      " 24% | ETA:  0:00:00 | Calculating                                             \r",
      " 25% | ETA:  0:00:00 | Calculating                                             \r",
      " 26% | ETA:  0:00:00 | Calculating                                             \r",
      " 27% | ETA:  0:00:00 | Calculating                                             \r",
      " 28% | ETA:  0:00:00 | Calculating                                             \r",
      " 29% | ETA:  0:00:00 | Calculating                                             \r",
      " 30% | ETA:  0:00:00 | Calculating                                             \r",
      " 31% | ETA:  0:00:00 | Calculating                                             \r",
      " 32% | ETA:  0:00:00 | Calculating                                             \r",
      " 33% | ETA:  0:00:00 | Calculating                                             \r",
      " 34% | ETA:  0:00:00 | Calculating                                             \r",
      " 35% | ETA:  0:00:00 | Calculating                                             \r",
      " 36% | ETA:  0:00:00 | Calculating                                             \r",
      " 37% | ETA:  0:00:00 | Calculating                                             \r",
      " 38% | ETA:  0:00:00 | Calculating                                             \r",
      " 39% | ETA:  0:00:00 | Calculating                                             \r",
      " 40% | ETA:  0:00:00 | Calculating                                             \r",
      " 41% | ETA:  0:00:00 | Calculating                                             \r",
      " 42% | ETA:  0:00:00 | Calculating                                             \r",
      " 43% | ETA:  0:00:00 | Calculating                                             \r",
      " 44% | ETA:  0:00:00 | Calculating                                             \r",
      " 45% | ETA:  0:00:00 | Calculating                                             \r",
      " 46% | ETA:  0:00:00 | Calculating                                             \r",
      " 47% | ETA:  0:00:00 | Calculating                                             \r",
      " 48% | ETA:  0:00:00 | Calculating                                             \r",
      " 49% | ETA:  0:00:00 | Calculating                                             \r",
      " 50% | ETA:  0:00:00 | Calculating                                             \r",
      " 51% | ETA:  0:00:00 | Calculating                                             \r",
      " 52% | ETA:  0:00:00 | Calculating                                             \r",
      " 53% | ETA:  0:00:00 | Calculating                                             \r",
      " 54% | ETA:  0:00:00 | Calculating                                             \r",
      " 55% | ETA:  0:00:00 | Calculating                                             \r",
      " 56% | ETA:  0:00:00 | Calculating                                             \r",
      " 57% | ETA:  0:00:00 | Calculating                                             \r",
      " 58% | ETA:  0:00:00 | Calculating                                             \r",
      " 59% | ETA:  0:00:00 | Calculating                                             \r",
      " 60% | ETA:  0:00:00 | Calculating                                             \r",
      " 61% | ETA:  0:00:00 | Calculating                                             \r",
      " 62% | ETA:  0:00:00 | Calculating                                             \r",
      " 63% | ETA:  0:00:00 | Calculating                                             \r",
      " 64% | ETA:  0:00:00 | Calculating                                             \r",
      " 65% | ETA:  0:00:00 | Calculating                                             \r",
      " 66% | ETA:  0:00:00 | Calculating                                             \r",
      " 67% | ETA:  0:00:00 | Calculating                                             \r",
      " 68% | ETA:  0:00:00 | Calculating                                             \r",
      " 69% | ETA:  0:00:00 | Calculating                                             \r",
      " 70% | ETA:  0:00:00 | Calculating                                             \r",
      " 71% | ETA:  0:00:00 | Calculating                                             \r",
      " 72% | ETA:  0:00:00 | Calculating                                             \r",
      " 73% | ETA:  0:00:00 | Calculating                                             \r",
      " 74% | ETA:  0:00:00 | Calculating                                             \r",
      " 75% | ETA:  0:00:00 | Calculating                                             \r",
      " 76% | ETA:  0:00:00 | Calculating                                             \r",
      " 77% | ETA:  0:00:00 | Calculating                                             \r",
      " 78% | ETA:  0:00:00 | Calculating                                             \r",
      " 79% | ETA:  0:00:00 | Calculating                                             \r",
      " 80% | ETA:  0:00:00 | Calculating                                             \r",
      " 81% | ETA:  0:00:00 | Calculating                                             \r",
      " 82% | ETA:  0:00:00 | Calculating                                             \r",
      " 83% | ETA:  0:00:00 | Calculating                                             \r",
      " 84% | ETA:  0:00:00 | Calculating                                             \r",
      " 85% | ETA:  0:00:00 | Calculating                                             \r",
      " 86% | ETA:  0:00:00 | Calculating                                             \r",
      " 87% | ETA:  0:00:00 | Calculating                                             \r",
      " 88% | ETA:  0:00:00 | Calculating                                             \r",
      " 89% | ETA:  0:00:00 | Calculating                                             \r",
      " 90% | ETA:  0:00:00 | Calculating                                             \r",
      " 91% | ETA:  0:00:00 | Calculating                                             \r",
      " 92% | ETA:  0:00:00 | Calculating                                             \r",
      " 93% | ETA:  0:00:00 | Calculating                                             \r",
      " 94% | ETA:  0:00:00 | Calculating                                             \r",
      " 95% | ETA:  0:00:00 | Calculating                                             \r",
      " 96% | ETA:  0:00:00 | Calculating                                             \r",
      " 97% | ETA:  0:00:00 | Calculating                                             \r",
      " 98% | ETA:  0:00:00 | Calculating                                             \r",
      " 99% | ETA:  0:00:00 | Calculating                                             \r",
      "100% | ETA:  0:00:00 | Calculating                                             "
     ]
    },
    {
     "name": "stdout",
     "output_type": "stream",
     "text": [
      "\n",
      "Finished in 0.358695 seconds\n"
     ]
    },
    {
     "data": {
      "image/png": "[encoded data removed]",
      "text/plain": [
       "<Figure size 600x400 with 1 Axes>"
      ]
     },
     "metadata": {
      "needs_background": "light"
     },
     "output_type": "display_data"
    }
   ],
   "source": [
    "kat = base.deepcopy()\n",
    "kat.maxtem = 4\n",
    "kat.parse(\"\"\"\n",
    "tem Laser  1 0 1.0 0.0\n",
    "tem Laser  2 0 1.0 0.0\n",
    "tem Laser  3 0 1.0 0.0\n",
    "tem Laser  4 0 1.0 0.0\n",
    "\n",
    "xaxis SRM phi lin -90 90 200\n",
    "yaxis abs\n",
    "\n",
    "pd P_HOM nSRM1*\n",
    "\n",
    "ad C 0 0 0 nSRM1*\n",
    "ad C10 1 0 0 nSRM1*\n",
    "ad C20 2 0 0 nSRM1*\n",
    "ad C30 3 0 0 nSRM1*\n",
    "ad C40 4 0 0 nSRM1*\n",
    "\n",
    "\n",
    "\"\"\")\n",
    "out = kat.run()\n",
    "\n",
    "fig = plt.figure(dpi=100)\n",
    "ax = fig.add_subplot(111)\n",
    "ax.plot(out.x, out['C'],label = 'HG00')\n",
    "ax.plot(out.x, out['C10'],label = 'HG10')\n",
    "ax.plot(out.x, out['C20'],label = 'HG20')\n",
    "ax.plot(out.x, out['C30'],label = 'HG30')\n",
    "ax.plot(out.x, out['C40'],label = 'HG40')\n",
    "\n",
    "ax.set_xlim(out.x.min(),out.x.max())\n",
    "ax.grid()\n",
    "ax.legend()\n",
    "ax.set_title('SRC mode content')\n",
    "ax.set_xlabel('SRM tuning [deg]')\n",
    "ax.set_ylabel('au')\n",
    "plt.show(fig)"
   ]
  },
  {
   "cell_type": "markdown",
   "metadata": {},
   "source": [
    "## Splitting frequency test\n",
    "\n",
    "Note : Maxtem is turned off because we have not yet optimised the RoCs for TSRM"
   ]
  },
  {
   "cell_type": "code",
   "execution_count": 17,
   "metadata": {
    "scrolled": false
   },
   "outputs": [
    {
     "name": "stdout",
     "output_type": "stream",
     "text": [
      "--------------------------------------------------------------\n",
      "Running kat - Started at 2019-10-09 15:33:40.748885\n",
      "\n",
      "Finished in 0.0513082 seconds\n"
     ]
    },
    {
     "name": "stderr",
     "output_type": "stream",
     "text": [
      "\r",
      "  0% | ETA:  --:--:-- | Calculating                                            \r",
      "  1% | ETA:  0:00:00 | Calculating                                             \r",
      "  2% | ETA:  0:00:00 | Calculating                                             \r",
      "  3% | ETA:  0:00:00 | Calculating                                             \r",
      "  4% | ETA:  0:00:00 | Calculating                                             \r",
      "  5% | ETA:  0:00:00 | Calculating                                             \r",
      "  6% | ETA:  0:00:00 | Calculating                                             \r",
      "  7% | ETA:  0:00:00 | Calculating                                             \r",
      "  8% | ETA:  0:00:00 | Calculating                                             \r",
      "  9% | ETA:  0:00:00 | Calculating                                             \r",
      " 10% | ETA:  0:00:00 | Calculating                                             \r",
      " 11% | ETA:  0:00:00 | Calculating                                             \r",
      " 12% | ETA:  0:00:00 | Calculating                                             \r",
      " 13% | ETA:  0:00:00 | Calculating                                             \r",
      " 14% | ETA:  0:00:00 | Calculating                                             \r",
      " 15% | ETA:  0:00:00 | Calculating                                             \r",
      " 16% | ETA:  0:00:00 | Calculating                                             \r",
      " 17% | ETA:  0:00:00 | Calculating                                             \r",
      " 18% | ETA:  0:00:00 | Calculating                                             \r",
      " 19% | ETA:  0:00:00 | Calculating                                             \r",
      " 20% | ETA:  0:00:00 | Calculating                                             \r",
      " 21% | ETA:  0:00:00 | Calculating                                             \r",
      " 22% | ETA:  0:00:00 | Calculating                                             \r",
      " 23% | ETA:  0:00:00 | Calculating                                             \r",
      " 24% | ETA:  0:00:00 | Calculating                                             \r",
      " 25% | ETA:  0:00:00 | Calculating                                             \r",
      " 26% | ETA:  0:00:00 | Calculating                                             \r",
      " 27% | ETA:  0:00:00 | Calculating                                             \r",
      " 28% | ETA:  0:00:00 | Calculating                                             \r",
      " 29% | ETA:  0:00:00 | Calculating                                             \r",
      " 30% | ETA:  0:00:00 | Calculating                                             \r",
      " 31% | ETA:  0:00:00 | Calculating                                             \r",
      " 32% | ETA:  0:00:00 | Calculating                                             \r",
      " 33% | ETA:  0:00:00 | Calculating                                             \r",
      " 34% | ETA:  0:00:00 | Calculating                                             \r",
      " 35% | ETA:  0:00:00 | Calculating                                             \r",
      " 36% | ETA:  0:00:00 | Calculating                                             \r",
      " 37% | ETA:  0:00:00 | Calculating                                             \r",
      " 38% | ETA:  0:00:00 | Calculating                                             \r",
      " 39% | ETA:  0:00:00 | Calculating                                             \r",
      " 40% | ETA:  0:00:00 | Calculating                                             \r",
      " 41% | ETA:  0:00:00 | Calculating                                             \r",
      " 42% | ETA:  0:00:00 | Calculating                                             \r",
      " 43% | ETA:  0:00:00 | Calculating                                             \r",
      " 44% | ETA:  0:00:00 | Calculating                                             \r",
      " 45% | ETA:  0:00:00 | Calculating                                             \r",
      " 46% | ETA:  0:00:00 | Calculating                                             \r",
      " 47% | ETA:  0:00:00 | Calculating                                             \r",
      " 48% | ETA:  0:00:00 | Calculating                                             \r",
      " 49% | ETA:  0:00:00 | Calculating                                             \r",
      " 50% | ETA:  0:00:00 | Calculating                                             \r",
      " 51% | ETA:  0:00:00 | Calculating                                             \r",
      " 52% | ETA:  0:00:00 | Calculating                                             \r",
      " 53% | ETA:  0:00:00 | Calculating                                             \r",
      " 54% | ETA:  0:00:00 | Calculating                                             \r",
      " 55% | ETA:  0:00:00 | Calculating                                             \r",
      " 56% | ETA:  0:00:00 | Calculating                                             \r",
      " 57% | ETA:  0:00:00 | Calculating                                             \r",
      " 58% | ETA:  0:00:00 | Calculating                                             \r",
      " 59% | ETA:  0:00:00 | Calculating                                             \r",
      " 60% | ETA:  0:00:00 | Calculating                                             \r",
      " 61% | ETA:  0:00:00 | Calculating                                             \r",
      " 62% | ETA:  0:00:00 | Calculating                                             \r",
      " 63% | ETA:  0:00:00 | Calculating                                             \r",
      " 64% | ETA:  0:00:00 | Calculating                                             \r",
      " 65% | ETA:  0:00:00 | Calculating                                             \r",
      " 66% | ETA:  0:00:00 | Calculating                                             \r",
      " 67% | ETA:  0:00:00 | Calculating                                             \r",
      " 68% | ETA:  0:00:00 | Calculating                                             \r",
      " 69% | ETA:  0:00:00 | Calculating                                             \r",
      " 70% | ETA:  0:00:00 | Calculating                                             \r",
      " 71% | ETA:  0:00:00 | Calculating                                             \r",
      " 72% | ETA:  0:00:00 | Calculating                                             \r",
      " 73% | ETA:  0:00:00 | Calculating                                             \r",
      " 74% | ETA:  0:00:00 | Calculating                                             \r",
      " 75% | ETA:  0:00:00 | Calculating                                             \r",
      " 76% | ETA:  0:00:00 | Calculating                                             \r",
      " 77% | ETA:  0:00:00 | Calculating                                             \r",
      " 78% | ETA:  0:00:00 | Calculating                                             \r",
      " 79% | ETA:  0:00:00 | Calculating                                             \r",
      " 80% | ETA:  0:00:00 | Calculating                                             \r",
      " 81% | ETA:  0:00:00 | Calculating                                             \r",
      " 82% | ETA:  0:00:00 | Calculating                                             \r",
      " 83% | ETA:  0:00:00 | Calculating                                             \r",
      " 84% | ETA:  0:00:00 | Calculating                                             \r",
      " 85% | ETA:  0:00:00 | Calculating                                             \r",
      " 86% | ETA:  0:00:00 | Calculating                                             \r",
      " 87% | ETA:  0:00:00 | Calculating                                             \r",
      " 88% | ETA:  0:00:00 | Calculating                                             \r",
      " 89% | ETA:  0:00:00 | Calculating                                             \r",
      " 90% | ETA:  0:00:00 | Calculating                                             \r",
      " 91% | ETA:  0:00:00 | Calculating                                             \r",
      " 92% | ETA:  0:00:00 | Calculating                                             \r",
      " 93% | ETA:  0:00:00 | Calculating                                             \r",
      " 94% | ETA:  0:00:00 | Calculating                                             \r",
      " 95% | ETA:  0:00:00 | Calculating                                             \r",
      " 96% | ETA:  0:00:00 | Calculating                                             \r",
      " 97% | ETA:  0:00:00 | Calculating                                             \r",
      " 98% | ETA:  0:00:00 | Calculating                                             \r",
      " 99% | ETA:  0:00:00 | Calculating                                             \r",
      "100% | ETA:  0:00:00 | Calculating                                             "
     ]
    },
    {
     "data": {
      "image/png": "[encoded data removed]",
      "text/plain": [
       "<Figure size 432x288 with 1 Axes>"
      ]
     },
     "metadata": {
      "needs_background": "light"
     },
     "output_type": "display_data"
    },
    {
     "name": "stdout",
     "output_type": "stream",
     "text": [
      "\n",
      "------------------------------------------------------------------------\n",
      "                     FINESSE 2.2                (build 2.2-31-ge1141681)\n",
      "       o_.-=.        Frequency domain INterferomEter Simulation SoftwarE\n",
      "      (\\'\".\\|        06.03.2019         http://www.gwoptics.org/finesse/\n",
      "      .>' (_--.      \n",
      "   _=/d   ,^\\        Input file /var/folders/k1/yts33d_93v1_9yd1768nkwph0000gn/T/tmpr3or2_z5.kat,\n",
      "  ~~ \\)-'   '        Output file /var/folders/k1/yts33d_93v1_9yd1768nkwph0000gn/T/tmpr3or2_z5.out,\n",
      "     / |             Gnuplot file /var/folders/k1/yts33d_93v1_9yd1768nkwph0000gn/T/tmpr3or2_z5.gnu \n",
      "    '  '                                        Wed Oct  9 15:33:40 2019\n",
      "------------------------------------------------------------------------\n",
      " \n",
      " computation time:  0.0376119s\n",
      "\n"
     ]
    }
   ],
   "source": [
    "kat = base.deepcopy()\n",
    "kat.maxtem = 'off'\n",
    "kat.parse(\"\"\"\n",
    "pd P nSRM1\n",
    "xaxis Laser f lin -10M 10M 1000\n",
    "#xaxis SRM phi lin 40 50 200\n",
    "\n",
    "yaxis abs\n",
    "# trace 2\n",
    "#maxtem off\n",
    "\"\"\")\n",
    "kat.eom1.midx = 0\n",
    "\n",
    "dMICH = 0.002\n",
    "kat.EX.phi = kat.EX.phi.value + dMICH\n",
    "kat.EY.phi = kat.EY.phi.value - dMICH\n",
    "\n",
    "out = kat.run()\n",
    "out.plot()\n",
    "\n",
    "print(out.stdout)"
   ]
  },
  {
   "cell_type": "markdown",
   "metadata": {},
   "source": [
    "# Testing swept sine technique of measurement\n",
    "\n",
    "## EOM frequency variation"
   ]
  },
  {
   "cell_type": "code",
   "execution_count": 9,
   "metadata": {},
   "outputs": [
    {
     "name": "stdout",
     "output_type": "stream",
     "text": [
      "\u001b[93m\n",
      "Warning:\n",
      "put command component `put eom_test f $x1` does not have a\n",
      "parameter `f`\n",
      "\u001b[0m\n",
      "\u001b[93m\n",
      "Parsing `put eom_test f $x1` into pykat object not implemented\n",
      "yet, added as extra line.\n",
      "\u001b[0m\n",
      "--------------------------------------------------------------\n",
      "Running kat - Started at 2019-10-09 15:30:25.239586\n",
      "\u001b[91m\n",
      "--------------------------------------------------------------\n",
      "Error from Finesse (See 'pykat.lastErrorKat' for kat object):\n",
      " \n",
      "Error:  photodetector eom_test not connected to\n",
      "interferometer.\n",
      "--------------------------------------------------------------\n",
      "\u001b[0m\n",
      "\n",
      "Finished in 0.0176399 seconds\n"
     ]
    },
    {
     "ename": "SystemExit",
     "evalue": "1",
     "output_type": "error",
     "traceback": [
      "An exception has occurred, use %tb to see the full traceback.\n",
      "\u001b[0;31mSystemExit\u001b[0m\u001b[0;31m:\u001b[0m 1\n"
     ]
    },
    {
     "name": "stderr",
     "output_type": "stream",
     "text": [
      "/miniconda3/envs/py37env/lib/python3.7/site-packages/IPython/core/interactiveshell.py:3299: UserWarning: To exit: use 'exit', 'quit', or Ctrl-D.\n",
      "  warn(\"To exit: use 'exit', 'quit', or Ctrl-D.\", stacklevel=1)\n"
     ]
    }
   ],
   "source": [
    "kat = base.deepcopy()\n",
    "kat.maxtem = 'off'\n",
    "\n",
    "\n",
    "lschn = 5e-3\n",
    "kat.LX.L = kat.LX.L - lschn\n",
    "kat.LY.L = kat.LY.L + lschn\n",
    "\n",
    "kat.eom1.midx = 1.2\n",
    "kat.eom1.f = 1e6\n",
    "\n",
    "kat.parse(\"\"\"\n",
    "pd1 eom_test 0 0 nOut \n",
    "xaxis eom1 f lin -10M 10M 1000\n",
    "put eom_test f $x1\n",
    "yaxis abs\n",
    "\"\"\")\n",
    "\n",
    "out = kat.run()\n",
    "\n",
    "\n",
    "print(kat.LX.L, \"m\")\n",
    "print(kat.LY.L, \"m\")\n",
    "\n",
    "fig = plt.figure()\n",
    "ax = fig.add_subplot(111)\n",
    "ax.plot(out.x, out['eom_test']*1e3)\n",
    "ax.grid()\n",
    "ax.set_ylabel('demodulated sideband output [mW]')\n",
    "ax.set_xlabel('Frequency [Hz]')\n",
    "plt.show(fig)"
   ]
  },
  {
   "cell_type": "markdown",
   "metadata": {},
   "source": [
    "## Changing Schnupp asymmetry"
   ]
  },
  {
   "cell_type": "code",
   "execution_count": null,
   "metadata": {},
   "outputs": [],
   "source": [
    "fig = plt.figure(figsize=(7,9), dpi=100)\n",
    "ax1 = fig.add_subplot(211)\n",
    "\n",
    "kat = base.deepcopy()\n",
    "# Adding simulation instructions and detectors.\n",
    "kat.parse(\"\"\"\n",
    "pd1 eom_test 0 0 nOut \n",
    "xaxis eom1 f lin -10M 10M 1000\n",
    "put eom_test f $x1\n",
    "yaxis abs\n",
    "\"\"\")\n",
    "kat.maxtem = 'off'\n",
    "kat.eom1.midx = 1.2\n",
    "arr = np.linspace(1e-3,50e-3,5)\n",
    "\n",
    "for k,a in enumerate(arr):\n",
    "    lschn = a\n",
    "    kat.LX.L = kat.LX.L - lschn\n",
    "    kat.LY.L = kat.LY.L + lschn\n",
    "    out = kat.run(cmd_args=[\"-cr=on\"])\n",
    "    \n",
    "    ax1.plot(out.x,(out['eom_test']),label=\"%g\" %a)\n",
    "       \n",
    "plt.ylabel(\"Demodulated output [W]\")\n",
    "plt.xlabel(\"Frequency [Hz]\")\n",
    "plt.grid(True)\n",
    "plt.legend()\n",
    "plt.tight_layout()\n",
    "plt.grid\n",
    "#plt.savefig(\"InputPowers_Sensitivity.eps\")\n",
    "plt.show()\n",
    "    \n"
   ]
  },
  {
   "cell_type": "markdown",
   "metadata": {},
   "source": [
    "## Changing SRM T"
   ]
  },
  {
   "cell_type": "code",
   "execution_count": null,
   "metadata": {},
   "outputs": [],
   "source": [
    "fig = plt.figure(figsize=(7,9), dpi=100)\n",
    "ax1 = fig.add_subplot(211)\n",
    "\n",
    "kat = base.deepcopy()\n",
    "# Adding simulation instructions and detectors.\n",
    "kat.parse(\"\"\"\n",
    "pd1 eom_test 0 0 nOut \n",
    "xaxis eom1 f lin -15M 15M 1000\n",
    "put eom_test f $x1\n",
    "yaxis abs\n",
    "\"\"\")\n",
    "kat.maxtem = 'off'\n",
    "kat.eom1.midx = 1.2\n",
    "\n",
    "lschn = 5e-3\n",
    "kat.LX.L = kat.LX.L - lschn\n",
    "kat.LY.L = kat.LY.L + lschn\n",
    "\n",
    "arr = np.linspace(0.1,0.3,5)\n",
    "\n",
    "for k,a in enumerate(arr):\n",
    "    kat.SRM.T = a\n",
    "    kat.SRM.R = 1-a\n",
    "    out = kat.run(cmd_args=[\"-cr=on\"])\n",
    "    ax1.plot(out.x,(out['eom_test']),label=\"%g\" %a)\n",
    "       \n",
    "plt.ylabel(\"Demodulated output [W]\")\n",
    "plt.xlabel(\"Frequency [Hz]\")\n",
    "plt.grid(True)\n",
    "plt.legend()\n",
    "plt.tight_layout()\n",
    "plt.grid\n",
    "#plt.savefig(\"InputPowers_Sensitivity.eps\")\n",
    "plt.show()\n",
    "    \n"
   ]
  },
  {
   "cell_type": "markdown",
   "metadata": {},
   "source": [
    "## Changing TSRM T"
   ]
  },
  {
   "cell_type": "code",
   "execution_count": null,
   "metadata": {},
   "outputs": [],
   "source": [
    "fig = plt.figure(figsize=(7,9), dpi=100)\n",
    "ax1 = fig.add_subplot(211)\n",
    "\n",
    "kat = base.deepcopy()\n",
    "# Adding simulation instructions and detectors.\n",
    "kat.parse(\"\"\"\n",
    "pd1 eom_test 0 0 nOut \n",
    "xaxis eom1 f lin -10M 10M 1000\n",
    "put eom_test f $x1\n",
    "yaxis abs\n",
    "\"\"\")\n",
    "kat.maxtem = 'off'\n",
    "kat.eom1.midx = 1.2\n",
    "\n",
    "lschn = 5e-3\n",
    "kat.LX.L = kat.LX.L - lschn\n",
    "kat.LY.L = kat.LY.L + lschn\n",
    "\n",
    "arr = np.linspace(0.1,0.3,5)\n",
    "\n",
    "for k,a in enumerate(arr):\n",
    "    kat.TSRM.T = a\n",
    "    kat.TSRM.R = 1-a\n",
    "    out = kat.run(cmd_args=[\"-cr=on\"])\n",
    "    ax1.plot(out.x,(out['eom_test']),label=\"%g\" %a)\n",
    "       \n",
    "plt.ylabel(\"Demodulated output [W]\")\n",
    "plt.xlabel(\"Frequency [Hz]\")\n",
    "plt.grid(True)\n",
    "plt.legend()\n",
    "plt.tight_layout()\n",
    "plt.grid\n",
    "#plt.savefig(\"InputPowers_Sensitivity.eps\")\n",
    "plt.show()\n",
    "    \n"
   ]
  },
  {
   "cell_type": "markdown",
   "metadata": {},
   "source": [
    "## GW signal from input vs GW signal from arms"
   ]
  },
  {
   "cell_type": "code",
   "execution_count": null,
   "metadata": {},
   "outputs": [],
   "source": [
    "kat = base.deepcopy()\n",
    "kat.parse(\"\"\"\n",
    "pd1 Readout $fs max nOut \n",
    "\n",
    "fsig darm LX phase 1.0 0.0 \n",
    "fsig darm LY phase 1.0 180.0 \n",
    "\n",
    "xaxis darm f log 1M 15M 1000\n",
    "yaxis abs:deg\n",
    "\n",
    "\"\"\")\n",
    "kat.maxtem = 'off'\n",
    "\n",
    "out = kat.run()\n",
    "\n",
    "fig = plt.figure(figsize=(7,10), dpi=100)\n",
    "ax = fig.add_subplot(111)\n",
    "\n",
    "ax.loglog(out.x, out['Readout'], 'y--', label='Michelson TF')\n",
    "ax.legend()\n",
    "ax.set_ylabel(\"Amplitude [$\\sqrt{\\mathrm{W}}$]\",fontsize=14)\n",
    "ax.grid()\n",
    "\n",
    "ax.set_xlabel('Frequency [Hz]',fontsize=14)\n",
    "plt.show(fig)"
   ]
  },
  {
   "cell_type": "code",
   "execution_count": null,
   "metadata": {},
   "outputs": [],
   "source": [
    "kat = base.deepcopy()\n",
    "kat.parse(\"\"\" \n",
    "# Amplitude detectors\n",
    "ad Ap $fs nOut\n",
    "ad An $mfs nOut\n",
    "\n",
    "xaxis eom1 f lin -10M 10M 1000\n",
    "\n",
    "\"\"\")\n",
    "kat.maxtem = 'off'\n",
    "\n",
    "out = kat.run()\n",
    "Ap_tsrm = np.abs(out['Ap'])\n",
    "An_tsrm = np.abs(out['An'])\n",
    "\n",
    "fig = plt.figure(figsize=(7,10), dpi=100)\n",
    "ax = fig.add_subplot(211)\n",
    "\n",
    "ax.plot(out.x, Ap_tsrm, 'y--', label='Michelson + TSRM, upper sideband')\n",
    "ax.plot(out.x, An_tsrm, 'm-.', label='Michelson + TSRM, lower sideband')\n",
    "ax.legend()\n",
    "ax.set_ylabel(\"Amplitude [$\\sqrt{\\mathrm{W}}$]\",fontsize=14)\n",
    "ax.set_xscale('log')\n",
    "ax.set_yscale('log')\n",
    "ax.grid()\n",
    "\n",
    "ax.set_xlabel('Frequency [Hz]',fontsize=14)\n",
    "plt.show(fig)"
   ]
  },
  {
   "cell_type": "code",
   "execution_count": null,
   "metadata": {},
   "outputs": [],
   "source": []
  },
  {
   "cell_type": "markdown",
   "metadata": {},
   "source": [
    "# RoCs for TSR1, TSR2 and TSRM\n",
    "## Getting the beam parameters everywhere"
   ]
  },
  {
   "cell_type": "code",
   "execution_count": 10,
   "metadata": {},
   "outputs": [
    {
     "name": "stdout",
     "output_type": "stream",
     "text": [
      "--------------------------------------------------------------\n",
      "Running kat - Started at 2019-10-09 15:30:48.652645\n",
      "\n",
      "Finished in 0.018784 seconds\n"
     ]
    },
    {
     "name": "stderr",
     "output_type": "stream",
     "text": [
      "\r",
      "  0% | ETA:  --:--:-- | Calculating                                            \r",
      "100% | ETA:  0:00:00 | Calculating                                             "
     ]
    }
   ],
   "source": [
    "kat = base.deepcopy()\n",
    "kat.cTSRM.remove()\n",
    "\n",
    "kat.parse(\"\"\"\n",
    "\n",
    "bp qex x q nEMx\n",
    "bp qbsx x q nBS4\n",
    "bp qsrm x q nSRM1\n",
    "bp qtsr1 x q nTSR1a\n",
    "bp qtsr2 x q nTSR2a\n",
    "bp qcr1 x q nCRYS1a\n",
    "bp q_cr1b x q nCRYS1b\n",
    "bp qcr2 x q nCRYS2b\n",
    "bp qtsrm x q nTSRM1\n",
    "\n",
    "\n",
    "cp cSRMX x m\n",
    "cp cSRMY x m\n",
    "cp cSRMX y m\n",
    "cp cSRMY y m\n",
    "\n",
    "noxaxis\n",
    "yaxis abs:deg\n",
    "\"\"\")\n",
    "\n",
    "                \n",
    "out = kat.run()\n",
    "\n",
    "\n",
    "qex = out['qex']\n",
    "\n",
    "qbsx = out['qbsx']\n",
    "qsrm = out['qsrm']\n",
    "\n",
    "qtsr1 = out['qtsr1']\n",
    "qtsr2 = out['qtsr2']\n",
    "\n",
    "\n",
    "qcr1 = out['qcr1']\n",
    "qcr2 = out['qcr2']\n",
    "qtsrm = out['qtsrm']\n",
    "\n"
   ]
  },
  {
   "cell_type": "markdown",
   "metadata": {},
   "source": [
    "## Choosing of radii of curvature"
   ]
  },
  {
   "cell_type": "code",
   "execution_count": null,
   "metadata": {},
   "outputs": [],
   "source": [
    "RoC = [0.1,0.25,0.5,0.75,1,1.333,1.5,2,3,4,5,6.667,10]   # RoCs available off the shelf\n",
    "\n",
    "q0 = BeamParam(q=qsrm1)\n",
    "\n",
    "\n",
    "\n",
    "\n",
    "\n",
    "if (not (mX_x > -1 and mX_x < 1) or not (mX_y > -1 and mX_y < 1) or \n",
    "    not (mY_x > -1 and mY_x < 1) or not (mY_y > -1 and mY_y < 1)):\n",
    "    "
   ]
  },
  {
   "cell_type": "code",
   "execution_count": null,
   "metadata": {},
   "outputs": [],
   "source": []
  },
  {
   "cell_type": "code",
   "execution_count": null,
   "metadata": {},
   "outputs": [],
   "source": []
  },
  {
   "cell_type": "code",
   "execution_count": null,
   "metadata": {},
   "outputs": [],
   "source": []
  },
  {
   "cell_type": "code",
   "execution_count": null,
   "metadata": {},
   "outputs": [],
   "source": []
  },
  {
   "cell_type": "code",
   "execution_count": null,
   "metadata": {},
   "outputs": [],
   "source": []
  },
  {
   "cell_type": "code",
   "execution_count": null,
   "metadata": {},
   "outputs": [],
   "source": []
  },
  {
   "cell_type": "code",
   "execution_count": null,
   "metadata": {},
   "outputs": [],
   "source": []
  },
  {
   "cell_type": "code",
   "execution_count": null,
   "metadata": {},
   "outputs": [],
   "source": []
  },
  {
   "cell_type": "code",
   "execution_count": null,
   "metadata": {},
   "outputs": [],
   "source": []
  },
  {
   "cell_type": "code",
   "execution_count": null,
   "metadata": {},
   "outputs": [],
   "source": []
  },
  {
   "cell_type": "code",
   "execution_count": null,
   "metadata": {},
   "outputs": [],
   "source": []
  },
  {
   "cell_type": "code",
   "execution_count": null,
   "metadata": {},
   "outputs": [],
   "source": [
    "def q2w(q0,z,n=1):\n",
    "    w = np.zeros(len(z))\n",
    "    for k,a in enumerate(z):\n",
    "        w[k] = BeamParam(q=q0+a, nr=n).w\n",
    "    return w\n",
    "\n",
    "\n",
    "\n",
    "###############################################\n",
    "# Lengths and parameters\n",
    "###############################################\n",
    "\n",
    "\n",
    "# End mirror\n",
    "w_ex = BeamParam(q=qex).w\n",
    "\n",
    "# End mirror to BS\n",
    "L_ex_bs = kat.LX.L.value\n",
    "z_ex_bs = np.linspace(0,L_ex_bs,50)\n",
    "w_ex_bs = q2w(qex, z_ex_bs)\n",
    "\n",
    "# BS\n",
    "w_bs = BeamParam(q=qbsx).w\n",
    "\n",
    "# BS to SRM\n",
    "L_bs_srm = kat.SRC1.L.value\n",
    "z_bs_srm = np.linspace(0,L_bs_srm,50)\n",
    "w_bs_srm = q2w(qbsx,z_bs_srm)\n",
    "z_bs_srm += L_ex_bs\n",
    "\n",
    "# SRM\n",
    "w_srm = BeamParam(q=qsrm).w\n",
    "\n",
    "# SRM substrate\n",
    "L_srm_sub = kat.thsrm1.L.value\n",
    "\n",
    "# SRM AR\n",
    "w_srmar = BeamParam(q=qsrmarx).w\n",
    "\n",
    "# SRM AR to Crystal\n",
    "L_srm_crys = kat.SRCc2.L.value\n",
    "z_srm_crys = np.linspace(0,L_srm_crys,50)\n",
    "w_srm_crys = q2w(qsrmarx, z_srm_crys)\n",
    "z_srm_crys += L_ex_bs+L_bs_srm+L_srm_sub\n",
    "\n",
    "# Crystal, surface 1\n",
    "w_crys = BeamParam(q=qcr1).w\n",
    "\n",
    "# Inside the Crystal\n",
    "L_crys = kat.sCRYS.L.value\n",
    "z_crys_sub = np.linspace(0,L_crys,50)\n",
    "w_crys_sub = q2w(qcr1*kat.sCRYS.n.value, z_crys_sub, n=kat.sCRYS.n.value)\n",
    "z_crys_sub += L_ex_bs+L_bs_srm+L_srm_sub+L_srm_crys\n",
    "\n",
    "\n",
    "# Crystal, surface 2\n",
    "w_crys2 = BeamParam(q=qcr2).w\n",
    "\n",
    "# Crystal to TSRM\n",
    "L_crys_tsrm = kat.SRC2.L.value\n",
    "z_crys_tsrm = np.linspace(0,L_crys_tsrm,50)\n",
    "w_crys_tsrm = q2w(qcr2,z_crys_tsrm)\n",
    "z_crys_tsrm += L_ex_bs+L_bs_srm+L_srm_sub+L_srm_crys+L_crys\n",
    "\n",
    "# TSRM\n",
    "w_tsrm = BeamParam(q=qtsrm).w\n",
    "\n",
    "\n",
    "###############################################\n",
    "# Plotting\n",
    "###############################################\n",
    "\n",
    "fig = plt.figure(dpi=200)\n",
    "ax = fig.add_subplot(111)\n",
    "\n",
    "# End mirror\n",
    "ax.plot(0,w_ex*1e3,'b*')\n",
    "ax.plot(0,-w_ex*1e3,'b*')\n",
    "\n",
    "# End mirror to BS\n",
    "ax.plot(z_ex_bs, w_ex_bs*1e3,'-b')\n",
    "ax.plot(z_ex_bs, -w_ex_bs*1e3,'-b')\n",
    "\n",
    "# BS\n",
    "ax.plot(L_ex_bs, w_bs*1e3,'b*')\n",
    "ax.plot(L_ex_bs, -w_bs*1e3,'b*')\n",
    "\n",
    "# BS to SRM\n",
    "ax.plot(z_bs_srm, w_bs_srm*1e3,'-b')\n",
    "ax.plot(z_bs_srm, -w_bs_srm*1e3,'-b')\n",
    "\n",
    "# SRM\n",
    "ax.plot(L_ex_bs+L_bs_srm,w_srm*1e3,'b*')\n",
    "ax.plot(L_ex_bs+L_bs_srm,-w_srm*1e3,'b*')\n",
    "\n",
    "# SRMAR\n",
    "ax.plot(L_ex_bs+L_bs_srm+L_srm_sub,w_srmar*1e3,'b*')\n",
    "ax.plot(L_ex_bs+L_bs_srm+L_srm_sub,-w_srmar*1e3,'b*')\n",
    "\n",
    "# SRMAR to Crystal\n",
    "ax.plot(z_srm_crys, w_srm_crys*1e3,'-b')\n",
    "ax.plot(z_srm_crys, -w_srm_crys*1e3,'-b')\n",
    "\n",
    "# Crystal surface 1\n",
    "ax.plot(L_ex_bs+L_bs_srm+L_srm_sub+L_srm_crys, w_crys*1e3,'b*')\n",
    "ax.plot(L_ex_bs+L_bs_srm+L_srm_sub+L_srm_crys, -w_crys*1e3,'b*')\n",
    "\n",
    "# Inside Crystal\n",
    "ax.plot(z_crys_sub, w_crys_sub*1e3,'-b')\n",
    "ax.plot(z_crys_sub, -w_crys_sub*1e3,'-b')\n",
    "\n",
    "# Crystal surface 2\n",
    "ax.plot(L_ex_bs+L_bs_srm+L_srm_sub+L_srm_crys+L_crys, w_crys2*1e3,'b*')\n",
    "ax.plot(L_ex_bs+L_bs_srm+L_srm_sub+L_srm_crys+L_crys, -w_crys2*1e3,'b*')\n",
    "\n",
    "# Crystal to TSRM\n",
    "ax.plot(z_crys_tsrm, w_crys_tsrm*1e3,'-b')\n",
    "ax.plot(z_crys_tsrm, -w_crys_tsrm*1e3,'-b')\n",
    "\n",
    "# TSRM\n",
    "ax.plot(L_ex_bs+L_bs_srm+L_srm_sub+L_srm_crys+L_crys+L_crys_tsrm, w_tsrm*1e3,'b*')\n",
    "ax.plot(L_ex_bs+L_bs_srm+L_srm_sub+L_srm_crys+L_crys+L_crys_tsrm, -w_tsrm*1e3,'b*')\n",
    "\n",
    "ax.set_ylabel('w [m]')\n",
    "ax.set_xlabel('z [m]')\n",
    "\n",
    "ax.grid()\n",
    "ax.set_ylabel('Beam radius [mm]')\n",
    "ax.set_title('EX-BS-SRM-TSRM cavities')\n",
    "#plt.savefig('Beam_Evolution.png')\n",
    "plt.show(fig)\n",
    "\n",
    "fig = plt.figure(dpi=200)\n",
    "ax = fig.add_subplot(111)\n",
    "\n",
    "# Crystal surface 1\n",
    "ax.plot(L_ex_bs+L_bs_srm+L_srm_sub+L_srm_crys, w_crys*1e6,'b*')\n",
    "#ax.plot(L_ex_bs+L_bs_srm+L_srm_sub+L_srm_crys, -w_crys*1e6,'b*')\n",
    "\n",
    "# Inside Crystal\n",
    "ax.plot(z_crys_sub, w_crys_sub*1e6,'-b')\n",
    "#ax.plot(z_crys_sub, -w_crys_sub*1e6,'-b')\n",
    "\n",
    "# Crystal surface 2\n",
    "ax.plot(L_ex_bs+L_bs_srm+L_srm_sub+L_srm_crys+L_crys, w_crys2*1e6,'b*')\n",
    "#ax.plot(L_ex_bs+L_bs_srm+L_srm_sub+L_srm_crys+L_crys, -w_crys2*1e6,'b*')\n",
    "ax.grid()\n",
    "ax.set_ylabel('Beam radius [um]')\n",
    "ax.set_title('Inside crystal')\n",
    "#plt.savefig('Beam_Evolution_zoomed.png')\n",
    "plt.show(fig)"
   ]
  },
  {
   "cell_type": "code",
   "execution_count": null,
   "metadata": {},
   "outputs": [],
   "source": []
  },
  {
   "cell_type": "code",
   "execution_count": null,
   "metadata": {},
   "outputs": [],
   "source": []
  },
  {
   "cell_type": "code",
   "execution_count": null,
   "metadata": {},
   "outputs": [],
   "source": []
  },
  {
   "cell_type": "code",
   "execution_count": null,
   "metadata": {},
   "outputs": [],
   "source": []
  },
  {
   "cell_type": "code",
   "execution_count": null,
   "metadata": {},
   "outputs": [],
   "source": []
  },
  {
   "cell_type": "code",
   "execution_count": null,
   "metadata": {},
   "outputs": [],
   "source": []
  },
  {
   "cell_type": "code",
   "execution_count": null,
   "metadata": {},
   "outputs": [],
   "source": []
  },
  {
   "cell_type": "code",
   "execution_count": null,
   "metadata": {},
   "outputs": [],
   "source": []
  },
  {
   "cell_type": "code",
   "execution_count": null,
   "metadata": {},
   "outputs": [],
   "source": []
  },
  {
   "cell_type": "code",
   "execution_count": null,
   "metadata": {},
   "outputs": [],
   "source": []
  },
  {
   "cell_type": "code",
   "execution_count": null,
   "metadata": {},
   "outputs": [],
   "source": []
  },
  {
   "cell_type": "code",
   "execution_count": null,
   "metadata": {},
   "outputs": [],
   "source": []
  },
  {
   "cell_type": "markdown",
   "metadata": {},
   "source": [
    "# Playground\n",
    "## PyKat ABCD matrix usage"
   ]
  },
  {
   "cell_type": "code",
   "execution_count": 13,
   "metadata": {},
   "outputs": [
    {
     "ename": "AttributeError",
     "evalue": "'kat_10' object has no attribute 'SRC1'",
     "output_type": "error",
     "traceback": [
      "\u001b[0;31m---------------------------------------------------------------------------\u001b[0m",
      "\u001b[0;31mAttributeError\u001b[0m                            Traceback (most recent call last)",
      "\u001b[0;32m<ipython-input-13-251a01063800>\u001b[0m in \u001b[0;36m<module>\u001b[0;34m\u001b[0m\n\u001b[1;32m     38\u001b[0m \u001b[0;32mfor\u001b[0m \u001b[0mk\u001b[0m\u001b[0;34m,\u001b[0m\u001b[0md\u001b[0m \u001b[0;32min\u001b[0m \u001b[0menumerate\u001b[0m\u001b[0;34m(\u001b[0m\u001b[0mdiopt\u001b[0m\u001b[0;34m)\u001b[0m\u001b[0;34m:\u001b[0m\u001b[0;34m\u001b[0m\u001b[0;34m\u001b[0m\u001b[0m\n\u001b[1;32m     39\u001b[0m \u001b[0;34m\u001b[0m\u001b[0m\n\u001b[0;32m---> 40\u001b[0;31m     \u001b[0msol\u001b[0m \u001b[0;34m=\u001b[0m \u001b[0mminimize\u001b[0m\u001b[0;34m(\u001b[0m\u001b[0mfun2\u001b[0m\u001b[0;34m,\u001b[0m \u001b[0;36m0.07\u001b[0m\u001b[0;34m,\u001b[0m \u001b[0margs\u001b[0m\u001b[0;34m=\u001b[0m\u001b[0;34m(\u001b[0m\u001b[0;36m1\u001b[0m\u001b[0;34m/\u001b[0m\u001b[0md\u001b[0m\u001b[0;34m)\u001b[0m\u001b[0;34m,\u001b[0m \u001b[0mmethod\u001b[0m\u001b[0;34m=\u001b[0m\u001b[0;34m'Nelder-Mead'\u001b[0m\u001b[0;34m,\u001b[0m \u001b[0mtol\u001b[0m\u001b[0;34m=\u001b[0m\u001b[0;36m1e-6\u001b[0m\u001b[0;34m)\u001b[0m \u001b[0;31m# Minimisation routine to find the best roc and L\u001b[0m\u001b[0;34m\u001b[0m\u001b[0;34m\u001b[0m\u001b[0m\n\u001b[0m\u001b[1;32m     41\u001b[0m \u001b[0;34m\u001b[0m\u001b[0m\n\u001b[1;32m     42\u001b[0m     \u001b[0mL\u001b[0m \u001b[0;34m=\u001b[0m \u001b[0msol\u001b[0m\u001b[0;34m.\u001b[0m\u001b[0mx\u001b[0m\u001b[0;34m[\u001b[0m\u001b[0;36m0\u001b[0m\u001b[0;34m]\u001b[0m\u001b[0;34m\u001b[0m\u001b[0;34m\u001b[0m\u001b[0m\n",
      "\u001b[0;32m/miniconda3/envs/py37env/lib/python3.7/site-packages/scipy/optimize/_minimize.py\u001b[0m in \u001b[0;36mminimize\u001b[0;34m(fun, x0, args, method, jac, hess, hessp, bounds, constraints, tol, callback, options)\u001b[0m\n\u001b[1;32m    587\u001b[0m                       callback=callback, **options)\n\u001b[1;32m    588\u001b[0m     \u001b[0;32melif\u001b[0m \u001b[0mmeth\u001b[0m \u001b[0;34m==\u001b[0m \u001b[0;34m'nelder-mead'\u001b[0m\u001b[0;34m:\u001b[0m\u001b[0;34m\u001b[0m\u001b[0;34m\u001b[0m\u001b[0m\n\u001b[0;32m--> 589\u001b[0;31m         \u001b[0;32mreturn\u001b[0m \u001b[0m_minimize_neldermead\u001b[0m\u001b[0;34m(\u001b[0m\u001b[0mfun\u001b[0m\u001b[0;34m,\u001b[0m \u001b[0mx0\u001b[0m\u001b[0;34m,\u001b[0m \u001b[0margs\u001b[0m\u001b[0;34m,\u001b[0m \u001b[0mcallback\u001b[0m\u001b[0;34m,\u001b[0m \u001b[0;34m**\u001b[0m\u001b[0moptions\u001b[0m\u001b[0;34m)\u001b[0m\u001b[0;34m\u001b[0m\u001b[0;34m\u001b[0m\u001b[0m\n\u001b[0m\u001b[1;32m    590\u001b[0m     \u001b[0;32melif\u001b[0m \u001b[0mmeth\u001b[0m \u001b[0;34m==\u001b[0m \u001b[0;34m'powell'\u001b[0m\u001b[0;34m:\u001b[0m\u001b[0;34m\u001b[0m\u001b[0;34m\u001b[0m\u001b[0m\n\u001b[1;32m    591\u001b[0m         \u001b[0;32mreturn\u001b[0m \u001b[0m_minimize_powell\u001b[0m\u001b[0;34m(\u001b[0m\u001b[0mfun\u001b[0m\u001b[0;34m,\u001b[0m \u001b[0mx0\u001b[0m\u001b[0;34m,\u001b[0m \u001b[0margs\u001b[0m\u001b[0;34m,\u001b[0m \u001b[0mcallback\u001b[0m\u001b[0;34m,\u001b[0m \u001b[0;34m**\u001b[0m\u001b[0moptions\u001b[0m\u001b[0;34m)\u001b[0m\u001b[0;34m\u001b[0m\u001b[0;34m\u001b[0m\u001b[0m\n",
      "\u001b[0;32m/miniconda3/envs/py37env/lib/python3.7/site-packages/scipy/optimize/optimize.py\u001b[0m in \u001b[0;36m_minimize_neldermead\u001b[0;34m(func, x0, args, callback, maxiter, maxfev, disp, return_all, initial_simplex, xatol, fatol, adaptive, **unknown_options)\u001b[0m\n\u001b[1;32m    557\u001b[0m \u001b[0;34m\u001b[0m\u001b[0m\n\u001b[1;32m    558\u001b[0m     \u001b[0;32mfor\u001b[0m \u001b[0mk\u001b[0m \u001b[0;32min\u001b[0m \u001b[0mrange\u001b[0m\u001b[0;34m(\u001b[0m\u001b[0mN\u001b[0m \u001b[0;34m+\u001b[0m \u001b[0;36m1\u001b[0m\u001b[0;34m)\u001b[0m\u001b[0;34m:\u001b[0m\u001b[0;34m\u001b[0m\u001b[0;34m\u001b[0m\u001b[0m\n\u001b[0;32m--> 559\u001b[0;31m         \u001b[0mfsim\u001b[0m\u001b[0;34m[\u001b[0m\u001b[0mk\u001b[0m\u001b[0;34m]\u001b[0m \u001b[0;34m=\u001b[0m \u001b[0mfunc\u001b[0m\u001b[0;34m(\u001b[0m\u001b[0msim\u001b[0m\u001b[0;34m[\u001b[0m\u001b[0mk\u001b[0m\u001b[0;34m]\u001b[0m\u001b[0;34m)\u001b[0m\u001b[0;34m\u001b[0m\u001b[0;34m\u001b[0m\u001b[0m\n\u001b[0m\u001b[1;32m    560\u001b[0m \u001b[0;34m\u001b[0m\u001b[0m\n\u001b[1;32m    561\u001b[0m     \u001b[0mind\u001b[0m \u001b[0;34m=\u001b[0m \u001b[0mnumpy\u001b[0m\u001b[0;34m.\u001b[0m\u001b[0margsort\u001b[0m\u001b[0;34m(\u001b[0m\u001b[0mfsim\u001b[0m\u001b[0;34m)\u001b[0m\u001b[0;34m\u001b[0m\u001b[0;34m\u001b[0m\u001b[0m\n",
      "\u001b[0;32m/miniconda3/envs/py37env/lib/python3.7/site-packages/scipy/optimize/optimize.py\u001b[0m in \u001b[0;36mfunction_wrapper\u001b[0;34m(*wrapper_args)\u001b[0m\n\u001b[1;32m    298\u001b[0m     \u001b[0;32mdef\u001b[0m \u001b[0mfunction_wrapper\u001b[0m\u001b[0;34m(\u001b[0m\u001b[0;34m*\u001b[0m\u001b[0mwrapper_args\u001b[0m\u001b[0;34m)\u001b[0m\u001b[0;34m:\u001b[0m\u001b[0;34m\u001b[0m\u001b[0;34m\u001b[0m\u001b[0m\n\u001b[1;32m    299\u001b[0m         \u001b[0mncalls\u001b[0m\u001b[0;34m[\u001b[0m\u001b[0;36m0\u001b[0m\u001b[0;34m]\u001b[0m \u001b[0;34m+=\u001b[0m \u001b[0;36m1\u001b[0m\u001b[0;34m\u001b[0m\u001b[0;34m\u001b[0m\u001b[0m\n\u001b[0;32m--> 300\u001b[0;31m         \u001b[0;32mreturn\u001b[0m \u001b[0mfunction\u001b[0m\u001b[0;34m(\u001b[0m\u001b[0;34m*\u001b[0m\u001b[0;34m(\u001b[0m\u001b[0mwrapper_args\u001b[0m \u001b[0;34m+\u001b[0m \u001b[0margs\u001b[0m\u001b[0;34m)\u001b[0m\u001b[0;34m)\u001b[0m\u001b[0;34m\u001b[0m\u001b[0;34m\u001b[0m\u001b[0m\n\u001b[0m\u001b[1;32m    301\u001b[0m \u001b[0;34m\u001b[0m\u001b[0m\n\u001b[1;32m    302\u001b[0m     \u001b[0;32mreturn\u001b[0m \u001b[0mncalls\u001b[0m\u001b[0;34m,\u001b[0m \u001b[0mfunction_wrapper\u001b[0m\u001b[0;34m\u001b[0m\u001b[0;34m\u001b[0m\u001b[0m\n",
      "\u001b[0;32m<ipython-input-13-251a01063800>\u001b[0m in \u001b[0;36mfun2\u001b[0;34m(L, roc)\u001b[0m\n\u001b[1;32m     31\u001b[0m     \u001b[0;32mif\u001b[0m \u001b[0mL\u001b[0m \u001b[0;34m<=\u001b[0m\u001b[0;36m0\u001b[0m\u001b[0;34m:\u001b[0m   \u001b[0;31m# Adding this here to make sure that the minimisation routine does not spit out negative values of L for me\u001b[0m\u001b[0;34m\u001b[0m\u001b[0;34m\u001b[0m\u001b[0m\n\u001b[1;32m     32\u001b[0m         \u001b[0;32mreturn\u001b[0m \u001b[0;36m1000\u001b[0m\u001b[0;34m\u001b[0m\u001b[0;34m\u001b[0m\u001b[0m\n\u001b[0;32m---> 33\u001b[0;31m     \u001b[0;32mreturn\u001b[0m \u001b[0mnp\u001b[0m\u001b[0;34m.\u001b[0m\u001b[0mabs\u001b[0m\u001b[0;34m(\u001b[0m\u001b[0mrocL\u001b[0m\u001b[0;34m(\u001b[0m\u001b[0mroc\u001b[0m\u001b[0;34m,\u001b[0m \u001b[0mL\u001b[0m\u001b[0;34m)\u001b[0m\u001b[0;34m.\u001b[0m\u001b[0mz\u001b[0m\u001b[0;34m)\u001b[0m\u001b[0;34m\u001b[0m\u001b[0;34m\u001b[0m\u001b[0m\n\u001b[0m\u001b[1;32m     34\u001b[0m \u001b[0;34m\u001b[0m\u001b[0m\n\u001b[1;32m     35\u001b[0m \u001b[0;34m\u001b[0m\u001b[0m\n",
      "\u001b[0;32m<ipython-input-13-251a01063800>\u001b[0m in \u001b[0;36mrocL\u001b[0;34m(roc, L)\u001b[0m\n\u001b[1;32m     15\u001b[0m \u001b[0;34m\u001b[0m\u001b[0m\n\u001b[1;32m     16\u001b[0m \u001b[0;32mdef\u001b[0m \u001b[0mrocL\u001b[0m\u001b[0;34m(\u001b[0m\u001b[0mroc\u001b[0m\u001b[0;34m,\u001b[0m \u001b[0mL\u001b[0m\u001b[0;34m)\u001b[0m\u001b[0;34m:\u001b[0m\u001b[0;34m\u001b[0m\u001b[0;34m\u001b[0m\u001b[0m\n\u001b[0;32m---> 17\u001b[0;31m     \u001b[0mS0\u001b[0m \u001b[0;34m=\u001b[0m \u001b[0ma\u001b[0m\u001b[0;34m.\u001b[0m\u001b[0mspace\u001b[0m\u001b[0;34m(\u001b[0m\u001b[0;36m1\u001b[0m\u001b[0;34m,\u001b[0m\u001b[0mkat\u001b[0m\u001b[0;34m.\u001b[0m\u001b[0mSRC1\u001b[0m\u001b[0;34m.\u001b[0m\u001b[0mL\u001b[0m\u001b[0;34m.\u001b[0m\u001b[0mvalue\u001b[0m\u001b[0;34m)\u001b[0m\u001b[0;34m\u001b[0m\u001b[0;34m\u001b[0m\u001b[0m\n\u001b[0m\u001b[1;32m     18\u001b[0m     \u001b[0mS1\u001b[0m \u001b[0;34m=\u001b[0m \u001b[0ma\u001b[0m\u001b[0;34m.\u001b[0m\u001b[0mmirror_trans\u001b[0m\u001b[0;34m(\u001b[0m\u001b[0;36m1\u001b[0m\u001b[0;34m,\u001b[0m \u001b[0mkat\u001b[0m\u001b[0;34m.\u001b[0m\u001b[0mthsrm1\u001b[0m\u001b[0;34m.\u001b[0m\u001b[0mn\u001b[0m\u001b[0;34m.\u001b[0m\u001b[0mvalue\u001b[0m\u001b[0;34m,\u001b[0m \u001b[0mnp\u001b[0m\u001b[0;34m.\u001b[0m\u001b[0minf\u001b[0m\u001b[0;34m)\u001b[0m\u001b[0;34m\u001b[0m\u001b[0;34m\u001b[0m\u001b[0m\n\u001b[1;32m     19\u001b[0m     \u001b[0mS2\u001b[0m \u001b[0;34m=\u001b[0m \u001b[0ma\u001b[0m\u001b[0;34m.\u001b[0m\u001b[0mspace\u001b[0m\u001b[0;34m(\u001b[0m\u001b[0mkat\u001b[0m\u001b[0;34m.\u001b[0m\u001b[0mthsrm1\u001b[0m\u001b[0;34m.\u001b[0m\u001b[0mn\u001b[0m\u001b[0;34m.\u001b[0m\u001b[0mvalue\u001b[0m\u001b[0;34m,\u001b[0m \u001b[0mkat\u001b[0m\u001b[0;34m.\u001b[0m\u001b[0mthsrm1\u001b[0m\u001b[0;34m.\u001b[0m\u001b[0mL\u001b[0m\u001b[0;34m.\u001b[0m\u001b[0mvalue\u001b[0m\u001b[0;34m)\u001b[0m\u001b[0;34m\u001b[0m\u001b[0;34m\u001b[0m\u001b[0m\n",
      "\u001b[0;31mAttributeError\u001b[0m: 'kat_10' object has no attribute 'SRC1'"
     ]
    }
   ],
   "source": [
    "# q0 = pykat.optics.gaussian_beams.BeamParam(w0=315.781231594237e-6, z=460.76086956521e-3)\n",
    "\n",
    "q0 = BeamParam(q=qbsx) # Here we import the beam parameter from nBS4 which is \n",
    "                     # the node of the BS facing the HR surface of SRM\n",
    "\n",
    "# Define the function here and the parameters to vary are \n",
    "# RoC of the AR surface of SRM (roc in the functions below) and the distance between\n",
    "# crystal and the AR surface of SRM (L in the functions below)\n",
    "\n",
    "# Here we have used the pykat ABCD matrices which account for refractive index in beam parameter\n",
    "# Unlike the wikipedia ABCD matrices which have the beam parameter included in the matrix element\n",
    "# so tl:dr be careful when comparing things\n",
    "# The function rocL calculates the beam parameters and we have this here\n",
    "# to make sure we get a waist at the centre of the crystal\n",
    "\n",
    "def rocL(roc, L):\n",
    "    S0 = a.space(1,kat.SRC1.L.value)\n",
    "    S1 = a.mirror_trans(1, kat.thsrm1.n.value, np.inf)\n",
    "    S2 = a.space(kat.thsrm1.n.value, kat.thsrm1.L.value)\n",
    "    S3 = a.mirror_trans(kat.thsrm1.n.value, 1, roc)\n",
    "    S4 = a.space(1, L)\n",
    "    S5 = a.mirror_trans(1, kat.sCRYS.n.value, np.inf) \n",
    "    S6 = a.space(kat.sCRYS.n.value, kat.sCRYS.L.value/2.0)\n",
    "\n",
    "    Ssum = S6 * S5 * S4 * S3 * S2 * S1 * S0\n",
    "\n",
    "    return a.apply(Ssum, q0, 1, 1.8)\n",
    "\n",
    "# Here we define a function to vary the L and roc\n",
    "def fun2(L, roc):\n",
    "    if L <=0:   # Adding this here to make sure that the minimisation routine does not spit out negative values of L for me\n",
    "        return 1000\n",
    "    return np.abs(rocL(roc, L).z)\n",
    "    \n",
    "\n",
    "diopt = np.linspace(0.1, 100, 20) #Dioptres is used because - just easier to do. We have gone from 1 cm RoC to 10 m RoC\n",
    "\n",
    "for k,d in enumerate(diopt):\n",
    "    \n",
    "    sol = minimize(fun2, 0.07, args=(1/d), method='Nelder-Mead', tol=1e-6) # Minimisation routine to find the best roc and L \n",
    "    \n",
    "    L = sol.x[0]\n",
    "    q = rocL(1.0/d, L)\n",
    "    z = q.z\n",
    "    w0 = q.w0\n",
    "    \n",
    "    print('RoC = {:10.6f} m ---> L = {:.2e} m, where z = {:9.2e} m, w0 = {:.3f} mm'.format(1.0/d, L, z, w0*1e3))"
   ]
  },
  {
   "cell_type": "markdown",
   "metadata": {},
   "source": [
    "## SRM transmission vs. cavity length for a given splitting frequency"
   ]
  },
  {
   "cell_type": "code",
   "execution_count": 12,
   "metadata": {},
   "outputs": [
    {
     "data": {
      "image/png": "[encoded data removed]",
      "text/plain": [
       "<Figure size 1200x800 with 1 Axes>"
      ]
     },
     "metadata": {
      "needs_background": "light"
     },
     "output_type": "display_data"
    }
   ],
   "source": [
    "L = np.linspace(0,2,50)\n",
    "c = 299792458.0\n",
    "f_sp = 10e6\n",
    "T = np.sin(4.0*np.pi*f_sp*L/c)**2\n",
    "\n",
    "fig = plt.figure(dpi=200)\n",
    "ax = fig.add_subplot(111)\n",
    "\n",
    "ax.plot(L,T, label='{} MHz'.format(f_sp*1e-6))\n",
    "f_sp = 8e6\n",
    "T = np.sin(4.0*np.pi*f_sp*L/c)**2\n",
    "\n",
    "\n",
    "ax.plot(L,T, label='{} MHz'.format(f_sp*1e-6))\n",
    "\n",
    "ax.plot([0,L.max()], [0.01,0.01],'r--')\n",
    "ax.plot([0,L.max()], [0.05,0.05],'r--')\n",
    "ax.plot([0,L.max()], [0.1,0.1],'r--')\n",
    "ax.plot([0,L.max()], [0.2,0.2],'r--')\n",
    "\n",
    "ax.set_xlabel('Cavity length [m]')\n",
    "ax.set_ylabel('SRM transmission')\n",
    "ax.grid()\n",
    "ax.legend()\n",
    "plt.show(fig)"
   ]
  },
  {
   "cell_type": "code",
   "execution_count": 19,
   "metadata": {},
   "outputs": [],
   "source": [
    "T = np.sin(4.0*np.pi*f_sp*L/c)**2\n"
   ]
  },
  {
   "cell_type": "code",
   "execution_count": 20,
   "metadata": {},
   "outputs": [],
   "source": [
    "L_SRC = c*np.arcsin(np.sqrt(0.2))/(4.0*np.pi*8e6)"
   ]
  },
  {
   "cell_type": "code",
   "execution_count": null,
   "metadata": {},
   "outputs": [],
   "source": []
  },
  {
   "cell_type": "markdown",
   "metadata": {},
   "source": [
    "# Spot size on end mirrors, from clipping loss"
   ]
  },
  {
   "cell_type": "markdown",
   "metadata": {},
   "source": [
    "## For most optics"
   ]
  },
  {
   "cell_type": "code",
   "execution_count": 14,
   "metadata": {},
   "outputs": [
    {
     "data": {
      "image/png": "[encoded data removed]",
      "text/plain": [
       "<Figure size 432x288 with 1 Axes>"
      ]
     },
     "metadata": {
      "needs_background": "light"
     },
     "output_type": "display_data"
    }
   ],
   "source": [
    "R = 0.0254/2.0 # Radius of the optic i.e. size\n",
    "w = np.linspace(4.8e-3,4.9e-3,100)\n",
    "L = np.exp(-2*R**2/w**2)\n",
    "\n",
    "fig = plt.figure()\n",
    "ax = fig.add_subplot(111)\n",
    "ax.plot(w*1e3, L*1e6)\n",
    "ax.grid()\n",
    "ax.set_ylabel('Clipping loss [ppm]')\n",
    "ax.set_xlabel('Spot radius [mm]')\n",
    "plt.show(fig)"
   ]
  },
  {
   "cell_type": "markdown",
   "metadata": {},
   "source": [
    "## For the beam splitter"
   ]
  },
  {
   "cell_type": "code",
   "execution_count": 15,
   "metadata": {},
   "outputs": [
    {
     "data": {
      "image/png": "[encoded data removed]",
      "text/plain": [
       "<Figure size 432x288 with 1 Axes>"
      ]
     },
     "metadata": {
      "needs_background": "light"
     },
     "output_type": "display_data"
    }
   ],
   "source": [
    "R = 0.0254/2.0 # Radius of the beam splitter\n",
    "# Compensating for 45 degree angle of incidence\n",
    "R /= np.sqrt(2)\n",
    "w = np.linspace(3.4e-3,3.5e-3,100)\n",
    "L = np.exp(-2*R**2/w**2)\n",
    "\n",
    "\n",
    "fig = plt.figure()\n",
    "ax = fig.add_subplot(111)\n",
    "ax.plot(w*1e3, L*1e6)\n",
    "ax.grid()\n",
    "ax.set_ylabel('Clipping loss [ppm]')\n",
    "ax.set_xlabel('Spot radius [mm]')\n",
    "plt.show(fig)"
   ]
  },
  {
   "cell_type": "markdown",
   "metadata": {},
   "source": [
    "## Angle of incidence for the folded cavity"
   ]
  },
  {
   "cell_type": "code",
   "execution_count": 21,
   "metadata": {},
   "outputs": [
    {
     "data": {
      "image/png": "[encoded data removed]",
      "text/plain": [
       "<Figure size 432x288 with 1 Axes>"
      ]
     },
     "metadata": {
      "needs_background": "light"
     },
     "output_type": "display_data"
    }
   ],
   "source": [
    "# Safety margin between SR2 and the optical axis between SR2 and SRM.\n",
    "d = 0.015\n",
    "# Radius of SR1\n",
    "a = 0.0127\n",
    "# Safety margin between SRM and SR1 + safety margin between SR2 and X-arm. Quickly estimated values. \n",
    "b = 0.01 + 0.035\n",
    "# Distance between telescope mirrors\n",
    "L = np.linspace(0.2,0.45,100)\n",
    "# 2*Angle of incidence on telescope mirrors\n",
    "theta = np.arcsin((a+d)/L)*180.0/np.pi\n",
    "# SR path lenght (SRC with arms excluded)\n",
    "L_sr = L*(1.0+2.0*np.cos(theta*np.pi/180.0)) + b\n",
    "\n",
    "fig = plt.figure()\n",
    "ax = fig.add_subplot(111)\n",
    "ax.plot(theta/2.0, L, label='SR1 to SR2')\n",
    "#ax.plot(theta, L_sr, label='Minimum SR length for given system')\n",
    "ax.plot(theta/2.0, L_SRC-L_sr, label='Arm length')\n",
    "\n",
    "#ax.plot([theta.min(), theta.max()],[L_SRC,L_SRC], 'r--', label='Total SRC length')\n",
    "\n",
    "ax.grid()\n",
    "ax.set_xlabel('AoI [deg]')\n",
    "ax.set_ylabel('Length [m]')\n",
    "ax.legend()\n",
    "plt.show(fig)"
   ]
  },
  {
   "cell_type": "code",
   "execution_count": 22,
   "metadata": {},
   "outputs": [
    {
     "name": "stdout",
     "output_type": "stream",
     "text": [
      "Arm length: 0.5003862934757519 m\n",
      "Angle of incidence: 2.8387381026575267 deg\n",
      "L_sr1: 0.31362647038642977 m\n",
      "L_sr3: 0.28862647038642975 m\n"
     ]
    }
   ],
   "source": [
    "L_sr2 = 0.280\n",
    "# 2*Angle of incidence on telescope mirrors\n",
    "theta = np.arcsin((a+d)/L_sr2)*180.0/np.pi\n",
    "# SR path lenght (SRC with arms excluded)\n",
    "L_sr = L_sr2*(1.0+2.0*np.cos(theta*np.pi/180.0)) + b\n",
    "\n",
    "L_sr1 = L_sr2*np.cos(theta*np.pi/180.0) + 0.035\n",
    "\n",
    "L_sr3 = L_sr2*np.cos(theta*np.pi/180.0) + 0.01\n",
    "\n",
    "print('Arm length: {} m'.format(L_SRC-L_sr))\n",
    "print('Angle of incidence: {} deg'.format(theta/2.0))\n",
    "print('L_sr1: {} m'.format(L_sr1))\n",
    "print('L_sr3: {} m'.format(L_sr3))\n"
   ]
  },
  {
   "cell_type": "markdown",
   "metadata": {},
   "source": [
    "## Twin SRC"
   ]
  },
  {
   "cell_type": "code",
   "execution_count": 27,
   "metadata": {},
   "outputs": [
    {
     "name": "stderr",
     "output_type": "stream",
     "text": [
      "/miniconda3/envs/py37env/lib/python3.7/site-packages/ipykernel_launcher.py:17: RuntimeWarning: invalid value encountered in arcsin\n"
     ]
    },
    {
     "data": {
      "image/png": "[encoded data removed]",
      "text/plain": [
       "<Figure size 432x288 with 1 Axes>"
      ]
     },
     "metadata": {
      "needs_background": "light"
     },
     "output_type": "display_data"
    }
   ],
   "source": [
    "# Safety margin between TSR1 and the optical axis between TSR2 and TSRM.\n",
    "d = 0.015\n",
    "# Radius of TSR1\n",
    "a = 0.0127\n",
    "# Safety margin between TSR1 and DC1 + safety margin between TSR2 and SRM. Quickly estimated values. \n",
    "b = 0.025 + 0.025\n",
    "# Propagation through crystal\n",
    "c = 1.8*0.01\n",
    "# Distance of DCs from crystal\n",
    "e = 0.04\n",
    "# Transmission through SRM\n",
    "f = 0.06*1.45\n",
    "\n",
    "# Distance between telescope mirrors\n",
    "L = np.linspace(0.025,0.5,100)\n",
    "# 2*Angle of incidence on telescope mirrors\n",
    "theta = np.arcsin((a+d)/L)*180.0/np.pi\n",
    "# TSR path length (SRC with arms excluded)\n",
    "L_DC2_TSRM = L_SRC - (L*(1.0+2.0*np.cos(theta*np.pi/180.0)) + b + c + e + f)\n",
    "\n",
    "fig = plt.figure()\n",
    "ax = fig.add_subplot(111)\n",
    "ax.plot(theta/2.0, L, label='TSR1 to TSR2')\n",
    "# ax.plot(theta/2.0, L_tsr, label='TSRC minimum boptical path length')\n",
    "ax.plot(theta/2.0, L_DC2_TSRM, label='Distance between DC2 and TSRM')\n",
    "\n",
    "# ax.plot(theta/2.0, L_SRC-L_sr, label='Arm length')\n",
    "\n",
    "#ax.plot([theta.min()/2.0, theta.max()/2.0],[L_SRC,L_SRC], 'r--', label='SRC length')\n",
    "\n",
    "ax.grid()\n",
    "ax.set_xlabel('AoI [deg]')\n",
    "ax.set_ylabel('Length [m]')\n",
    "ax.legend()\n",
    "plt.show(fig)"
   ]
  },
  {
   "cell_type": "code",
   "execution_count": 28,
   "metadata": {},
   "outputs": [
    {
     "name": "stdout",
     "output_type": "stream",
     "text": [
      "Angle of incidence: 2.11240986058625 deg\n",
      "L_DC2_TSRM: 0.10168267550670684 m\n",
      "L_tsr1: 0.4099782793709523 m\n",
      "L_tsr3: 0.38497827937095236 m\n",
      "TSR2 to crystal: 0.4049782793709524 m\n",
      "Crystal to TSR: 0.12168267550670685 m\n"
     ]
    }
   ],
   "source": [
    "L_tsr2 = 0.376\n",
    "# 2*Angle of incidence on telescope mirrors\n",
    "theta = np.arcsin((a+d)/L_tsr2)*180.0/np.pi\n",
    "# TSR path length (SRC with arms excluded)\n",
    "L_tsr1 = L_tsr2*np.cos(theta*np.pi/180.0) + 0.035\n",
    "L_tsr3 = L_tsr2*np.cos(theta*np.pi/180.0) + 0.01\n",
    "L_DC2_TSRM = L_SRC - (L_tsr2*(1.0+2.0*np.cos(theta*np.pi/180.0)) + b + 1.8*0.01 + 0.04 + 0.06*1.45)\n",
    "L_tsr2_crys = L_tsr3 + 2e-2 #2 cm is the distance from dichroic to crystal\n",
    "L_Crys_TSRM = L_DC2_TSRM + 2e-2 #2 cm is the distance from dichroic to crystal\n",
    "\n",
    "print('Angle of incidence: {} deg'.format(theta/2.0))\n",
    "print('L_DC2_TSRM: {} m'.format(L_DC2_TSRM))\n",
    "print('L_tsr1: {} m'.format(L_tsr1))\n",
    "print('L_tsr3: {} m'.format(L_tsr3))\n",
    "print('TSR2 to crystal: {} m'.format(L_tsr2_crys))\n",
    "print('Crystal to TSR: {} m'.format(L_Crys_TSRM))\n"
   ]
  },
  {
   "cell_type": "markdown",
   "metadata": {},
   "source": [
    "## Maximum possible length between TSR2 and crystal\n"
   ]
  },
  {
   "cell_type": "code",
   "execution_count": 34,
   "metadata": {},
   "outputs": [
    {
     "data": {
      "text/plain": [
       "0.004772997764312543"
      ]
     },
     "execution_count": 34,
     "metadata": {},
     "output_type": "execute_result"
    }
   ],
   "source": [
    "from pykat.optics import ABCD as a\n",
    "\n",
    "w0 = 30e-6\n",
    "q0 = BeamParam(w0=w0, z=0, nr=kat.sCRYS.n.value)\n",
    "S0 = a.space(kat.sCRYS.n.value, kat.sCRYS.L.value/2.0)\n",
    "S1 = a.mirror_trans(kat.sCRYS.n.value, 1, np.inf)\n",
    "S3 = a.space(1,0.42)\n",
    "\n",
    "Ssum1 = S3 * S1 * S0\n",
    "\n",
    "q2 = a.apply(Ssum1, q0, 1.8, 1.0)\n",
    "\n",
    "q2.w"
   ]
  },
  {
   "cell_type": "code",
   "execution_count": 46,
   "metadata": {},
   "outputs": [
    {
     "data": {
      "text/plain": [
       "array(0.10284648)"
      ]
     },
     "execution_count": 46,
     "metadata": {},
     "output_type": "execute_result"
    }
   ],
   "source": [
    "w0 = 30e-6\n",
    "q0 = BeamParam(w0=w0, z=0, nr=kat.sCRYS.n.value)\n",
    "S0 = a.space(kat.sCRYS.n.value, kat.sCRYS.L.value/2.0)\n",
    "S1 = a.mirror_trans(kat.sCRYS.n.value, 1, np.inf)\n",
    "S3 = a.space(1, 0.10)\n",
    "\n",
    "Ssum1 = S3 * S1 * S0\n",
    "\n",
    "q2 = a.apply(Ssum1, q0, 1.8, 1.0)\n",
    "\n",
    "q2.Rc"
   ]
  },
  {
   "cell_type": "code",
   "execution_count": 37,
   "metadata": {},
   "outputs": [
    {
     "data": {
      "text/plain": [
       "array(0.12283529)"
      ]
     },
     "execution_count": 37,
     "metadata": {},
     "output_type": "execute_result"
    }
   ],
   "source": [
    "q2.Rc"
   ]
  },
  {
   "cell_type": "code",
   "execution_count": 30,
   "metadata": {},
   "outputs": [
    {
     "data": {
      "image/png": "[encoded data removed]",
      "text/plain": [
       "<Figure size 432x288 with 1 Axes>"
      ]
     },
     "metadata": {
      "needs_background": "light"
     },
     "output_type": "display_data"
    }
   ],
   "source": [
    "from pykat.optics import ABCD as a\n",
    "\n",
    "w0 = 30e-6\n",
    "q0 = BeamParam(w0=w0, z=0, nr=kat.sCRYS.n.value)\n",
    "S0 = a.space(kat.sCRYS.n.value, kat.sCRYS.L.value/2.0)\n",
    "S1 = a.mirror_trans(kat.sCRYS.n.value, 1, np.inf)\n",
    "# S3 = a.space(1,0.4)\n",
    "\n",
    "Ssum1 = S1 * S0\n",
    "\n",
    "q2 = a.apply(Ssum1, q0, 1.8, 1.0)\n",
    "\n",
    "\n",
    "zs = np.linspace(0,0.5,50)\n",
    "w = np.zeros(len(zs))\n",
    "for k,z in enumerate(zs):\n",
    "    w[k] = (q2+z).w\n",
    "  \n",
    "fig = plt.figure()\n",
    "ax = fig.add_subplot(111)\n",
    "ax.plot(zs, w*1e3)\n",
    "ax.plot([zs.min(), zs.max()], [4.8,4.8] )\n",
    "ax.grid()\n",
    "ax.set_xlabel('z [m]')\n",
    "ax.set_ylabel('Spot size [mm]')\n",
    "plt.show(fig)"
   ]
  },
  {
   "cell_type": "code",
   "execution_count": null,
   "metadata": {},
   "outputs": [],
   "source": []
  },
  {
   "cell_type": "code",
   "execution_count": null,
   "metadata": {},
   "outputs": [],
   "source": []
  }
 ],
 "metadata": {
  "kernelspec": {
   "display_name": "Python 3",
   "language": "python",
   "name": "python3"
  },
  "language_info": {
   "codemirror_mode": {
    "name": "ipython",
    "version": 3
   },
   "file_extension": ".py",
   "mimetype": "text/x-python",
   "name": "python",
   "nbconvert_exporter": "python",
   "pygments_lexer": "ipython3",
   "version": "3.7.2"
  },
  "toc": {
   "base_numbering": 1,
   "nav_menu": {},
   "number_sections": true,
   "sideBar": true,
   "skip_h1_title": false,
   "title_cell": "Table of Contents",
   "title_sidebar": "Contents",
   "toc_cell": false,
   "toc_position": {
    "height": "calc(100% - 180px)",
    "left": "10px",
    "top": "150px",
    "width": "349px"
   },
   "toc_section_display": true,
   "toc_window_display": true
  },
  "toc_position": {
   "height": "640px",
   "left": "1262.7px",
   "right": "20px",
   "top": "97px",
   "width": "271px"
  }
 },
 "nbformat": 4,
 "nbformat_minor": 2
}
