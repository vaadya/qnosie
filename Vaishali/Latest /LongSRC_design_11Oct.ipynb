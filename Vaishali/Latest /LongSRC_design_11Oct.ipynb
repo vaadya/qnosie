{
 "cells": [
  {
   "cell_type": "markdown",
   "metadata": {},
   "source": [
    "<span style=\"font-size:200%; text-align:left;\"><b>Lab setup of long SRC in a Michelson</b></span>\n",
    "<br/>\n",
    "\n"
   ]
  },
  {
   "cell_type": "markdown",
   "metadata": {},
   "source": [
    "# Importing packages"
   ]
  },
  {
   "cell_type": "code",
   "execution_count": 1,
   "metadata": {},
   "outputs": [
    {
     "name": "stdout",
     "output_type": "stream",
     "text": [
      "                                              ..-\n",
      "    PyKat develop         _                  '(\n",
      "                          \\`.|\\.__...-\"\"\"\"-_.\" )\n",
      "       ..+-----.._        /  ' `            .-'\n",
      "   . '            `:      7/* _/._\\    \\   (\n",
      "  (        '::;;+;;:      `-\"' =\" /,`\"\" `) /\n",
      "  L.        \\`:::a:f            c_/     n_'\n",
      "  ..`--...___`.  .    ,\n",
      "   `^-....____:   +.      www.gwoptics.org/pykat\n",
      "\n"
     ]
    }
   ],
   "source": [
    "import pykat\n",
    "import pykat.ifo as ifo\n",
    "import pykat.ifo.aligo as aligo\n",
    "import pykat.ifo.aligo.plot\n",
    "from pykat.optics import ABCD as a\n",
    "\n",
    "import numpy as np\n",
    "import matplotlib.pyplot as plt\n",
    "from scipy.optimize import minimize_scalar\n",
    "\n",
    "import pickle\n",
    "import matplotlib as mpl\n",
    "mpl.rcParams['axes.formatter.useoffset']=False\n",
    "\n",
    "\n",
    "from scipy.optimize import minimize\n",
    "from pykat.optics.gaussian_beams import BeamParam"
   ]
  },
  {
   "cell_type": "markdown",
   "metadata": {},
   "source": [
    "## The model"
   ]
  },
  {
   "cell_type": "code",
   "execution_count": 2,
   "metadata": {},
   "outputs": [],
   "source": [
    "base = pykat.finesse.kat()\n",
    "base.verbose = True\n",
    "base.load(\"LongSRC_design_06Oct.kat\")\n",
    "\n",
    "base.removeBlock('Photodiodes')\n"
   ]
  },
  {
   "cell_type": "markdown",
   "metadata": {},
   "source": [
    "# Run 0\n",
    "SRC parameters without TSRC"
   ]
  },
  {
   "cell_type": "code",
   "execution_count": 3,
   "metadata": {},
   "outputs": [],
   "source": [
    "RoC = [0.1,0.25,0.5,0.75,1,1.333,1.5,2,3,4,5,6.667,10]   # RoCs available off the shelf\n",
    "\n",
    "\n",
    "RoC_EX = 5\n",
    "RoC_EY = 5\n",
    "\n",
    "\n",
    "w_crys = 30e-6\n",
    "\n",
    "# Constraints\n",
    "w_bs = 3.4e-3\n",
    "w_etm = 4.8e-3\n",
    "w_srm = 4.8e-3"
   ]
  },
  {
   "cell_type": "markdown",
   "metadata": {},
   "source": [
    "## Resonance conditions for carrier in SRC"
   ]
  },
  {
   "cell_type": "code",
   "execution_count": 4,
   "metadata": {},
   "outputs": [
    {
     "name": "stdout",
     "output_type": "stream",
     "text": [
      "--------------------------------------------------------------\n",
      "Running kat - Started at 2019-10-14 11:10:42.135515\n",
      "\n",
      "Finished in 0.0225298 seconds\n"
     ]
    },
    {
     "name": "stderr",
     "output_type": "stream",
     "text": [
      "\r",
      "  0% | ETA:  --:--:-- | Calculating                                            \r",
      "  1% | ETA:  0:00:00 | Calculating                                             \r",
      "  2% | ETA:  0:00:00 | Calculating                                             \r",
      "  3% | ETA:  0:00:00 | Calculating                                             \r",
      "  4% | ETA:  0:00:00 | Calculating                                             \r",
      "  5% | ETA:  0:00:00 | Calculating                                             \r",
      "  6% | ETA:  0:00:00 | Calculating                                             \r",
      "  7% | ETA:  0:00:00 | Calculating                                             \r",
      "  8% | ETA:  0:00:00 | Calculating                                             \r",
      "  9% | ETA:  0:00:00 | Calculating                                             \r",
      " 10% | ETA:  0:00:00 | Calculating                                             \r",
      " 11% | ETA:  0:00:00 | Calculating                                             \r",
      " 12% | ETA:  0:00:00 | Calculating                                             \r",
      " 13% | ETA:  0:00:00 | Calculating                                             \r",
      " 14% | ETA:  0:00:00 | Calculating                                             \r",
      " 15% | ETA:  0:00:00 | Calculating                                             \r",
      " 16% | ETA:  0:00:00 | Calculating                                             \r",
      " 17% | ETA:  0:00:00 | Calculating                                             \r",
      " 18% | ETA:  0:00:00 | Calculating                                             \r",
      " 19% | ETA:  0:00:00 | Calculating                                             \r",
      " 20% | ETA:  0:00:00 | Calculating                                             \r",
      " 21% | ETA:  0:00:00 | Calculating                                             \r",
      " 22% | ETA:  0:00:00 | Calculating                                             \r",
      " 23% | ETA:  0:00:00 | Calculating                                             \r",
      " 24% | ETA:  0:00:00 | Calculating                                             \r",
      " 25% | ETA:  0:00:00 | Calculating                                             \r",
      " 26% | ETA:  0:00:00 | Calculating                                             \r",
      " 27% | ETA:  0:00:00 | Calculating                                             \r",
      " 28% | ETA:  0:00:00 | Calculating                                             \r",
      " 29% | ETA:  0:00:00 | Calculating                                             \r",
      " 30% | ETA:  0:00:00 | Calculating                                             \r",
      " 31% | ETA:  0:00:00 | Calculating                                             \r",
      " 32% | ETA:  0:00:00 | Calculating                                             \r",
      " 33% | ETA:  0:00:00 | Calculating                                             \r",
      " 34% | ETA:  0:00:00 | Calculating                                             \r",
      " 35% | ETA:  0:00:00 | Calculating                                             \r",
      " 36% | ETA:  0:00:00 | Calculating                                             \r",
      " 37% | ETA:  0:00:00 | Calculating                                             \r",
      " 38% | ETA:  0:00:00 | Calculating                                             \r",
      " 39% | ETA:  0:00:00 | Calculating                                             \r",
      " 40% | ETA:  0:00:00 | Calculating                                             \r",
      " 41% | ETA:  0:00:00 | Calculating                                             \r",
      " 42% | ETA:  0:00:00 | Calculating                                             \r",
      " 43% | ETA:  0:00:00 | Calculating                                             \r",
      " 44% | ETA:  0:00:00 | Calculating                                             \r",
      " 45% | ETA:  0:00:00 | Calculating                                             \r",
      " 46% | ETA:  0:00:00 | Calculating                                             \r",
      " 47% | ETA:  0:00:00 | Calculating                                             \r",
      " 48% | ETA:  0:00:00 | Calculating                                             \r",
      " 49% | ETA:  0:00:00 | Calculating                                             \r",
      " 50% | ETA:  0:00:00 | Calculating                                             \r",
      " 51% | ETA:  0:00:00 | Calculating                                             \r",
      " 52% | ETA:  0:00:00 | Calculating                                             \r",
      " 53% | ETA:  0:00:00 | Calculating                                             \r",
      " 54% | ETA:  0:00:00 | Calculating                                             \r",
      " 55% | ETA:  0:00:00 | Calculating                                             \r",
      " 56% | ETA:  0:00:00 | Calculating                                             \r",
      " 57% | ETA:  0:00:00 | Calculating                                             \r",
      " 58% | ETA:  0:00:00 | Calculating                                             \r",
      " 59% | ETA:  0:00:00 | Calculating                                             \r",
      " 60% | ETA:  0:00:00 | Calculating                                             \r",
      " 61% | ETA:  0:00:00 | Calculating                                             \r",
      " 62% | ETA:  0:00:00 | Calculating                                             \r",
      " 63% | ETA:  0:00:00 | Calculating                                             \r",
      " 64% | ETA:  0:00:00 | Calculating                                             \r",
      " 65% | ETA:  0:00:00 | Calculating                                             \r",
      " 66% | ETA:  0:00:00 | Calculating                                             \r",
      " 67% | ETA:  0:00:00 | Calculating                                             \r",
      " 68% | ETA:  0:00:00 | Calculating                                             \r",
      " 69% | ETA:  0:00:00 | Calculating                                             \r",
      " 70% | ETA:  0:00:00 | Calculating                                             \r",
      " 71% | ETA:  0:00:00 | Calculating                                             \r",
      " 72% | ETA:  0:00:00 | Calculating                                             \r",
      " 73% | ETA:  0:00:00 | Calculating                                             \r",
      " 74% | ETA:  0:00:00 | Calculating                                             \r",
      " 75% | ETA:  0:00:00 | Calculating                                             \r",
      " 76% | ETA:  0:00:00 | Calculating                                             \r",
      " 77% | ETA:  0:00:00 | Calculating                                             \r",
      " 78% | ETA:  0:00:00 | Calculating                                             \r",
      " 79% | ETA:  0:00:00 | Calculating                                             \r",
      " 80% | ETA:  0:00:00 | Calculating                                             \r",
      " 81% | ETA:  0:00:00 | Calculating                                             \r",
      " 82% | ETA:  0:00:00 | Calculating                                             \r",
      " 83% | ETA:  0:00:00 | Calculating                                             \r",
      " 84% | ETA:  0:00:00 | Calculating                                             \r",
      " 85% | ETA:  0:00:00 | Calculating                                             \r",
      " 86% | ETA:  0:00:00 | Calculating                                             \r",
      " 87% | ETA:  0:00:00 | Calculating                                             \r",
      " 88% | ETA:  0:00:00 | Calculating                                             \r",
      " 89% | ETA:  0:00:00 | Calculating                                             \r",
      " 90% | ETA:  0:00:00 | Calculating                                             \r",
      " 91% | ETA:  0:00:00 | Calculating                                             \r",
      " 92% | ETA:  0:00:00 | Calculating                                             \r",
      " 93% | ETA:  0:00:00 | Calculating                                             \r",
      " 94% | ETA:  0:00:00 | Calculating                                             \r",
      " 95% | ETA:  0:00:00 | Calculating                                             \r",
      " 96% | ETA:  0:00:00 | Calculating                                             \r",
      " 97% | ETA:  0:00:00 | Calculating                                             \r",
      " 98% | ETA:  0:00:00 | Calculating                                             \r",
      " 99% | ETA:  0:00:00 | Calculating                                             \r",
      "100% | ETA:  0:00:00 | Calculating                                             "
     ]
    },
    {
     "data": {
      "image/png": "[encoded data removed]",
      "text/plain": [
       "<Figure size 600x400 with 1 Axes>"
      ]
     },
     "metadata": {
      "needs_background": "light"
     },
     "output_type": "display_data"
    }
   ],
   "source": [
    "kat = base.deepcopy()\n",
    "kat.maxtem = 'off'\n",
    "kat.cTSRM.remove()\n",
    "\n",
    "kat.parse(\"\"\"\n",
    "ad C 0 0 0 nSRM1\n",
    "pd P_HOM nSRM1*\n",
    "xaxis SRM phi lin -90 90 200\n",
    "\n",
    "yaxis abs\n",
    "\"\"\")\n",
    "kat.eom1.midx = 0\n",
    "out = kat.run()\n",
    "\n",
    "fig = plt.figure(dpi=100)\n",
    "ax = fig.add_subplot(111)\n",
    "#ax.plot(out.x,out['P_HOM'],label = 'DC output')\n",
    "ax.plot(out.x, out['C'],label = 'HG00')\n",
    "\n",
    "\n",
    "ax.set_xlim(out.x.min(),out.x.max())\n",
    "ax.grid()\n",
    "ax.legend()\n",
    "ax.set_title('SRC mode content')\n",
    "ax.set_xlabel('SRM tuning [deg]')\n",
    "ax.set_ylabel('au')\n",
    "plt.show(fig)\n",
    "\n",
    "\n"
   ]
  },
  {
   "cell_type": "markdown",
   "metadata": {},
   "source": [
    "### Current SRC parameters"
   ]
  },
  {
   "cell_type": "code",
   "execution_count": 5,
   "metadata": {},
   "outputs": [
    {
     "name": "stdout",
     "output_type": "stream",
     "text": [
      "Parsing `mismatches` into pykat object not implemented yet, added as extra line.\n",
      "--------------------------------------------------------------\n",
      "Running kat - Started at 2019-10-14 11:10:42.303205\n",
      "\n",
      "Finished in 0.016336 seconds\n",
      "\n",
      "------------------------------------------------------------------------\n",
      "                     FINESSE 2.2                (build 2.2-31-ge1141681)\n",
      "       o_.-=.        Frequency domain INterferomEter Simulation SoftwarE\n",
      "      (\\'\".\\|        06.03.2019         http://www.gwoptics.org/finesse/\n",
      "      .>' (_--.      \n",
      "   _=/d   ,^\\        Input file /var/folders/k1/yts33d_93v1_9yd1768nkwph0000gn/T/tmp_q1i9hx_.kat,\n",
      "  ~~ \\)-'   '        Output file /var/folders/k1/yts33d_93v1_9yd1768nkwph0000gn/T/tmp_q1i9hx_.out,\n",
      "     / |             Gnuplot file /var/folders/k1/yts33d_93v1_9yd1768nkwph0000gn/T/tmp_q1i9hx_.gnu \n",
      "    '  '                                        Mon Oct 14 11:10:42 2019\n",
      "------------------------------------------------------------------------\n",
      " 'noxaxis' has been set, ignoring all other xaxis commands\n",
      " \n",
      "---- Start interferometer mismatches ----\n",
      " mirror: TSRM\n",
      " \t1->1:       0.5474517968\n",
      "\t2->2:       0.5474517968\n",
      " bs: BS\n",
      " \t1->3:    2.589177909e-06\n",
      "\t3->1:    2.589177909e-06\n",
      "\t3->4:    2.589177909e-06\n",
      "\t4->3:    2.589177909e-06\n",
      " \n",
      "---- End interferometer mismatches ----\n",
      " \n",
      " computation time:  0.00788948s\n",
      "\n",
      "\n",
      "      w (mm) max_w (mm)\n",
      "EX:  0.7831   4.8 \n",
      "EY:  0.7784   4.8 \n",
      "BS:  0.5062   3.4 \n",
      "SRM: 0.5466   4.8 \n",
      "\n",
      "EX:  diff = -4.02 mm, rdiff = -0.84 \n",
      "EY:  diff = -4.02 mm, rdiff = -0.84 \n",
      "BS:  diff = -2.89 mm, rdiff = -0.85 \n",
      "SRM: diff = -4.25 mm, rdiff = -0.89 \n",
      "\n",
      "Cavity is stable! :) \n",
      "Stability parameters: 0.8497785  0.8447385  0.8497785  0.8447385\n"
     ]
    },
    {
     "name": "stderr",
     "output_type": "stream",
     "text": [
      "\r",
      "  0% | ETA:  --:--:-- | Calculating                                            \r",
      "100% | ETA:  0:00:00 | Calculating                                             "
     ]
    }
   ],
   "source": [
    "kat = base.deepcopy()\n",
    "kat.cTSRM.remove()\n",
    "\n",
    "kat.parse(\"\"\"\n",
    "bp w_ex x w nEMx\n",
    "bp w_ey x w nEMy\n",
    "bp w_bs x w nBS4\n",
    "bp w_srm x w nSRM1\n",
    "\n",
    "cp cSRMX x m\n",
    "cp cSRMY x m\n",
    "cp cSRMX y m\n",
    "cp cSRMY y m \n",
    "\n",
    "noxaxis\n",
    "yaxis abs\n",
    "\n",
    "mismatches\n",
    "\"\"\")\n",
    "kat.eom1.midx = 0\n",
    "\n",
    "out = kat.run()\n",
    "print(out.stdout)\n",
    "print()\n",
    "print('      w (mm) max_w (mm)')\n",
    "print('EX:  {:.4f}   {} '.format(out['w_ex']*1e3, w_etm*1e3 ))\n",
    "print('EY:  {:.4f}   {} '.format(out['w_ey']*1e3, w_etm*1e3 ))\n",
    "print('BS:  {:.4f}   {} '.format(out['w_bs']*1e3, w_bs*1e3 ))\n",
    "print('SRM: {:.4f}   {} '.format(out['w_srm']*1e3, w_srm*1e3 ))\n",
    "\n",
    "print()\n",
    "\n",
    "print('EX:  diff = {:.2f} mm, rdiff = {:.2} '.format((out['w_ex']-w_etm)*1e3, (out['w_ex']-w_etm)/np.abs(w_etm) ) )\n",
    "print('EY:  diff = {:.2f} mm, rdiff = {:.2} '.format((out['w_ey']-w_etm)*1e3, (out['w_ey']-w_etm)/np.abs(w_etm) ) )\n",
    "print('BS:  diff = {:.2f} mm, rdiff = {:.2} '.format((out['w_bs']-w_bs)*1e3, (out['w_bs']-w_bs)/np.abs(w_bs) ) )\n",
    "print('SRM: diff = {:.2f} mm, rdiff = {:.2} '.format((out['w_srm']-w_srm)*1e3, (out['w_srm']-w_srm)/np.abs(w_srm) ) )\n",
    "print()\n",
    "\n",
    "# Checking stability\n",
    "# --------------------\n",
    "mX_x = np.abs(out['cSRMX_x_m'])\n",
    "mY_x = np.abs(out['cSRMY_x_m'])\n",
    "mX_y = np.abs(out['cSRMX_x_m'])\n",
    "mY_y = np.abs(out['cSRMY_x_m'])\n",
    "\n",
    "if (not (mX_x > -1 and mX_x < 1) or not (mX_y > -1 and mX_y < 1) or \n",
    "    not (mY_x > -1 and mY_x < 1) or not (mY_y > -1 and mY_y < 1)):\n",
    "    print('Cavity is unstable!!!!! :(')\n",
    "    print('Stability parameters: {}  {}  {}  {}'.format(mX_x, mY_x, mX_y, mY_y))\n",
    "else:\n",
    "    print('Cavity is stable! :) ')\n",
    "    print('Stability parameters: {}  {}  {}  {}'.format(mX_x, mY_x, mX_y, mY_y))\n",
    "# --------------------\n",
    "  \n",
    "    \n"
   ]
  },
  {
   "cell_type": "markdown",
   "metadata": {},
   "source": [
    "### HOM spacing in SRC"
   ]
  },
  {
   "cell_type": "code",
   "execution_count": 7,
   "metadata": {},
   "outputs": [
    {
     "name": "stdout",
     "output_type": "stream",
     "text": [
      "Parsing `tem Laser 0 0 1.0 0.0` into pykat object not implemented yet, added as extra line.\n",
      "Parsing `tem Laser 1 0 1.0 0.0` into pykat object not implemented yet, added as extra line.\n",
      "Parsing `tem Laser 2 0 1.0 0.0` into pykat object not implemented yet, added as extra line.\n",
      "Parsing `tem Laser 3 0 1.0 0.0` into pykat object not implemented yet, added as extra line.\n",
      "Parsing `tem Laser 4 0 1.0 0.0` into pykat object not implemented yet, added as extra line.\n",
      "--------------------------------------------------------------\n",
      "Running kat - Started at 2019-10-14 11:11:01.283986\n"
     ]
    },
    {
     "name": "stderr",
     "output_type": "stream",
     "text": [
      "\r",
      "  0% | ETA:  --:--:-- | Calculating                                            \r",
      "  1% | ETA:  0:00:00 | Calculating                                             \r",
      "  2% | ETA:  0:00:00 | Calculating                                             \r",
      "  3% | ETA:  0:00:00 | Calculating                                             \r",
      "  4% | ETA:  0:00:00 | Calculating                                             \r",
      "  5% | ETA:  0:00:00 | Calculating                                             \r",
      "  6% | ETA:  0:00:00 | Calculating                                             \r",
      "  7% | ETA:  0:00:00 | Calculating                                             \r",
      "  8% | ETA:  0:00:00 | Calculating                                             \r",
      "  9% | ETA:  0:00:00 | Calculating                                             \r",
      " 10% | ETA:  0:00:00 | Calculating                                             \r",
      " 11% | ETA:  0:00:00 | Calculating                                             \r",
      " 12% | ETA:  0:00:00 | Calculating                                             \r",
      " 13% | ETA:  0:00:00 | Calculating                                             \r",
      " 14% | ETA:  0:00:00 | Calculating                                             \r",
      " 15% | ETA:  0:00:00 | Calculating                                             \r",
      " 16% | ETA:  0:00:00 | Calculating                                             \r",
      " 17% | ETA:  0:00:00 | Calculating                                             \r",
      " 18% | ETA:  0:00:00 | Calculating                                             \r",
      " 19% | ETA:  0:00:00 | Calculating                                             \r",
      " 20% | ETA:  0:00:00 | Calculating                                             \r",
      " 21% | ETA:  0:00:00 | Calculating                                             \r",
      " 22% | ETA:  0:00:00 | Calculating                                             \r",
      " 23% | ETA:  0:00:00 | Calculating                                             \r",
      " 24% | ETA:  0:00:00 | Calculating                                             \r",
      " 25% | ETA:  0:00:00 | Calculating                                             \r",
      " 26% | ETA:  0:00:00 | Calculating                                             \r",
      " 27% | ETA:  0:00:00 | Calculating                                             \r",
      " 28% | ETA:  0:00:00 | Calculating                                             \r",
      " 29% | ETA:  0:00:00 | Calculating                                             \r",
      " 30% | ETA:  0:00:00 | Calculating                                             \r",
      " 31% | ETA:  0:00:00 | Calculating                                             \r",
      " 32% | ETA:  0:00:00 | Calculating                                             \r",
      " 33% | ETA:  0:00:00 | Calculating                                             \r",
      " 34% | ETA:  0:00:00 | Calculating                                             \r",
      " 35% | ETA:  0:00:00 | Calculating                                             \r",
      " 36% | ETA:  0:00:00 | Calculating                                             \r",
      " 37% | ETA:  0:00:00 | Calculating                                             \r",
      " 38% | ETA:  0:00:00 | Calculating                                             \r",
      " 39% | ETA:  0:00:00 | Calculating                                             \r",
      " 40% | ETA:  0:00:00 | Calculating                                             \r",
      " 41% | ETA:  0:00:00 | Calculating                                             \r",
      " 42% | ETA:  0:00:00 | Calculating                                             \r",
      " 43% | ETA:  0:00:00 | Calculating                                             \r",
      " 44% | ETA:  0:00:00 | Calculating                                             \r",
      " 45% | ETA:  0:00:00 | Calculating                                             \r",
      " 46% | ETA:  0:00:00 | Calculating                                             \r",
      " 47% | ETA:  0:00:00 | Calculating                                             \r",
      " 48% | ETA:  0:00:00 | Calculating                                             \r",
      " 49% | ETA:  0:00:00 | Calculating                                             \r",
      " 50% | ETA:  0:00:00 | Calculating                                             \r",
      " 51% | ETA:  0:00:00 | Calculating                                             \r",
      " 52% | ETA:  0:00:00 | Calculating                                             \r",
      " 53% | ETA:  0:00:00 | Calculating                                             \r",
      " 54% | ETA:  0:00:00 | Calculating                                             \r",
      " 55% | ETA:  0:00:00 | Calculating                                             \r",
      " 56% | ETA:  0:00:00 | Calculating                                             \r",
      " 57% | ETA:  0:00:00 | Calculating                                             \r",
      " 58% | ETA:  0:00:00 | Calculating                                             \r",
      " 59% | ETA:  0:00:00 | Calculating                                             \r",
      " 60% | ETA:  0:00:00 | Calculating                                             \r",
      " 61% | ETA:  0:00:00 | Calculating                                             \r",
      " 62% | ETA:  0:00:00 | Calculating                                             \r",
      " 63% | ETA:  0:00:00 | Calculating                                             \r",
      " 64% | ETA:  0:00:00 | Calculating                                             \r",
      " 65% | ETA:  0:00:00 | Calculating                                             \r",
      " 66% | ETA:  0:00:00 | Calculating                                             \r",
      " 67% | ETA:  0:00:00 | Calculating                                             \r",
      " 68% | ETA:  0:00:00 | Calculating                                             \r",
      " 69% | ETA:  0:00:00 | Calculating                                             \r",
      " 70% | ETA:  0:00:00 | Calculating                                             \r",
      " 71% | ETA:  0:00:00 | Calculating                                             \r",
      " 72% | ETA:  0:00:00 | Calculating                                             \r",
      " 73% | ETA:  0:00:00 | Calculating                                             \r",
      " 74% | ETA:  0:00:00 | Calculating                                             \r",
      " 75% | ETA:  0:00:00 | Calculating                                             \r",
      " 76% | ETA:  0:00:00 | Calculating                                             \r",
      " 77% | ETA:  0:00:00 | Calculating                                             \r",
      " 78% | ETA:  0:00:00 | Calculating                                             \r",
      " 79% | ETA:  0:00:00 | Calculating                                             \r",
      " 80% | ETA:  0:00:00 | Calculating                                             \r",
      " 81% | ETA:  0:00:00 | Calculating                                             \r",
      " 82% | ETA:  0:00:00 | Calculating                                             \r",
      " 83% | ETA:  0:00:00 | Calculating                                             \r",
      " 84% | ETA:  0:00:00 | Calculating                                             \r",
      " 85% | ETA:  0:00:00 | Calculating                                             \r",
      " 86% | ETA:  0:00:00 | Calculating                                             \r",
      " 87% | ETA:  0:00:00 | Calculating                                             \r",
      " 88% | ETA:  0:00:00 | Calculating                                             \r",
      " 89% | ETA:  0:00:00 | Calculating                                             \r",
      " 90% | ETA:  0:00:00 | Calculating                                             \r",
      " 91% | ETA:  0:00:00 | Calculating                                             \r",
      " 92% | ETA:  0:00:00 | Calculating                                             \r",
      " 93% | ETA:  0:00:00 | Calculating                                             \r",
      " 94% | ETA:  0:00:00 | Calculating                                             \r",
      " 95% | ETA:  0:00:00 | Calculating                                             \r",
      " 96% | ETA:  0:00:00 | Calculating                                             \r",
      " 97% | ETA:  0:00:00 | Calculating                                             \r",
      " 98% | ETA:  0:00:00 | Calculating                                             \r",
      " 99% | ETA:  0:00:00 | Calculating                                             \r",
      "100% | ETA:  0:00:00 | Calculating                                             "
     ]
    },
    {
     "name": "stdout",
     "output_type": "stream",
     "text": [
      "\n",
      "Finished in 0.295752 seconds\n"
     ]
    },
    {
     "data": {
      "image/png": "[encoded data removed]",
      "text/plain": [
       "<Figure size 600x400 with 1 Axes>"
      ]
     },
     "metadata": {
      "needs_background": "light"
     },
     "output_type": "display_data"
    }
   ],
   "source": [
    "kat = base.deepcopy()\n",
    "kat.maxtem = 4\n",
    "kat.cTSRM.remove()\n",
    "\n",
    "kat.homody_lase.phase = -90\n",
    "\n",
    "kat.parse(\"\"\"\n",
    "tem Laser  0 0 1.0 0.0\n",
    "tem Laser  1 0 1.0 0.0\n",
    "tem Laser  2 0 1.0 0.0\n",
    "tem Laser  3 0 1.0 0.0\n",
    "tem Laser  4 0 1.0 0.0\n",
    "\n",
    "xaxis SRM phi lin -90 90 200\n",
    "yaxis abs\n",
    "\n",
    "pd P_HOM nSRM1*\n",
    "\n",
    "ad C 0 0 0 nSRM1*\n",
    "ad C10 1 0 0 nSRM1*\n",
    "ad C20 2 0 0 nSRM1*\n",
    "ad C30 3 0 0 nSRM1*\n",
    "ad C40 4 0 0 nSRM1*\n",
    "\n",
    "\n",
    "\"\"\")\n",
    "kat.eom1.midx = 0\n",
    "out = kat.run()\n",
    "\n",
    "fig = plt.figure(dpi=100)\n",
    "ax = fig.add_subplot(111)\n",
    "#ax.plot(out.x,out['P_HOM'],label = 'DC output')\n",
    "ax.plot(out.x, out['C'],label = 'HG00')\n",
    "ax.plot(out.x, out['C10'],label = 'HG10')\n",
    "ax.plot(out.x, out['C20'],label = 'HG20')\n",
    "ax.plot(out.x, out['C30'],label = 'HG30')\n",
    "ax.plot(out.x, out['C40'],label = 'HG40')\n",
    "\n",
    "ax.set_xlim(out.x.min(),out.x.max())\n",
    "ax.grid()\n",
    "ax.legend()\n",
    "ax.set_title('SRC mode content')\n",
    "ax.set_xlabel('SRM tuning [deg]')\n",
    "ax.set_ylabel('au')\n",
    "plt.show(fig)\n",
    "\n",
    "\n",
    "#print((out.x[out['C'].argmax()]))\n",
    "#print((out.x[out['C40'].argmax()]))"
   ]
  },
  {
   "cell_type": "markdown",
   "metadata": {},
   "source": [
    "# TSRC design\n",
    "\n",
    "\n",
    "## Designing the TSRC length\n"
   ]
  },
  {
   "cell_type": "code",
   "execution_count": 8,
   "metadata": {},
   "outputs": [
    {
     "data": {
      "image/png": "[encoded data removed]",
      "text/plain": [
       "<Figure size 432x288 with 1 Axes>"
      ]
     },
     "metadata": {
      "needs_background": "light"
     },
     "output_type": "display_data"
    }
   ],
   "source": [
    "L_SRC = 1.21\n",
    "# Safety margin between TSR1 and the optical axis between TSR2 and TSRM.\n",
    "d = 0.015\n",
    "# Radius of TSR1\n",
    "a = 0.0127\n",
    "# Safety margin between TSR1 and DC1 + safety margin between TSR2 and SRM. Quickly estimated values. \n",
    "b = 0.025 + 0.025\n",
    "# Propagation through crystal\n",
    "c = 1.8*0.01\n",
    "# Distance of DCs from crystal\n",
    "e = 0.04\n",
    "# Transmission through SRM\n",
    "f = 0.006*1.45\n",
    "\n",
    "# Distance between telescope mirrors\n",
    "L = np.linspace(0.23,0.65,100)\n",
    "# 2*Angle of incidence on telescope mirrors\n",
    "theta = np.arcsin((a+d)/L)*180.0/np.pi\n",
    "# TSR path length (SRC with arms excluded)\n",
    "L_DC2_TSRM = L_SRC - (L*(1.0+2.0*np.cos(theta*np.pi/180.0)) + b + c + e + f)\n",
    "\n",
    "fig = plt.figure()\n",
    "ax = fig.add_subplot(111)\n",
    "ax.plot(theta/2.0, L, label='TSR1 to TSR2')\n",
    "# ax.plot(theta/2.0, L_tsr, label='TSRC minimum boptical path length')\n",
    "ax.plot(theta/2.0, L_DC2_TSRM, label='Distance between DC2 and TSRM')\n",
    "\n",
    "# ax.plot(theta/2.0, L_SRC-L_sr, label='Arm length')\n",
    "\n",
    "#ax.plot([theta.min()/2.0, theta.max()/2.0],[L_SRC,L_SRC], 'r--', label='SRC length')\n",
    "\n",
    "ax.grid()\n",
    "ax.set_xlabel('AoI [deg]')\n",
    "ax.set_ylabel('Length [m]')\n",
    "ax.legend()\n",
    "plt.show(fig)"
   ]
  },
  {
   "cell_type": "code",
   "execution_count": 9,
   "metadata": {},
   "outputs": [
    {
     "name": "stdout",
     "output_type": "stream",
     "text": [
      "Angle of incidence: 2.4075193269558257 deg\n",
      "L_DC2_TSRM: 0.10562923130186164 m\n",
      "L_tsr1: 0.35383538434906914 m\n",
      "L_tsr3: 0.3388353843490691 m\n",
      "TSR2 to crystal: 0.35883538434906914 m\n",
      "Crystal to TSR: 0.12562923130186163 m\n"
     ]
    }
   ],
   "source": [
    "L_tsr2 = 0.33\n",
    "# 2*Angle of incidence on telescope mirrors\n",
    "theta = np.arcsin((a+d)/L_tsr2)*180.0/np.pi\n",
    "# TSR path length (SRC with arms excluded)\n",
    "L_tsr1 = L_tsr2*np.cos(theta*np.pi/180.0) + 0.025\n",
    "L_tsr3 = L_tsr2*np.cos(theta*np.pi/180.0) + 0.01\n",
    "L_DC2_TSRM = L_SRC - (L_tsr2*(1.0+2.0*np.cos(theta*np.pi/180.0)) + b + c + e + f)\n",
    "L_tsr2_crys = L_tsr3 + 2e-2 #2 cm is the distance from dichroic to crystal\n",
    "L_Crys_TSRM = L_DC2_TSRM + 2e-2 #2 cm is the distance from dichroic to crystal\n",
    "\n",
    "print('Angle of incidence: {} deg'.format(theta/2.0))\n",
    "print('L_DC2_TSRM: {} m'.format(L_DC2_TSRM))\n",
    "print('L_tsr1: {} m'.format(L_tsr1))\n",
    "print('L_tsr3: {} m'.format(L_tsr3))\n",
    "print('TSR2 to crystal: {} m'.format(L_tsr2_crys))\n",
    "print('Crystal to TSR: {} m'.format(L_Crys_TSRM))\n"
   ]
  },
  {
   "cell_type": "code",
   "execution_count": 10,
   "metadata": {},
   "outputs": [
    {
     "data": {
      "text/plain": [
       "0.027699778155138768"
      ]
     },
     "execution_count": 10,
     "metadata": {},
     "output_type": "execute_result"
    }
   ],
   "source": [
    "0.330*np.sin(4.815*np.pi/180.0)"
   ]
  },
  {
   "cell_type": "code",
   "execution_count": 11,
   "metadata": {},
   "outputs": [
    {
     "data": {
      "text/plain": [
       "0.0277"
      ]
     },
     "execution_count": 11,
     "metadata": {},
     "output_type": "execute_result"
    }
   ],
   "source": [
    "a+d"
   ]
  },
  {
   "cell_type": "code",
   "execution_count": 12,
   "metadata": {},
   "outputs": [
    {
     "data": {
      "text/plain": [
       "4.815038653911651"
      ]
     },
     "execution_count": 12,
     "metadata": {},
     "output_type": "execute_result"
    }
   ],
   "source": [
    "2.4075193269558257*2"
   ]
  },
  {
   "cell_type": "code",
   "execution_count": 13,
   "metadata": {},
   "outputs": [
    {
     "data": {
      "text/plain": [
       "0.10002923130186163"
      ]
     },
     "execution_count": 13,
     "metadata": {},
     "output_type": "execute_result"
    }
   ],
   "source": [
    "0.12562923130186163 - 0.0256"
   ]
  },
  {
   "cell_type": "code",
   "execution_count": 14,
   "metadata": {},
   "outputs": [
    {
     "data": {
      "text/plain": [
       "0.0456"
      ]
     },
     "execution_count": 14,
     "metadata": {},
     "output_type": "execute_result"
    }
   ],
   "source": [
    "0.0256 + 0.02"
   ]
  },
  {
   "cell_type": "code",
   "execution_count": 15,
   "metadata": {},
   "outputs": [
    {
     "data": {
      "text/plain": [
       "0.054400000000000004"
      ]
     },
     "execution_count": 15,
     "metadata": {},
     "output_type": "execute_result"
    }
   ],
   "source": [
    "0.1 -0.0456 "
   ]
  },
  {
   "cell_type": "code",
   "execution_count": 16,
   "metadata": {},
   "outputs": [
    {
     "data": {
      "text/plain": [
       "0.004772997764312543"
      ]
     },
     "execution_count": 16,
     "metadata": {},
     "output_type": "execute_result"
    }
   ],
   "source": [
    "from pykat.optics import ABCD as a\n",
    "\n",
    "w0 = 30e-6\n",
    "q0 = BeamParam(w0=w0, z=0, nr=kat.sCRYS.n.value)\n",
    "S0 = a.space(kat.sCRYS.n.value, kat.sCRYS.L.value/2.0)\n",
    "S1 = a.mirror_trans(kat.sCRYS.n.value, 1, np.inf)\n",
    "S3 = a.space(1,0.42)\n",
    "\n",
    "Ssum1 = S3 * S1 * S0\n",
    "\n",
    "q2 = a.apply(Ssum1, q0, 1.8, 1.0)\n",
    "\n",
    "q2.w"
   ]
  },
  {
   "cell_type": "code",
   "execution_count": 19,
   "metadata": {},
   "outputs": [
    {
     "name": "stdout",
     "output_type": "stream",
     "text": [
      "--------------------------------------------------------------\n",
      "Running kat - Started at 2019-10-14 11:11:16.152128\n",
      "\n",
      "Finished in 0.021147 seconds\n"
     ]
    },
    {
     "name": "stderr",
     "output_type": "stream",
     "text": [
      "\r",
      "  0% | ETA:  --:--:-- | Calculating                                            \r",
      "100% | ETA:  0:00:00 | Calculating                                             "
     ]
    }
   ],
   "source": [
    "kat = base.deepcopy()\n",
    "kat.cTSRM.remove()\n",
    "kat.homody_lase.phase = -90\n",
    "\n",
    "kat.ltsr1.L = 35.38e-2\n",
    "kat.ltsr2.L = 33e-2\n",
    "kat.TSR2_crys.L = (33.88 + 4.56)*1e-2\n",
    "kat.lcrys_tsrm.L = 10e-2\n",
    "\n",
    "\n",
    "kat.TSRM.Rc = 0.1\n",
    "\n",
    "kat.parse(\"\"\"\n",
    "\n",
    "bp qex x q nEMx\n",
    "bp qbsx x q nBS4\n",
    "bp qsrm x q nSRM2\n",
    "bp qtsr1 x q nTSR1a\n",
    "bp qtsr2 x q nTSR2a\n",
    "bp qcr1 x q nCRYS1a\n",
    "bp q_cr1b x q nCRYS1b\n",
    "bp qcr2 x q nCRYS2b\n",
    "bp qtsrm x q nTSRM1\n",
    "\n",
    "\n",
    "cp cSRMX x m\n",
    "cp cSRMY x m\n",
    "cp cSRMX y m\n",
    "cp cSRMY y m\n",
    "\n",
    "noxaxis\n",
    "yaxis abs:deg\n",
    "trace 10\n",
    "\"\"\")\n",
    "\n",
    "                \n",
    "out = kat.run()\n",
    "\n",
    "\n",
    "qex = out['qex']\n",
    "\n",
    "qbsx = out['qbsx']\n",
    "qsrm = out['qsrm']\n",
    "\n",
    "qtsr1 = out['qtsr1']\n",
    "qtsr2 = out['qtsr2']\n",
    "\n",
    "\n",
    "qcr1 = out['qcr1']\n",
    "qcr2 = out['qcr2']\n",
    "qtsrm = out['qtsrm']\n",
    "\n"
   ]
  },
  {
   "cell_type": "code",
   "execution_count": 22,
   "metadata": {},
   "outputs": [
    {
     "data": {
      "text/plain": [
       "-0.08888680120389947"
      ]
     },
     "execution_count": 22,
     "metadata": {},
     "output_type": "execute_result"
    }
   ],
   "source": [
    "def stability_tsrc(rocs):\n",
    "    roc1 = rocs[0]\n",
    "    roc2 = rocs[1]\n",
    "    \n",
    "    # Outbound\n",
    "    S1  = a.space(1.45, 0.006)\n",
    "    S2  = a.mirror_trans(1.45, 1, np.inf)\n",
    "    S3  = a.space(1,kat.ltsr1.L.value + dL)\n",
    "    S4  = a.mirror_refl(1,roc1)\n",
    "    S5  = a.space(1, kat.ltsr2.L.value - dL)\n",
    "    S6  = a.mirror_refl(1,roc2)\n",
    "    S7  = a.space(1, kat.TSR2_crys.L) # Not allowed to be larger than 42 cm\n",
    "    S8  = a.mirror_trans(1, kat.sCRYS.n.value, np.inf) \n",
    "    S9  = a.space(kat.sCRYS.n.value, kat.sCRYS.L.value)\n",
    "    S10  = a.mirror_trans(kat.sCRYS.n.value, 1, np.inf) \n",
    "    S11 = a.space(1,kat.lcrys_tsrm.L.value)\n",
    "    S12 = a.mirror_refl(1,0.1)\n",
    "    \n",
    "    # Inbound\n",
    "    S13 = S11\n",
    "    S14 = S8\n",
    "    S15 = S9\n",
    "    S16 = S10\n",
    "    S17 = S7\n",
    "    S18 = S6\n",
    "    S19 = S5\n",
    "    S20 = S4\n",
    "    S21 = S3\n",
    "    S22 = a.mirror_trans(1, 1.45, np.inf)\n",
    "    S23 = S1\n",
    "    S24 = a.mirror_refl(1.45, -2.0)\n",
    "\n",
    "    \n",
    "    M = S24*S23*S22*S21*S20*S19*S18*S17*S16*S15*S14*S13*S12*S11*S10*S9*S8*S7*S6*S5*S4*S3*S2*S1\n",
    "    return (M[0,0] + M[1,1])/2.0\n",
    "\n",
    "stability_tsrc(rocs)"
   ]
  },
  {
   "cell_type": "code",
   "execution_count": 21,
   "metadata": {},
   "outputs": [
    {
     "name": "stdout",
     "output_type": "stream",
     "text": [
      "Mismatch = 3.15e-12\n",
      "RoC1 = -0.07224 m,  RoC2 = 0.26657 m\n",
      "TSRC stability: m = -0.089,  g = 0.456\n"
     ]
    }
   ],
   "source": [
    "from scipy.optimize import minimize\n",
    "from pykat.optics import ABCD as a\n",
    "\n",
    "q0 = BeamParam(q=qsrm)\n",
    "q1 = BeamParam(w0=30e-6, z=0, nr=1.8)\n",
    "\n",
    "\n",
    "def stability_tsrc(rocs):\n",
    "    roc1 = rocs[0]\n",
    "    roc2 = rocs[1]\n",
    "    \n",
    "    # Outbound\n",
    "    S1  = a.space(1.45, 0.006)\n",
    "    S2  = a.mirror_trans(1.45, 1, np.inf)\n",
    "    S3  = a.space(1,kat.ltsr1.L.value + dL)\n",
    "    S4  = a.mirror_refl(1,roc1)\n",
    "    S5  = a.space(1, kat.ltsr2.L.value - dL)\n",
    "    S6  = a.mirror_refl(1,roc2)\n",
    "    S7  = a.space(1, kat.TSR2_crys.L) # Not allowed to be larger than 42 cm\n",
    "    S8  = a.mirror_trans(1, kat.sCRYS.n.value, np.inf) \n",
    "    S9  = a.space(kat.sCRYS.n.value, kat.sCRYS.L.value)\n",
    "    S10  = a.mirror_trans(kat.sCRYS.n.value, 1, np.inf) \n",
    "    S11 = a.space(1,kat.lcrys_tsrm.L.value)\n",
    "    S12 = a.mirror_refl(1,0.1)\n",
    "    \n",
    "    # Inbound\n",
    "    S13 = S11\n",
    "    S14 = S8\n",
    "    S15 = S9\n",
    "    S16 = S10\n",
    "    S17 = S7\n",
    "    S18 = S6\n",
    "    S19 = S5\n",
    "    S20 = S4\n",
    "    S21 = S3\n",
    "    S22 = a.mirror_trans(1, 1.45, np.inf)\n",
    "    S23 = S1\n",
    "    S24 = a.mirror_refl(1.45, -2.0)\n",
    "\n",
    "    \n",
    "    M = S24*S23*S22*S21*S20*S19*S18*S17*S16*S15*S14*S13*S12*S11*S10*S9*S8*S7*S6*S5*S4*S3*S2*S1\n",
    "    return (M[0,0] + M[1,1])/2.0\n",
    "\n",
    "\n",
    "# Define mode overlap function between SRC and TSRC\n",
    "def overlap(q_1, q_2):\n",
    "    return 4.0*np.abs(q_1.imag * q_2.imag)/np.abs( q_1.q.conjugate() - q_2.q)**2\n",
    "    \n",
    "dL = 0.162\n",
    "def roc(roc1,roc2,q0):\n",
    "    S0  = a.space(1, kat.ltsr1.L.value + dL)\n",
    "    S1  = a.mirror_refl(1,roc1)\n",
    "    S2  = a.space(1, kat.ltsr2.L.value - dL)\n",
    "    S3  = a.mirror_refl(1,roc2)\n",
    "    S4  = a.space(1, kat.TSR2_crys.L) # Not allowed to be larger than 42 cm\n",
    "    S5  = a.mirror_trans(1, kat.sCRYS.n.value, np.inf) \n",
    "    S6  = a.space(kat.sCRYS.n.value, kat.sCRYS.L.value/2.0)\n",
    "    #S7  = a.space(kat.sCRYS.n.value, kat.sCRYS.L.value/2.0)\n",
    "    #S8  = a.mirror_trans(kat.sCRYS.n.value, 1, np.inf) \n",
    "    #S9  = a.space(1,kat.lcrys_tsrm.L.value)\n",
    "    #S10 = a.mirror_trans(1, roc3)\n",
    "    \n",
    "    #Ssum = S10 * S9 * S8 * S7 * S6 * S5 * S4 * S3 * S2 * S1 * S0\n",
    "    Ssum = S6 * S5 * S4 * S3 * S2 * S1 * S0\n",
    "\n",
    "    return a.apply(Ssum, q0, 1, 1.8)\n",
    "\n",
    "\n",
    "def fun(diopt1, diopt2):\n",
    "    roc1 = 1.0/diopt1\n",
    "    roc2 = 1.0/diopt2\n",
    "    q = roc(roc1,roc2,q0)\n",
    "    mm = overlap(q, q1)\n",
    "    return 1.0-mm\n",
    "    \n",
    "def fun2(rocs):\n",
    "    roc1 = 1.0/rocs[0]\n",
    "    roc2 = 1.0/rocs[1]\n",
    "    q = roc(roc1,roc2,q0)\n",
    "    mm = overlap(q, q1)\n",
    "    return 1.0-mm\n",
    "    \n",
    "    \n",
    "    \n",
    "sol1 = minimize(fun2, (1,1), method='Nelder-Mead',tol=None) #output returned in diopters. \n",
    "                                                            # The output currently returned currently is \n",
    "                                                            # optimal for the set lengths\n",
    "rocs = 1.0/sol1.x\n",
    "mm = sol1.fun\n",
    "m = stability_tsrc(rocs)\n",
    "g = (m+1.0)/2\n",
    "print('Mismatch = {:.2e}'.format(mm))\n",
    "print('RoC1 = {0[0]:.5f} m,  RoC2 = {0[1]:.5f} m'.format(rocs))\n",
    "print('TSRC stability: m = {:.3f},  g = {:.3f}'.format(m,g))"
   ]
  },
  {
   "cell_type": "code",
   "execution_count": 23,
   "metadata": {},
   "outputs": [
    {
     "data": {
      "text/plain": [
       "<BeamParam (w0=3e-05, w=0.004772997764312543, z=0.42277777777777775) at 0x18236f7128>"
      ]
     },
     "execution_count": 23,
     "metadata": {},
     "output_type": "execute_result"
    }
   ],
   "source": [
    "q2"
   ]
  },
  {
   "cell_type": "code",
   "execution_count": 24,
   "metadata": {},
   "outputs": [
    {
     "data": {
      "text/plain": [
       "0.9994269863213976"
      ]
     },
     "execution_count": 24,
     "metadata": {},
     "output_type": "execute_result"
    }
   ],
   "source": [
    "fun2(1.0/np.array([0.2,  0.5]))"
   ]
  },
  {
   "cell_type": "code",
   "execution_count": 25,
   "metadata": {},
   "outputs": [
    {
     "data": {
      "text/plain": [
       " final_simplex: (array([[-29.76152344],\n",
       "       [-29.76162109]]), array([0.33208129, 0.33208129]))\n",
       "           fun: 0.33208129452616986\n",
       "       message: 'Optimization terminated successfully.'\n",
       "          nfev: 52\n",
       "           nit: 26\n",
       "        status: 0\n",
       "       success: True\n",
       "             x: array([-29.76152344])"
      ]
     },
     "execution_count": 25,
     "metadata": {},
     "output_type": "execute_result"
    }
   ],
   "source": [
    "sol = minimize(fun, -1, args=(1.0/0.25), method='Nelder-Mead',tol=None) # 0.5 seems to be the closest to best we can get for the current lengths\n",
    "sol"
   ]
  },
  {
   "cell_type": "code",
   "execution_count": 26,
   "metadata": {},
   "outputs": [
    {
     "data": {
      "text/plain": [
       "[0.1, 0.25, 0.5, 0.75, 1, 1.333, 1.5, 2, 3, 4, 5, 6.667, 10]"
      ]
     },
     "execution_count": 26,
     "metadata": {},
     "output_type": "execute_result"
    }
   ],
   "source": [
    "RoC\n",
    "# For 0.25 and kat.ltsr2.L.value - 0.15 and kat.TSR2_crys.L - 0.1"
   ]
  },
  {
   "cell_type": "code",
   "execution_count": 27,
   "metadata": {
    "scrolled": true
   },
   "outputs": [
    {
     "name": "stdout",
     "output_type": "stream",
     "text": [
      "0.3538\n",
      "0.28\n",
      "0.2844000000000001\n",
      "0.25\n"
     ]
    }
   ],
   "source": [
    "print(kat.ltsr1.L.value)\n",
    "print(kat.ltsr2.L.value - 0.05)\n",
    "print(kat.TSR2_crys.L - .1)\n",
    "\n",
    "\n",
    "print(kat.lcrys_tsrm.L +0.15)\n"
   ]
  },
  {
   "cell_type": "code",
   "execution_count": 28,
   "metadata": {},
   "outputs": [
    {
     "data": {
      "text/plain": [
       "0.35"
      ]
     },
     "execution_count": 28,
     "metadata": {},
     "output_type": "execute_result"
    }
   ],
   "source": [
    "0.25 + 10e-2"
   ]
  },
  {
   "cell_type": "code",
   "execution_count": null,
   "metadata": {},
   "outputs": [],
   "source": [
    "1/2.571"
   ]
  },
  {
   "cell_type": "code",
   "execution_count": null,
   "metadata": {},
   "outputs": [],
   "source": [
    "1/-7.88531232,  1/2.57107127"
   ]
  },
  {
   "cell_type": "code",
   "execution_count": null,
   "metadata": {},
   "outputs": [],
   "source": [
    "# kat.ltsr2.L.value - a1, kat.ltsr1.L.value + a1 , a1 = .15 ---- fun = 0.45"
   ]
  },
  {
   "cell_type": "code",
   "execution_count": null,
   "metadata": {},
   "outputs": [],
   "source": []
  },
  {
   "cell_type": "code",
   "execution_count": null,
   "metadata": {},
   "outputs": [],
   "source": []
  },
  {
   "cell_type": "code",
   "execution_count": null,
   "metadata": {},
   "outputs": [],
   "source": []
  },
  {
   "cell_type": "code",
   "execution_count": null,
   "metadata": {},
   "outputs": [],
   "source": []
  },
  {
   "cell_type": "code",
   "execution_count": null,
   "metadata": {},
   "outputs": [],
   "source": []
  },
  {
   "cell_type": "code",
   "execution_count": null,
   "metadata": {},
   "outputs": [],
   "source": [
    "33e-2 - 0.15"
   ]
  },
  {
   "cell_type": "markdown",
   "metadata": {},
   "source": [
    "# Playground"
   ]
  },
  {
   "cell_type": "code",
   "execution_count": 30,
   "metadata": {},
   "outputs": [
    {
     "name": "stdout",
     "output_type": "stream",
     "text": [
      "--------------------------------------------------------------\n",
      "Running kat - Started at 2019-10-14 11:11:36.443052\n",
      "\n",
      "Finished in 0.0205939 seconds\n",
      "\n",
      "------------------------------------------------------------------------\n",
      "                     FINESSE 2.2                (build 2.2-31-ge1141681)\n",
      "       o_.-=.        Frequency domain INterferomEter Simulation SoftwarE\n",
      "      (\\'\".\\|        06.03.2019         http://www.gwoptics.org/finesse/\n",
      "      .>' (_--.      \n",
      "   _=/d   ,^\\        Input file /var/folders/k1/yts33d_93v1_9yd1768nkwph0000gn/T/tmpkwut_qb5.kat,\n",
      "  ~~ \\)-'   '        Output file /var/folders/k1/yts33d_93v1_9yd1768nkwph0000gn/T/tmpkwut_qb5.out,\n",
      "     / |             Gnuplot file /var/folders/k1/yts33d_93v1_9yd1768nkwph0000gn/T/tmpkwut_qb5.gnu \n",
      "    '  '                                        Mon Oct 14 11:11:36 2019\n",
      "------------------------------------------------------------------------\n",
      " 'noxaxis' has been set, ignoring all other xaxis commands\n",
      " --- cavity tracing\n",
      " cavity cSRMX:\n",
      "  cavity is stable! Eigenvalues:\n",
      "  q=-0.889485+0.736915j, w0=499.579491435672um z=-889.485321528425mm m=-0.849778\n",
      "  finesse : 3.71879, round-trip power loss: 0.7975 [/100]\n",
      "  opt. length: 2.427m, FSR: 123.523880510919MHz, m: -849.7785m\n",
      "  FWHM: 33.2161614042912MHz (pole: 16.6080807021456MHz)\n",
      "  (x) A: -0.2135 B: 0.95441775 C: -0.71533333 D: -1.486057\n",
      "  (y) A: -0.2135 B: 0.95441775 C: -0.71533333 D: -1.486057\n",
      "  RT Gouy: 148.18758599235 deg (mode sep.: 50.8464046258902MHz)\n",
      " cavity cSRMY:\n",
      "  cavity is stable! Eigenvalues:\n",
      "  q=-0.880734+0.738518j, w0=500.122487314458um z=-880.733900643974mm m=-0.844739\n",
      "  finesse : 3.71879, round-trip power loss: 0.7975 [/100]\n",
      "  opt. length: 2.413m, FSR: 124.240554496477MHz, m: -844.7385m\n",
      "  FWHM: 33.408878461755MHz (pole: 16.7044392308775MHz)\n",
      "  (x) A: -0.2065 B: 0.95735775 C: -0.72466667 D: -1.482977\n",
      "  (y) A: -0.2065 B: 0.95735775 C: -0.72466667 D: -1.482977\n",
      "  RT Gouy: 147.643929133937 deg (mode sep.: 50.9537878434417MHz)\n",
      " cavity cTSRM:\n",
      "**  WARNING!\n",
      " cavity is unstable, cannot derive beam parameters\n",
      "  finesse : 29.79, round-trip power loss: 0.19 [/100]\n",
      "  opt. length: 2.0636002m, FSR: 145.276424183328MHz, m: 1.44411143104486\n",
      "  FWHM: 4.87669148466534MHz (pole: 2.43834574233267MHz)\n",
      "  (x) A: 1.8766988 B: -0.8651748 C: -1.0383173 D: 1.011524\n",
      "  (y) A: 1.8398616 B: -0.85819355 C: -0.93933734 D: 0.98166801\n",
      " \n",
      "0: node nEMx(7); EX(0), LX(12); n=1  (EX --> nEMx)\n",
      "   x, y: w0=499.579491435672um w=783.07286677347um z=-889.485321528425mm z_R=736.915086748882mm Rc=-1.5m\n",
      "   q=(-0.889485321528425 + 0.736915086748882i) gamma=677.933591561701urad\n",
      "1: node nBS3(5); LX(12), BS(6); n=1  (LX --> nBS3)\n",
      "   x, y: w0=499.579491435672um w=505.523579583485um z=114.014678471575mm z_R=736.915086748882mm Rc=4.87694391142554m\n",
      "   q=(0.114014678471575 + 0.736915086748882i) gamma=677.933591561701urad\n",
      "2: node nBS1(3); BS(6), EomToPoBS(11); n=1  (BS --> nBS1)\n",
      "   x, y: w0=500.122487314458um w=506.229707083359um z=115.766099356026mm z_R=738.517871972244mm Rc=4.82706457323021m\n",
      "   q=(0.115766099356026 + 0.738517871972244i) gamma=677.197541582655urad\n",
      "3: node nEO2(2); EomToPoBS(11), eom1(24); n=1  (EomToPoBS --> nEO2)\n",
      "   x, y: w0=500.122487314458um w=506.335022281267um z=116.766099356026mm z_R=738.517871972244mm Rc=4.78771640282923m\n",
      "   q=(0.116766099356026 + 0.738517871972244i) gamma=677.197541582655urad\n",
      "4: node nEO1(1); eom1(24), LaserToEOM(10); n=1  (eom1 --> nEO1)\n",
      "   x, y: w0=500.122487314458um w=506.335022281267um z=116.766099356026mm z_R=738.517871972244mm Rc=4.78771640282923m\n",
      "   q=(0.116766099356026 + 0.738517871972244i) gamma=677.197541582655urad\n",
      "5: node nin(0); LaserToEOM(10), Laser(22); n=1  (LaserToEOM --> nin)\n",
      "   x, y: w0=500.122487314458um w=506.441221107109um z=117.766099356026mm z_R=738.517871972244mm Rc=4.74905345798334m\n",
      "   q=(0.117766099356026 + 0.738517871972244i) gamma=677.197541582655urad\n",
      "6: node nBS2(4); BS(6), LY(13); n=1  (LY --> nBS2)\n",
      "   x, y: w0=500.122487314458um w=506.229707083359um z=115.766099356026mm z_R=738.517871972244mm Rc=4.82706457323021m\n",
      "   q=(0.115766099356026 + 0.738517871972244i) gamma=677.197541582655urad\n",
      "7: node nEMy(9); LY(13), EY(1); n=1  (EY --> nEMy)\n",
      "   x, y: w0=500.122487314458um w=778.365107158048um z=-880.733900643974mm z_R=738.517871972244mm Rc=-1.5m\n",
      "   q=(-0.880733900643974 + 0.738517871972244i) gamma=677.197541582655urad\n",
      "8: node ndump3(10); EY(1), ---(-32768); n=1  (EY --> ndump3)\n",
      "   x, y: w0=500.122487314458um w=778.365107158048um z=880.733900643974mm z_R=738.517871972244mm Rc=1.5m\n",
      "   q=(0.880733900643974 + 0.738517871972244i) gamma=677.197541582655urad\n",
      "9: node nBS4(6); BS(6), lsr(14); n=1  (BS --> nBS4)\n",
      "   x, y: w0=500.122487314458um w=506.229707083359um z=115.766099356026mm z_R=738.517871972244mm Rc=4.82706457323021m\n",
      "   q=(0.115766099356026 + 0.738517871972244i) gamma=677.197541582655urad\n",
      "10: node nSRM1(11); lsr(14), SRM(2); n=1  (lsr --> nSRM1)\n",
      "   x, y: w0=500.122487314458um w=546.617226854503um z=325.766099356026mm z_R=738.517871972244mm Rc=2m\n",
      "   q=(0.325766099356026 + 0.738517871972244i) gamma=677.197541582655urad\n",
      "11: node nSRM2(12); SRM(2), ltsr1(15); n=1  (SRM --> nSRM2)\n",
      "   x, y: w0=500.122487314458um w=546.617226854503um z=325.766099356026mm z_R=738.517871972244mm Rc=2m\n",
      "   q=(0.325766099356026 + 0.738517871972244i) gamma=677.197541582655urad\n",
      "12: node nTSR1a(13); ltsr1(15), TSR1(7); n=1  (ltsr1 --> nTSR1a)\n",
      "   x, y: w0=500.122487314458um w=603.718157287364um z=499.354099356026mm z_R=738.517871972244mm Rc=1.59158233564322m\n",
      "   q=(0.499354099356026 + 0.738517871972244i) gamma=677.197541582655urad\n",
      "13: node nTSR1b(14); TSR1(7), ltsr2(16); n=1  (TSR1 --> nTSR1b)\n",
      "   x: w0=160.282812012153um  w=603.718157287365um z=-275.459215350154mm z_R=75.8546398961164mm Rc=-296.347702912479mm\n",
      "   q=(-0.275459215350154 + 0.0758546398961164i) gamma=2.11302581136318mrad\n",
      "   y: w0=160.523268269902um  w=603.718157287364um z=-275.84104998851mm z_R=76.0824048601608mm Rc=-296.82607861114mm\n",
      "   q=(-0.27584104998851 + 0.0760824048601608i) gamma=2.10986059871456mrad\n",
      "\n",
      "14: node nTSR2a(17); ltsr2(16), TSR2(8); n=1  (ltsr2 --> nTSR2a)\n",
      "   x: w0=160.282812012153um  w=805.067426775347um z=373.374784649846mm z_R=75.8546398961164mm Rc=388.785376447483mm\n",
      "   q=(0.373374784649846 + 0.0758546398961164i) gamma=2.11302581136318mrad\n",
      "   y: w0=160.523268269902um  w=803.167906349663um z=372.99295001149mm z_R=76.0824048601608mm Rc=388.512096765141mm\n",
      "   q=(0.37299295001149 + 0.0760824048601608i) gamma=2.10986059871456mrad\n",
      "\n",
      "15: node nTSR2b(18); TSR2(8), TSR2_crys(17); n=1  (TSR2 --> nTSR2b)\n",
      "   x: w0=39.0141063668122um  w=805.067426775347um z=-92.6299879413492mm z_R=4.49419148026811mm Rc=-92.8480356547323mm\n",
      "   q=(-0.0926299879413492 + 0.00449419148026811i) gamma=8.68100670345373mrad\n",
      "   y: w0=39.1782914167219um  w=803.167906349663um z=-92.7988885115204mm z_R=4.5320973429594mm Rc=-93.0202263600175mm\n",
      "   q=(-0.0927988885115204 + 0.0045320973429594i) gamma=8.64462707924518mrad\n",
      "\n",
      "16: node nCRYS1a(21); TSR2_crys(17), CRYS1(3); n=1  (TSR2_crys --> nCRYS1a)\n",
      "   x: w0=39.0141063668122um  w=40.4994599987953um z=-1.25188794134924mm z_R=4.49419148026811mm Rc=-17.3857257987105mm\n",
      "   q=(-0.00125188794134924 + 0.00449419148026811i) gamma=8.68100670345373mrad\n",
      "   y: w0=39.1782914167219um  w=41.0583807756743um z=-1.42078851152043mm z_R=4.5320973429594mm Rc=-15.8774836209701mm\n",
      "   q=(-0.00142078851152043 + 0.0045320973429594i) gamma=8.64462707924518mrad\n",
      "\n",
      "17: node nCRYS1b(22); CRYS1(3), sCRYS(18); n=1.8  (CRYS1 --> nCRYS1b)\n",
      "   x: w0=39.0141063668122um  w=40.4994599987953um z=-2.25339829442864mm z_R=8.0895446644826mm Rc=-31.294306437679mm\n",
      "   q=(-0.00225339829442864 + 0.0080895446644826i) gamma=4.82278150191874mrad\n",
      "   y: w0=39.1782914167219um  w=41.0583807756743um z=-2.55741932073677mm z_R=8.15777521732692mm Rc=-28.5794705177462mm\n",
      "   q=(-0.00255741932073677 + 0.00815777521732692i) gamma=4.80257059958065mrad\n",
      "\n",
      "18: node nCRYS2a(23); sCRYS(18), CRYS2(4); n=1.8  (sCRYS --> nCRYS2a)\n",
      "   x: w0=39.0141063668122um  w=54.0174287094614um z=7.74660170557137mm z_R=8.0895446644826mm Rc=16.1942714536615mm\n",
      "   q=(0.00774660170557137 + 0.0080895446644826i) gamma=4.82278150191874mrad\n",
      "   y: w0=39.1782914167219um  w=53.0333638376292um z=7.44258067926323mm z_R=8.15777521732692mm Rc=16.3842770295433mm\n",
      "   q=(0.00744258067926323 + 0.00815777521732692i) gamma=4.80257059958065mrad\n",
      "\n",
      "19: node nCRYS2b(24); CRYS2(4), lcrys_tsrm(19); n=1  (CRYS2 --> nCRYS2b)\n",
      "   x: w0=39.0141063668122um  w=54.0174287094614um z=4.30366761420631mm z_R=4.49419148026811mm Rc=8.99681747425641mm\n",
      "   q=(0.00430366761420631 + 0.00449419148026811i) gamma=8.68100670345373mrad\n",
      "   y: w0=39.1782914167219um  w=53.0333638376292um z=4.13476704403513mm z_R=4.5320973429594mm Rc=9.10237612752407mm\n",
      "   q=(0.00413476704403513 + 0.0045320973429594i) gamma=8.64462707924518mrad\n",
      "\n",
      "20: node nTSRM1(25); lcrys_tsrm(19), TSRM(5); n=1  (lcrys_tsrm --> nTSRM1)\n",
      "   x: w0=39.0141063668122um  w=906.30095950589um z=104.303667614206mm z_R=4.49419148026811mm Rc=104.497311399926mm\n",
      "   q=(0.104303667614206 + 0.00449419148026811i) gamma=8.68100670345373mrad\n",
      "   y: w0=39.1782914167219um  w=901.058372022312um z=104.134767044035mm z_R=4.5320973429594mm Rc=104.332010547901mm\n",
      "   q=(0.104134767044035 + 0.0045320973429594i) gamma=8.64462707924518mrad\n",
      "\n",
      "21: node nTSRM2(26); TSRM(5), sHD1(20); n=1  (TSRM --> nTSRM2)\n",
      "   x: w0=39.0141063668122um  w=906.30095950589um z=104.303667614206mm z_R=4.49419148026811mm Rc=104.497311399926mm\n",
      "   q=(0.104303667614206 + 0.00449419148026811i) gamma=8.68100670345373mrad\n",
      "   y: w0=39.1782914167219um  w=901.058372022312um z=104.134767044035mm z_R=4.5320973429594mm Rc=104.332010547901mm\n",
      "   q=(0.104134767044035 + 0.0045320973429594i) gamma=8.64462707924518mrad\n",
      "\n",
      "22: node nBDO4(27); sHD1(20), BS2(9); n=1  (sHD1 --> nBDO4)\n",
      "   x: w0=39.0141063668122um  w=906.30095950589um z=104.303667614206mm z_R=4.49419148026811mm Rc=104.497311399926mm\n",
      "   q=(0.104303667614206 + 0.00449419148026811i) gamma=8.68100670345373mrad\n",
      "   y: w0=39.1782914167219um  w=901.058372022312um z=104.134767044035mm z_R=4.5320973429594mm Rc=104.332010547901mm\n",
      "   q=(0.104134767044035 + 0.0045320973429594i) gamma=8.64462707924518mrad\n",
      "\n",
      "23: node nBDO2o(28); BS2(9), ---(-32768); n=1  (BS2 --> nBDO2o)\n",
      "   x: w0=39.0141063668122um  w=906.30095950589um z=104.303667614206mm z_R=4.49419148026811mm Rc=104.497311399926mm\n",
      "   q=(0.104303667614206 + 0.00449419148026811i) gamma=8.68100670345373mrad\n",
      "   y: w0=39.1782914167219um  w=901.058372022312um z=104.134767044035mm z_R=4.5320973429594mm Rc=104.332010547901mm\n",
      "   q=(0.104134767044035 + 0.0045320973429594i) gamma=8.64462707924518mrad\n",
      "\n",
      "24: node nBDO2i(29); BS2(9), l_homo(21); n=1  (BS2 --> nBDO2i)\n",
      "   x: w0=39.0141063668122um  w=906.30095950589um z=-104.303667614206mm z_R=4.49419148026811mm Rc=-104.497311399926mm\n",
      "   q=(-0.104303667614206 + 0.00449419148026811i) gamma=8.68100670345373mrad\n",
      "   y: w0=39.1782914167219um  w=901.058372022312um z=-104.134767044035mm z_R=4.5320973429594mm Rc=-104.332010547901mm\n",
      "   q=(-0.104134767044035 + 0.0045320973429594i) gamma=8.64462707924518mrad\n",
      "\n",
      "25: node n_hbs(31); l_homo(21), homody_lase(23); n=1  (l_homo --> n_hbs)\n",
      "   x: w0=39.0141063668122um  w=906.30095083293um z=-104.303666614206mm z_R=4.49419148026811mm Rc=-104.497310401783mm\n",
      "   q=(-0.104303666614206 + 0.00449419148026811i) gamma=8.68100670345373mrad\n",
      "   y: w0=39.1782914167219um  w=901.058363385861um z=-104.134766044035mm z_R=4.5320973429594mm Rc=-104.332009549795mm\n",
      "   q=(-0.104134766044035 + 0.0045320973429594i) gamma=8.64462707924518mrad\n",
      "\n",
      "26: node nBDO5(30); BS2(9), ---(-32768); n=1  (BS2 --> nBDO5)\n",
      "   x: w0=39.0141063668122um  w=906.30095950589um z=104.303667614206mm z_R=4.49419148026811mm Rc=104.497311399926mm\n",
      "   q=(0.104303667614206 + 0.00449419148026811i) gamma=8.68100670345373mrad\n",
      "   y: w0=39.1782914167219um  w=901.058372022312um z=104.134767044035mm z_R=4.5320973429594mm Rc=104.332010547901mm\n",
      "   q=(0.104134767044035 + 0.0045320973429594i) gamma=8.64462707924518mrad\n",
      "\n",
      "27: node nTSR2c(19); TSR2(8), ---(-32768); n=1  (TSR2 --> nTSR2c)\n",
      "   x: w0=160.282812012153um  w=805.067426775347um z=373.374784649846mm z_R=75.8546398961164mm Rc=388.785376447483mm\n",
      "   q=(0.373374784649846 + 0.0758546398961164i) gamma=2.11302581136318mrad\n",
      "   y: w0=160.523268269902um  w=803.167906349663um z=372.99295001149mm z_R=76.0824048601608mm Rc=388.512096765141mm\n",
      "   q=(0.37299295001149 + 0.0760824048601608i) gamma=2.10986059871456mrad\n",
      "\n",
      "28: node nTSR2d(20); TSR2(8), ---(-32768); n=1  (TSR2 --> nTSR2d)\n",
      "   x: w0=39.0141063668122um  w=805.067426775347um z=92.6299879413492mm z_R=4.49419148026811mm Rc=92.8480356547323mm\n",
      "   q=(0.0926299879413492 + 0.00449419148026811i) gamma=8.68100670345373mrad\n",
      "   y: w0=39.1782914167219um  w=803.167906349663um z=92.7988885115204mm z_R=4.5320973429594mm Rc=93.0202263600175mm\n",
      "   q=(0.0927988885115204 + 0.0045320973429594i) gamma=8.64462707924518mrad\n",
      "\n",
      "29: node nTSR1c(15); TSR1(7), ---(-32768); n=1  (TSR1 --> nTSR1c)\n",
      "   x, y: w0=500.122487314458um w=603.718157287364um z=499.354099356026mm z_R=738.517871972244mm Rc=1.59158233564322m\n",
      "   q=(0.499354099356026 + 0.738517871972244i) gamma=677.197541582655urad\n",
      "30: node nTSR1d(16); TSR1(7), ---(-32768); n=1  (TSR1 --> nTSR1d)\n",
      "   x: w0=160.282812012153um  w=603.718157287365um z=275.459215350154mm z_R=75.8546398961164mm Rc=296.347702912479mm\n",
      "   q=(0.275459215350154 + 0.0758546398961164i) gamma=2.11302581136318mrad\n",
      "   y: w0=160.523268269902um  w=603.718157287364um z=275.84104998851mm z_R=76.0824048601608mm Rc=296.82607861114mm\n",
      "   q=(0.27584104998851 + 0.0760824048601608i) gamma=2.10986059871456mrad\n",
      "\n",
      "31: node ndump2(8); EX(0), ---(-32768); n=1  (EX --> ndump2)\n",
      "   x, y: w0=499.579491435672um w=783.07286677347um z=889.485321528425mm z_R=736.915086748882mm Rc=1.5m\n",
      "   q=(0.889485321528425 + 0.736915086748882i) gamma=677.933591561701urad\n",
      "\n",
      " --- cavity tracing\n",
      " cavity cSRMX:\n",
      "  cavity is stable! Eigenvalues:\n",
      "  q=-0.889485+0.736915j, w0=499.579491435672um z=-889.485321528425mm m=-0.849778\n",
      "  finesse : 3.71879, round-trip power loss: 0.7975 [/100]\n",
      "  opt. length: 2.427m, FSR: 123.523880510919MHz, m: -849.7785m\n",
      "  FWHM: 33.2161614042912MHz (pole: 16.6080807021456MHz)\n",
      "  (x) A: -0.2135 B: 0.95441775 C: -0.71533333 D: -1.486057\n",
      "  (y) A: -0.2135 B: 0.95441775 C: -0.71533333 D: -1.486057\n",
      "  RT Gouy: 148.18758599235 deg (mode sep.: 50.8464046258902MHz)\n",
      " cavity cSRMY:\n",
      "  cavity is stable! Eigenvalues:\n",
      "  q=-0.880734+0.738518j, w0=500.122487314458um z=-880.733900643974mm m=-0.844739\n",
      "  finesse : 3.71879, round-trip power loss: 0.7975 [/100]\n",
      "  opt. length: 2.413m, FSR: 124.240554496477MHz, m: -844.7385m\n",
      "  FWHM: 33.408878461755MHz (pole: 16.7044392308775MHz)\n",
      "  (x) A: -0.2065 B: 0.95735775 C: -0.72466667 D: -1.482977\n",
      "  (y) A: -0.2065 B: 0.95735775 C: -0.72466667 D: -1.482977\n",
      "  RT Gouy: 147.643929133937 deg (mode sep.: 50.9537878434417MHz)\n",
      " cavity cTSRM:\n",
      "**  WARNING!\n",
      " cavity is unstable, cannot derive beam parameters\n",
      "  finesse : 29.79, round-trip power loss: 0.19 [/100]\n",
      "  opt. length: 2.0636002m, FSR: 145.276424183328MHz, m: 1.44411143104486\n",
      "  FWHM: 4.87669148466534MHz (pole: 2.43834574233267MHz)\n",
      "  (x) A: 1.8766988 B: -0.8651748 C: -1.0383173 D: 1.011524\n",
      "  (y) A: 1.8398616 B: -0.85819355 C: -0.93933734 D: 0.98166801\n",
      " \n",
      " --- cavity tracing\n",
      " cavity cSRMX:\n",
      "  cavity is stable! Eigenvalues:\n",
      "  q=-0.889485+0.736915j, w0=499.579491435672um z=-889.485321528425mm m=-0.849778\n",
      "  finesse : 3.71879, round-trip power loss: 0.7975 [/100]\n",
      "  opt. length: 2.427m, FSR: 123.523880510919MHz, m: -849.7785m\n",
      "  FWHM: 33.2161614042912MHz (pole: 16.6080807021456MHz)\n",
      "  (x) A: -0.2135 B: 0.95441775 C: -0.71533333 D: -1.486057\n",
      "  (y) A: -0.2135 B: 0.95441775 C: -0.71533333 D: -1.486057\n",
      "  RT Gouy: 148.18758599235 deg (mode sep.: 50.8464046258902MHz)\n",
      " cavity cSRMY:\n",
      "  cavity is stable! Eigenvalues:\n",
      "  q=-0.880734+0.738518j, w0=500.122487314458um z=-880.733900643974mm m=-0.844739\n",
      "  finesse : 3.71879, round-trip power loss: 0.7975 [/100]\n",
      "  opt. length: 2.413m, FSR: 124.240554496477MHz, m: -844.7385m\n",
      "  FWHM: 33.408878461755MHz (pole: 16.7044392308775MHz)\n",
      "  (x) A: -0.2065 B: 0.95735775 C: -0.72466667 D: -1.482977\n",
      "  (y) A: -0.2065 B: 0.95735775 C: -0.72466667 D: -1.482977\n",
      "  RT Gouy: 147.643929133937 deg (mode sep.: 50.9537878434417MHz)\n",
      " cavity cTSRM:\n",
      "**  WARNING!\n",
      " cavity is unstable, cannot derive beam parameters\n",
      "  finesse : 29.79, round-trip power loss: 0.19 [/100]\n",
      "  opt. length: 2.0636002m, FSR: 145.276424183328MHz, m: 1.44411143104486\n",
      "  FWHM: 4.87669148466534MHz (pole: 2.43834574233267MHz)\n",
      "  (x) A: 1.8766988 B: -0.8651748 C: -1.0383173 D: 1.011524\n",
      "  (y) A: 1.8398616 B: -0.85819355 C: -0.93933734 D: 0.98166801\n",
      " \n",
      " \n",
      " computation time:  0.010337s\n",
      "\n"
     ]
    },
    {
     "name": "stderr",
     "output_type": "stream",
     "text": [
      "\r",
      "  0% | ETA:  --:--:-- | Calculating                                            \r",
      "100% | ETA:  0:00:00 | Calculating                                             "
     ]
    }
   ],
   "source": [
    "kat = base.deepcopy()\n",
    "kat.homody_lase.phase = -90\n",
    "#kat.cTSRM.remove()\n",
    "\n",
    "kat.TSR1.Rc = 500e-3\n",
    "kat.TSR2.Rc = 150e-3\n",
    "\n",
    "kat.ltsr1.L = 173.588e-3\n",
    "kat.ltsr2.L = 648.834e-3\n",
    "kat.TSR2_crys.L = 91.3781e-3\n",
    "kat.lcrys_tsrm.L = 100e-3\n",
    "\n",
    "kat.TSRM.Rc = 100e-3\n",
    "\n",
    "kat.parse(\"\"\"\n",
    "\n",
    "bp qex x q nEMx\n",
    "bp qbsx x q nBS4\n",
    "bp qsrm x q nSRM1\n",
    "bp qtsr1 x q nTSR1a\n",
    "bp qtsr2 x q nTSR2a\n",
    "bp qcr1 x q nCRYS1a\n",
    "bp q_cr1b x q nCRYS1b\n",
    "bp qcr2 x q nCRYS2b\n",
    "bp qtsrm x q nTSRM1\n",
    "\n",
    "\n",
    "cp cSRMX x m\n",
    "cp cSRMY x m\n",
    "cp cSRMX y m\n",
    "cp cSRMY y m\n",
    "\n",
    "noxaxis\n",
    "yaxis abs:deg\n",
    "trace 10\n",
    "\"\"\")\n",
    "\n",
    "                \n",
    "out = kat.run()\n",
    "\n",
    "\n",
    "qex = out['qex']\n",
    "\n",
    "qbsx = out['qbsx']\n",
    "qsrm = out['qsrm']\n",
    "\n",
    "qtsr1 = out['qtsr1']\n",
    "qtsr2 = out['qtsr2']\n",
    "\n",
    "\n",
    "qcr1 = out['qcr1']\n",
    "qcr2 = out['qcr2']\n",
    "qtsrm = out['qtsrm']\n",
    "\n",
    "\n",
    "\n",
    "print(out.stdout)\n"
   ]
  },
  {
   "cell_type": "code",
   "execution_count": null,
   "metadata": {},
   "outputs": [],
   "source": []
  },
  {
   "cell_type": "code",
   "execution_count": null,
   "metadata": {},
   "outputs": [],
   "source": []
  },
  {
   "cell_type": "code",
   "execution_count": null,
   "metadata": {},
   "outputs": [],
   "source": []
  },
  {
   "cell_type": "code",
   "execution_count": null,
   "metadata": {},
   "outputs": [],
   "source": []
  },
  {
   "cell_type": "code",
   "execution_count": null,
   "metadata": {},
   "outputs": [],
   "source": []
  },
  {
   "cell_type": "code",
   "execution_count": null,
   "metadata": {},
   "outputs": [],
   "source": []
  },
  {
   "cell_type": "code",
   "execution_count": null,
   "metadata": {},
   "outputs": [],
   "source": []
  },
  {
   "cell_type": "code",
   "execution_count": null,
   "metadata": {},
   "outputs": [],
   "source": [
    "kat.ltsr1.L"
   ]
  },
  {
   "cell_type": "code",
   "execution_count": 31,
   "metadata": {},
   "outputs": [
    {
     "name": "stdout",
     "output_type": "stream",
     "text": [
      "dL = -0.3000, dL2= 0.0000, mismatch = 4.23e-11\n",
      "RoC1 = -0.1970 m,  RoC2 = 0.5042 m\n",
      "TSRC stability: m = 0.755,  g = 0.878\n",
      "\n",
      "dL = -0.2940, dL2= 0.0000, mismatch = 2.89e-11\n",
      "RoC1 = -0.1958 m,  RoC2 = 0.5026 m\n",
      "TSRC stability: m = 0.743,  g = 0.871\n",
      "\n",
      "dL = -0.2880, dL2= 0.0000, mismatch = 3.82e-11\n",
      "RoC1 = -0.1947 m,  RoC2 = 0.5010 m\n",
      "TSRC stability: m = 0.731,  g = 0.865\n",
      "\n",
      "dL = -0.2820, dL2= 0.0000, mismatch = 7.97e-11\n",
      "RoC1 = -0.1936 m,  RoC2 = 0.4994 m\n",
      "TSRC stability: m = 0.718,  g = 0.859\n",
      "\n",
      "dL = -0.2760, dL2= 0.0000, mismatch = 6.18e-11\n",
      "RoC1 = -0.1924 m,  RoC2 = 0.4977 m\n",
      "TSRC stability: m = 0.706,  g = 0.853\n",
      "\n",
      "dL = -0.2700, dL2= 0.0000, mismatch = 2.78e-11\n",
      "RoC1 = -0.1913 m,  RoC2 = 0.4960 m\n",
      "TSRC stability: m = 0.694,  g = 0.847\n",
      "\n",
      "dL = -0.2640, dL2= 0.0000, mismatch = 2.57e-11\n",
      "RoC1 = -0.1901 m,  RoC2 = 0.4943 m\n",
      "TSRC stability: m = 0.681,  g = 0.841\n",
      "\n",
      "dL = -0.2580, dL2= 0.0000, mismatch = 1.35e-11\n",
      "RoC1 = -0.1889 m,  RoC2 = 0.4926 m\n",
      "TSRC stability: m = 0.669,  g = 0.834\n",
      "\n",
      "dL = -0.2520, dL2= 0.0000, mismatch = 1.48e-11\n",
      "RoC1 = -0.1878 m,  RoC2 = 0.4909 m\n",
      "TSRC stability: m = 0.656,  g = 0.828\n",
      "\n",
      "dL = -0.2460, dL2= 0.0000, mismatch = 6.44e-12\n",
      "RoC1 = -0.1866 m,  RoC2 = 0.4891 m\n",
      "TSRC stability: m = 0.644,  g = 0.822\n",
      "\n",
      "dL = -0.2400, dL2= 0.0000, mismatch = 2.39e-11\n",
      "RoC1 = -0.1854 m,  RoC2 = 0.4873 m\n",
      "TSRC stability: m = 0.632,  g = 0.816\n",
      "\n",
      "dL = -0.2340, dL2= 0.0000, mismatch = 3.10e-11\n",
      "RoC1 = -0.1842 m,  RoC2 = 0.4855 m\n",
      "TSRC stability: m = 0.619,  g = 0.810\n",
      "\n",
      "dL = -0.2280, dL2= 0.0000, mismatch = 4.63e-12\n",
      "RoC1 = -0.1829 m,  RoC2 = 0.4837 m\n",
      "TSRC stability: m = 0.607,  g = 0.803\n",
      "\n",
      "dL = -0.2220, dL2= 0.0000, mismatch = 4.08e-11\n",
      "RoC1 = -0.1817 m,  RoC2 = 0.4818 m\n",
      "TSRC stability: m = 0.595,  g = 0.797\n",
      "\n",
      "dL = -0.2160, dL2= 0.0000, mismatch = 2.89e-11\n",
      "RoC1 = -0.1805 m,  RoC2 = 0.4799 m\n",
      "TSRC stability: m = 0.582,  g = 0.791\n",
      "\n",
      "dL = -0.2100, dL2= 0.0000, mismatch = 4.47e-11\n",
      "RoC1 = -0.1792 m,  RoC2 = 0.4780 m\n",
      "TSRC stability: m = 0.570,  g = 0.785\n",
      "\n",
      "dL = -0.2040, dL2= 0.0000, mismatch = 6.09e-11\n",
      "RoC1 = -0.1780 m,  RoC2 = 0.4761 m\n",
      "TSRC stability: m = 0.558,  g = 0.779\n",
      "\n",
      "dL = -0.1980, dL2= 0.0000, mismatch = 3.35e-11\n",
      "RoC1 = -0.1767 m,  RoC2 = 0.4741 m\n",
      "TSRC stability: m = 0.546,  g = 0.773\n",
      "\n",
      "dL = -0.1920, dL2= 0.0000, mismatch = 3.23e-11\n",
      "RoC1 = -0.1754 m,  RoC2 = 0.4721 m\n",
      "TSRC stability: m = 0.533,  g = 0.767\n",
      "\n",
      "dL = -0.1860, dL2= 0.0000, mismatch = 1.06e-10\n",
      "RoC1 = -0.1741 m,  RoC2 = 0.4701 m\n",
      "TSRC stability: m = 0.521,  g = 0.761\n",
      "\n",
      "dL = -0.1800, dL2= 0.0000, mismatch = 2.56e-11\n",
      "RoC1 = -0.1728 m,  RoC2 = 0.4680 m\n",
      "TSRC stability: m = 0.509,  g = 0.755\n",
      "\n",
      "dL = -0.1740, dL2= 0.0000, mismatch = 2.87e-11\n",
      "RoC1 = -0.1715 m,  RoC2 = 0.4660 m\n",
      "TSRC stability: m = 0.497,  g = 0.748\n",
      "\n",
      "dL = -0.1680, dL2= 0.0000, mismatch = 2.12e-11\n",
      "RoC1 = -0.1701 m,  RoC2 = 0.4638 m\n",
      "TSRC stability: m = 0.485,  g = 0.742\n",
      "\n",
      "dL = -0.1620, dL2= 0.0000, mismatch = 4.60e-11\n",
      "RoC1 = -0.1688 m,  RoC2 = 0.4617 m\n",
      "TSRC stability: m = 0.473,  g = 0.736\n",
      "\n",
      "dL = -0.1560, dL2= 0.0000, mismatch = 4.60e-11\n",
      "RoC1 = -0.1674 m,  RoC2 = 0.4595 m\n",
      "TSRC stability: m = 0.461,  g = 0.730\n",
      "\n",
      "dL = -0.1500, dL2= 0.0000, mismatch = 3.58e-11\n",
      "RoC1 = -0.1660 m,  RoC2 = 0.4573 m\n",
      "TSRC stability: m = 0.449,  g = 0.725\n",
      "\n",
      "dL = -0.1440, dL2= 0.0000, mismatch = 2.29e-11\n",
      "RoC1 = -0.1646 m,  RoC2 = 0.4551 m\n",
      "TSRC stability: m = 0.437,  g = 0.719\n",
      "\n",
      "dL = -0.1380, dL2= 0.0000, mismatch = 4.44e-11\n",
      "RoC1 = -0.1632 m,  RoC2 = 0.4528 m\n",
      "TSRC stability: m = 0.425,  g = 0.713\n",
      "\n",
      "dL = -0.1320, dL2= 0.0000, mismatch = 4.10e-11\n",
      "RoC1 = -0.1618 m,  RoC2 = 0.4505 m\n",
      "TSRC stability: m = 0.413,  g = 0.707\n",
      "\n",
      "dL = -0.1260, dL2= 0.0000, mismatch = 1.92e-11\n",
      "RoC1 = -0.1604 m,  RoC2 = 0.4482 m\n",
      "TSRC stability: m = 0.402,  g = 0.701\n",
      "\n",
      "dL = -0.1200, dL2= 0.0000, mismatch = 1.42e-10\n",
      "RoC1 = -0.1590 m,  RoC2 = 0.4458 m\n",
      "TSRC stability: m = 0.390,  g = 0.695\n",
      "\n",
      "dL = -0.1140, dL2= 0.0000, mismatch = 3.26e-11\n",
      "RoC1 = -0.1575 m,  RoC2 = 0.4434 m\n",
      "TSRC stability: m = 0.378,  g = 0.689\n",
      "\n",
      "dL = -0.1080, dL2= 0.0000, mismatch = 6.49e-11\n",
      "RoC1 = -0.1560 m,  RoC2 = 0.4409 m\n",
      "TSRC stability: m = 0.367,  g = 0.683\n",
      "\n",
      "dL = -0.1020, dL2= 0.0000, mismatch = 2.29e-11\n",
      "RoC1 = -0.1545 m,  RoC2 = 0.4384 m\n",
      "TSRC stability: m = 0.355,  g = 0.678\n",
      "\n",
      "dL = -0.0960, dL2= 0.0000, mismatch = 4.27e-12\n",
      "RoC1 = -0.1530 m,  RoC2 = 0.4359 m\n",
      "TSRC stability: m = 0.344,  g = 0.672\n",
      "\n",
      "dL = -0.0900, dL2= 0.0000, mismatch = 2.17e-11\n",
      "RoC1 = -0.1515 m,  RoC2 = 0.4333 m\n",
      "TSRC stability: m = 0.332,  g = 0.666\n",
      "\n",
      "dL = -0.0840, dL2= 0.0000, mismatch = 2.22e-11\n",
      "RoC1 = -0.1500 m,  RoC2 = 0.4307 m\n",
      "TSRC stability: m = 0.321,  g = 0.661\n",
      "\n",
      "dL = -0.0780, dL2= 0.0000, mismatch = 2.69e-11\n",
      "RoC1 = -0.1484 m,  RoC2 = 0.4280 m\n",
      "TSRC stability: m = 0.310,  g = 0.655\n",
      "\n",
      "dL = -0.0720, dL2= 0.0000, mismatch = 4.09e-11\n",
      "RoC1 = -0.1469 m,  RoC2 = 0.4253 m\n",
      "TSRC stability: m = 0.298,  g = 0.649\n",
      "\n",
      "dL = -0.0660, dL2= 0.0000, mismatch = 2.34e-11\n",
      "RoC1 = -0.1453 m,  RoC2 = 0.4226 m\n",
      "TSRC stability: m = 0.287,  g = 0.644\n",
      "\n",
      "dL = -0.0600, dL2= 0.0000, mismatch = 2.04e-11\n",
      "RoC1 = -0.1437 m,  RoC2 = 0.4198 m\n",
      "TSRC stability: m = 0.276,  g = 0.638\n",
      "\n",
      "dL = -0.0540, dL2= 0.0000, mismatch = 1.09e-11\n",
      "RoC1 = -0.1421 m,  RoC2 = 0.4169 m\n",
      "TSRC stability: m = 0.265,  g = 0.633\n",
      "\n",
      "dL = -0.0480, dL2= 0.0000, mismatch = 3.73e-11\n",
      "RoC1 = -0.1404 m,  RoC2 = 0.4141 m\n",
      "TSRC stability: m = 0.254,  g = 0.627\n",
      "\n",
      "dL = -0.0420, dL2= 0.0000, mismatch = 6.04e-12\n",
      "RoC1 = -0.1388 m,  RoC2 = 0.4111 m\n",
      "TSRC stability: m = 0.243,  g = 0.622\n",
      "\n",
      "dL = -0.0360, dL2= 0.0000, mismatch = 2.52e-11\n",
      "RoC1 = -0.1371 m,  RoC2 = 0.4081 m\n",
      "TSRC stability: m = 0.232,  g = 0.616\n",
      "\n",
      "dL = -0.0300, dL2= 0.0000, mismatch = 1.70e-11\n",
      "RoC1 = -0.1355 m,  RoC2 = 0.4051 m\n",
      "TSRC stability: m = 0.222,  g = 0.611\n",
      "\n",
      "dL = -0.0240, dL2= 0.0000, mismatch = 2.10e-11\n",
      "RoC1 = -0.1338 m,  RoC2 = 0.4020 m\n",
      "TSRC stability: m = 0.211,  g = 0.605\n",
      "\n",
      "dL = -0.0180, dL2= 0.0000, mismatch = 8.73e-12\n",
      "RoC1 = -0.1321 m,  RoC2 = 0.3988 m\n",
      "TSRC stability: m = 0.200,  g = 0.600\n",
      "\n",
      "dL = -0.0120, dL2= 0.0000, mismatch = 9.71e-12\n",
      "RoC1 = -0.1303 m,  RoC2 = 0.3956 m\n",
      "TSRC stability: m = 0.189,  g = 0.595\n",
      "\n",
      "dL = -0.0060, dL2= 0.0000, mismatch = 5.75e-12\n",
      "RoC1 = -0.1286 m,  RoC2 = 0.3923 m\n",
      "TSRC stability: m = 0.179,  g = 0.589\n",
      "\n",
      "dL = 0.0000, dL2= 0.0000, mismatch = 9.44e-12\n",
      "RoC1 = -0.1268 m,  RoC2 = 0.3889 m\n",
      "TSRC stability: m = 0.168,  g = 0.584\n",
      "\n",
      "dL = 0.0060, dL2= 0.0000, mismatch = 5.66e-11\n",
      "RoC1 = -0.1250 m,  RoC2 = 0.3855 m\n",
      "TSRC stability: m = 0.158,  g = 0.579\n",
      "\n",
      "dL = 0.0120, dL2= 0.0000, mismatch = 8.90e-12\n",
      "RoC1 = -0.1232 m,  RoC2 = 0.3821 m\n",
      "TSRC stability: m = 0.148,  g = 0.574\n",
      "\n",
      "dL = 0.0180, dL2= 0.0000, mismatch = 7.80e-12\n",
      "RoC1 = -0.1214 m,  RoC2 = 0.3785 m\n",
      "TSRC stability: m = 0.137,  g = 0.569\n",
      "\n",
      "dL = 0.0240, dL2= 0.0000, mismatch = 1.51e-11\n",
      "RoC1 = -0.1196 m,  RoC2 = 0.3749 m\n",
      "TSRC stability: m = 0.127,  g = 0.564\n",
      "\n",
      "dL = 0.0300, dL2= 0.0000, mismatch = 6.71e-11\n",
      "RoC1 = -0.1177 m,  RoC2 = 0.3712 m\n",
      "TSRC stability: m = 0.117,  g = 0.559\n",
      "\n",
      "dL = 0.0360, dL2= 0.0000, mismatch = 2.30e-11\n",
      "RoC1 = -0.1159 m,  RoC2 = 0.3675 m\n",
      "TSRC stability: m = 0.107,  g = 0.553\n",
      "\n",
      "dL = 0.0420, dL2= 0.0000, mismatch = 1.01e-11\n",
      "RoC1 = -0.1140 m,  RoC2 = 0.3637 m\n",
      "TSRC stability: m = 0.097,  g = 0.548\n",
      "\n",
      "dL = 0.0480, dL2= 0.0000, mismatch = 1.35e-11\n",
      "RoC1 = -0.1121 m,  RoC2 = 0.3597 m\n",
      "TSRC stability: m = 0.087,  g = 0.544\n",
      "\n",
      "dL = 0.0540, dL2= 0.0000, mismatch = 2.00e-11\n",
      "RoC1 = -0.1102 m,  RoC2 = 0.3558 m\n",
      "TSRC stability: m = 0.077,  g = 0.539\n",
      "\n",
      "dL = 0.0600, dL2= 0.0000, mismatch = 1.33e-11\n",
      "RoC1 = -0.1082 m,  RoC2 = 0.3517 m\n",
      "TSRC stability: m = 0.067,  g = 0.534\n",
      "\n",
      "dL = 0.0660, dL2= 0.0000, mismatch = 5.42e-12\n",
      "RoC1 = -0.1062 m,  RoC2 = 0.3475 m\n",
      "TSRC stability: m = 0.058,  g = 0.529\n",
      "\n",
      "dL = 0.0720, dL2= 0.0000, mismatch = 3.26e-11\n",
      "RoC1 = -0.1043 m,  RoC2 = 0.3433 m\n",
      "TSRC stability: m = 0.048,  g = 0.524\n",
      "\n",
      "dL = 0.0780, dL2= 0.0000, mismatch = 1.51e-11\n",
      "RoC1 = -0.1023 m,  RoC2 = 0.3389 m\n",
      "TSRC stability: m = 0.038,  g = 0.519\n",
      "\n",
      "dL = 0.0840, dL2= 0.0000, mismatch = 5.95e-12\n",
      "RoC1 = -0.1003 m,  RoC2 = 0.3345 m\n",
      "TSRC stability: m = 0.029,  g = 0.514\n",
      "\n",
      "dL = 0.0900, dL2= 0.0000, mismatch = 1.07e-11\n",
      "RoC1 = -0.0982 m,  RoC2 = 0.3300 m\n",
      "TSRC stability: m = 0.019,  g = 0.510\n",
      "\n",
      "dL = 0.0960, dL2= 0.0000, mismatch = 7.17e-12\n",
      "RoC1 = -0.0962 m,  RoC2 = 0.3253 m\n",
      "TSRC stability: m = 0.010,  g = 0.505\n",
      "\n",
      "dL = 0.1020, dL2= 0.0000, mismatch = 6.37e-12\n",
      "RoC1 = -0.0941 m,  RoC2 = 0.3206 m\n",
      "TSRC stability: m = 0.001,  g = 0.500\n",
      "\n",
      "dL = 0.1080, dL2= 0.0000, mismatch = 8.97e-12\n",
      "RoC1 = -0.0920 m,  RoC2 = 0.3158 m\n",
      "TSRC stability: m = -0.009,  g = 0.496\n",
      "\n",
      "dL = 0.1140, dL2= 0.0000, mismatch = 4.45e-12\n",
      "RoC1 = -0.0899 m,  RoC2 = 0.3108 m\n",
      "TSRC stability: m = -0.018,  g = 0.491\n",
      "\n"
     ]
    },
    {
     "name": "stdout",
     "output_type": "stream",
     "text": [
      "dL = 0.1200, dL2= 0.0000, mismatch = 1.66e-11\n",
      "RoC1 = -0.0877 m,  RoC2 = 0.3057 m\n",
      "TSRC stability: m = -0.027,  g = 0.487\n",
      "\n",
      "dL = 0.1260, dL2= 0.0000, mismatch = 6.24e-12\n",
      "RoC1 = -0.0856 m,  RoC2 = 0.3005 m\n",
      "TSRC stability: m = -0.036,  g = 0.482\n",
      "\n",
      "dL = 0.1320, dL2= 0.0000, mismatch = 2.60e-11\n",
      "RoC1 = -0.0834 m,  RoC2 = 0.2952 m\n",
      "TSRC stability: m = -0.045,  g = 0.478\n",
      "\n",
      "dL = 0.1380, dL2= 0.0000, mismatch = 5.57e-12\n",
      "RoC1 = -0.0812 m,  RoC2 = 0.2898 m\n",
      "TSRC stability: m = -0.054,  g = 0.473\n",
      "\n",
      "dL = 0.1440, dL2= 0.0000, mismatch = 2.57e-12\n",
      "RoC1 = -0.0790 m,  RoC2 = 0.2842 m\n",
      "TSRC stability: m = -0.063,  g = 0.469\n",
      "\n",
      "dL = 0.1500, dL2= 0.0000, mismatch = 3.42e-11\n",
      "RoC1 = -0.0768 m,  RoC2 = 0.2785 m\n",
      "TSRC stability: m = -0.072,  g = 0.464\n",
      "\n",
      "dL = 0.1560, dL2= 0.0000, mismatch = 1.28e-11\n",
      "RoC1 = -0.0745 m,  RoC2 = 0.2726 m\n",
      "TSRC stability: m = -0.080,  g = 0.460\n",
      "\n",
      "dL = 0.1620, dL2= 0.0000, mismatch = 3.15e-12\n",
      "RoC1 = -0.0722 m,  RoC2 = 0.2666 m\n",
      "TSRC stability: m = -0.089,  g = 0.456\n",
      "\n",
      "dL = 0.1680, dL2= 0.0000, mismatch = 4.83e-12\n",
      "RoC1 = -0.0699 m,  RoC2 = 0.2604 m\n",
      "TSRC stability: m = -0.097,  g = 0.451\n",
      "\n",
      "dL = 0.1740, dL2= 0.0000, mismatch = 2.72e-12\n",
      "RoC1 = -0.0676 m,  RoC2 = 0.2541 m\n",
      "TSRC stability: m = -0.106,  g = 0.447\n",
      "\n",
      "dL = 0.1800, dL2= 0.0000, mismatch = 8.78e-12\n",
      "RoC1 = -0.0653 m,  RoC2 = 0.2476 m\n",
      "TSRC stability: m = -0.114,  g = 0.443\n",
      "\n",
      "dL = 0.1860, dL2= 0.0000, mismatch = 4.37e-12\n",
      "RoC1 = -0.0629 m,  RoC2 = 0.2409 m\n",
      "TSRC stability: m = -0.123,  g = 0.439\n",
      "\n",
      "dL = 0.1920, dL2= 0.0000, mismatch = 9.32e-12\n",
      "RoC1 = -0.0606 m,  RoC2 = 0.2340 m\n",
      "TSRC stability: m = -0.131,  g = 0.434\n",
      "\n",
      "dL = 0.1980, dL2= 0.0000, mismatch = 1.19e-11\n",
      "RoC1 = -0.0582 m,  RoC2 = 0.2270 m\n",
      "TSRC stability: m = -0.139,  g = 0.430\n",
      "\n",
      "dL = 0.2040, dL2= 0.0000, mismatch = 4.31e-12\n",
      "RoC1 = -0.0557 m,  RoC2 = 0.2197 m\n",
      "TSRC stability: m = -0.148,  g = 0.426\n",
      "\n",
      "dL = 0.2100, dL2= 0.0000, mismatch = 9.87e-12\n",
      "RoC1 = -0.0533 m,  RoC2 = 0.2122 m\n",
      "TSRC stability: m = -0.156,  g = 0.422\n",
      "\n",
      "dL = 0.2160, dL2= 0.0000, mismatch = 3.22e-12\n",
      "RoC1 = -0.0508 m,  RoC2 = 0.2046 m\n",
      "TSRC stability: m = -0.164,  g = 0.418\n",
      "\n",
      "dL = 0.2220, dL2= 0.0000, mismatch = 1.48e-12\n",
      "RoC1 = -0.0484 m,  RoC2 = 0.1967 m\n",
      "TSRC stability: m = -0.172,  g = 0.414\n",
      "\n",
      "dL = 0.2280, dL2= 0.0000, mismatch = 1.78e-12\n",
      "RoC1 = -0.0459 m,  RoC2 = 0.1885 m\n",
      "TSRC stability: m = -0.180,  g = 0.410\n",
      "\n",
      "dL = 0.2340, dL2= 0.0000, mismatch = 4.24e-13\n",
      "RoC1 = -0.0433 m,  RoC2 = 0.1801 m\n",
      "TSRC stability: m = -0.188,  g = 0.406\n",
      "\n",
      "dL = 0.2400, dL2= 0.0000, mismatch = 7.08e-13\n",
      "RoC1 = -0.0408 m,  RoC2 = 0.1715 m\n",
      "TSRC stability: m = -0.196,  g = 0.402\n",
      "\n",
      "dL = 0.2460, dL2= 0.0000, mismatch = 1.83e-12\n",
      "RoC1 = -0.0382 m,  RoC2 = 0.1626 m\n",
      "TSRC stability: m = -0.203,  g = 0.398\n",
      "\n",
      "dL = 0.2520, dL2= 0.0000, mismatch = 6.31e-13\n",
      "RoC1 = -0.0356 m,  RoC2 = 0.1534 m\n",
      "TSRC stability: m = -0.211,  g = 0.395\n",
      "\n",
      "dL = 0.2580, dL2= 0.0000, mismatch = 1.57e-09\n",
      "RoC1 = -0.0330 m,  RoC2 = 0.1438 m\n",
      "TSRC stability: m = -0.219,  g = 0.391\n",
      "\n",
      "dL = 0.2640, dL2= 0.0000, mismatch = 1.43e-12\n",
      "RoC1 = -0.0304 m,  RoC2 = 0.1340 m\n",
      "TSRC stability: m = -0.226,  g = 0.387\n",
      "\n",
      "dL = 0.2700, dL2= 0.0000, mismatch = 7.97e-05\n",
      "RoC1 = -0.0280 m,  RoC2 = 0.1241 m\n",
      "TSRC stability: m = -0.227,  g = 0.387\n",
      "\n",
      "dL = 0.2760, dL2= 0.0000, mismatch = 6.31e-05\n",
      "RoC1 = -0.0253 m,  RoC2 = 0.1135 m\n",
      "TSRC stability: m = -0.219,  g = 0.390\n",
      "\n",
      "dL = 0.2820, dL2= 0.0000, mismatch = 8.95e-03\n",
      "RoC1 = -0.0251 m,  RoC2 = 0.1046 m\n",
      "TSRC stability: m = -0.112,  g = 0.444\n",
      "\n",
      "dL = 0.2880, dL2= 0.0000, mismatch = 1.21e-02\n",
      "RoC1 = -0.0224 m,  RoC2 = 0.0934 m\n",
      "TSRC stability: m = -0.114,  g = 0.443\n",
      "\n",
      "dL = 0.2940, dL2= 0.0000, mismatch = 3.64e-02\n",
      "RoC1 = -0.0215 m,  RoC2 = 0.0833 m\n",
      "TSRC stability: m = 0.002,  g = 0.501\n",
      "\n",
      "dL = 0.3000, dL2= 0.0000, mismatch = 1.69e-01\n",
      "RoC1 = -0.0252 m,  RoC2 = 0.0766 m\n",
      "TSRC stability: m = 0.317,  g = 0.659\n",
      "\n"
     ]
    }
   ],
   "source": [
    "from scipy.optimize import minimize\n",
    "from pykat.optics import ABCD as a\n",
    "\n",
    "q0 = BeamParam(q=qsrm)\n",
    "q1 = BeamParam(w0=30e-6, z=0, nr=1.8)\n",
    "\n",
    "\n",
    "def stability_tsrc(rocs):\n",
    "    roc1 = rocs[0]\n",
    "    roc2 = rocs[1]\n",
    "    \n",
    "    # Outbound\n",
    "    S1  = a.space(1.45, 0.006)\n",
    "    S2  = a.mirror_trans(1.45, 1, np.inf)\n",
    "    S3  = a.space(1,0.3538+dL-dL2)                   # L_TSR1\n",
    "    S4  = a.mirror_refl(1,roc1)\n",
    "    S5  = a.space(1, 0.33-dL)                    # L_TSR2\n",
    "    S6  = a.mirror_refl(1,roc2)\n",
    "    S7  = a.space(1.0, 0.3388+0.0456+dL2)         # L_TSR3 + DC-->Crystal\n",
    "    S8  = a.mirror_trans(1.0, 1.8, np.inf) \n",
    "    S9  = a.space(1.8, 0.01)\n",
    "    S10 = a.mirror_trans(1.8, 1.0, np.inf) \n",
    "    S11 = a.space(1.0, 0.0456 + 0.0544)       # Crystal-->DC + DC-->TSRM\n",
    "    S12 = a.mirror_refl(1,0.1)\n",
    "    \n",
    "    # Inbound\n",
    "    S13 = S11\n",
    "    S14 = S8\n",
    "    S15 = S9\n",
    "    S16 = S10\n",
    "    S17 = S7\n",
    "    S18 = S6\n",
    "    S19 = S5\n",
    "    S20 = S4\n",
    "    S21 = S3\n",
    "    S22 = a.mirror_trans(1, 1.45, np.inf)\n",
    "    S23 = S1\n",
    "    S24 = a.mirror_refl(1.45, -2.0)\n",
    "\n",
    "    \n",
    "    M = S24*S23*S22*S21*S20*S19*S18*S17*S16*S15*S14*S13*S12*S11*S10*S9*S8*S7*S6*S5*S4*S3*S2*S1\n",
    "    return (M[0,0] + M[1,1])/2.0\n",
    "\n",
    "\n",
    "# Define mode overlap function between SRC and TSRC\n",
    "def overlap(q_1, q_2):\n",
    "    return 4.0*np.abs(q_1.imag * q_2.imag)/np.abs( q_1.q.conjugate() - q_2.q)**2\n",
    "    \n",
    "\n",
    "def roc(roc1,roc2,q0):\n",
    "    S0  = a.space(1,0.3538+dL-dL2)                   # L_TSR1\n",
    "    S1  = a.mirror_refl(1,roc1)\n",
    "    S2  = a.space(1, 0.33-dL)                    # L_TSR2\n",
    "    S3  = a.mirror_refl(1,roc2)\n",
    "    S4  = a.space(1.0, 0.3388+0.0456+dL2)         # L_TSR3 + DC-->Crystal\n",
    "    S5  = a.mirror_trans(1.0, 1.8, np.inf) \n",
    "    S6  = a.space(1.8, 0.01/2.0)\n",
    "    M = S6 * S5 * S4 * S3 * S2 * S1 * S0\n",
    "\n",
    "    return a.apply(M, q0, 1, 1.8)\n",
    "\n",
    "\n",
    "def fun(diopt1, diopt2):\n",
    "    roc1 = 1.0/diopt1\n",
    "    roc2 = 1.0/diopt2\n",
    "    q = roc(roc1,roc2,q0)\n",
    "    mm = overlap(q, q1)\n",
    "    return 1.0-mm\n",
    "    \n",
    "def fun2(rocs):\n",
    "    roc1 = 1.0/rocs[0]\n",
    "    roc2 = 1.0/rocs[1]\n",
    "    q = roc(roc1,roc2,q0)\n",
    "    mm = overlap(q, q1)\n",
    "    return 1.0-mm\n",
    "    \n",
    "   \n",
    "dL2 = 0.0\n",
    "dLs = np.linspace(-0.3, 0.3, 101)\n",
    "for dL in dLs:\n",
    "    sol1 = minimize(fun2, (1,1), method='Nelder-Mead',tol=None) #output returned in diopters. \n",
    "                                                            # The output currently returned currently is \n",
    "                                                            # optimal for the set lengths\n",
    "    rocs = 1.0/sol1.x\n",
    "    mm = sol1.fun\n",
    "    m = stability_tsrc(rocs)\n",
    "    g = (m+1.0)/2\n",
    "    print('dL = {:.4f}, dL2= {:.4f}, mismatch = {:.2e}'.format(dL,dL2, mm))\n",
    "    print('RoC1 = {0[0]:.4f} m,  RoC2 = {0[1]:.4f} m'.format(rocs))\n",
    "    print('TSRC stability: m = {:.3f},  g = {:.3f}'.format(m,g))\n",
    "    print()"
   ]
  },
  {
   "cell_type": "code",
   "execution_count": 32,
   "metadata": {},
   "outputs": [
    {
     "ename": "SyntaxError",
     "evalue": "invalid syntax (<ipython-input-32-3cee1bf8f458>, line 2)",
     "output_type": "error",
     "traceback": [
      "\u001b[0;36m  File \u001b[0;32m\"<ipython-input-32-3cee1bf8f458>\"\u001b[0;36m, line \u001b[0;32m2\u001b[0m\n\u001b[0;31m    RoC1 = -0.2006 m,  RoC2 = 0.5094 m\u001b[0m\n\u001b[0m                   ^\u001b[0m\n\u001b[0;31mSyntaxError\u001b[0m\u001b[0;31m:\u001b[0m invalid syntax\n"
     ]
    }
   ],
   "source": [
    "dL = -0.3200,  mismatch = 5.79e-11\n",
    "RoC1 = -0.2006 m,  RoC2 = 0.5094 m\n",
    "TSRC stability: m = 0.796,  g = 0.898"
   ]
  },
  {
   "cell_type": "code",
   "execution_count": 33,
   "metadata": {},
   "outputs": [
    {
     "data": {
      "text/plain": [
       "0.0007223948610494135"
      ]
     },
     "execution_count": 33,
     "metadata": {},
     "output_type": "execute_result"
    }
   ],
   "source": [
    "# Chosen configuration\n",
    "dL = -0.2817\n",
    "diopts = 1.0/np.array([-0.200, 0.5])\n",
    "fun2(diopts)"
   ]
  },
  {
   "cell_type": "code",
   "execution_count": 34,
   "metadata": {},
   "outputs": [
    {
     "data": {
      "text/plain": [
       "0.0721"
      ]
     },
     "execution_count": 34,
     "metadata": {},
     "output_type": "execute_result"
    }
   ],
   "source": [
    "0.3538+dL\n"
   ]
  },
  {
   "cell_type": "code",
   "execution_count": 35,
   "metadata": {},
   "outputs": [
    {
     "data": {
      "text/plain": [
       "0.6117"
      ]
     },
     "execution_count": 35,
     "metadata": {},
     "output_type": "execute_result"
    }
   ],
   "source": [
    "0.33-dL"
   ]
  },
  {
   "cell_type": "code",
   "execution_count": 36,
   "metadata": {},
   "outputs": [
    {
     "data": {
      "text/plain": [
       "0.38439999999999996"
      ]
     },
     "execution_count": 36,
     "metadata": {},
     "output_type": "execute_result"
    }
   ],
   "source": [
    "0.3388+0.0456"
   ]
  },
  {
   "cell_type": "code",
   "execution_count": 37,
   "metadata": {},
   "outputs": [
    {
     "data": {
      "text/plain": [
       "0.1"
      ]
     },
     "execution_count": 37,
     "metadata": {},
     "output_type": "execute_result"
    }
   ],
   "source": [
    "0.0456+0.0544"
   ]
  },
  {
   "cell_type": "code",
   "execution_count": 38,
   "metadata": {},
   "outputs": [
    {
     "data": {
      "text/plain": [
       "21.016207520356655"
      ]
     },
     "execution_count": 38,
     "metadata": {},
     "output_type": "execute_result"
    }
   ],
   "source": [
    "np.arctan(0.0277/(0.3538-0.2817))*180.0/np.pi"
   ]
  },
  {
   "cell_type": "code",
   "execution_count": 40,
   "metadata": {},
   "outputs": [
    {
     "data": {
      "text/plain": [
       "10.508103760178328"
      ]
     },
     "execution_count": 40,
     "metadata": {},
     "output_type": "execute_result"
    }
   ],
   "source": [
    "21.016207520356655/2"
   ]
  },
  {
   "cell_type": "code",
   "execution_count": 39,
   "metadata": {},
   "outputs": [
    {
     "data": {
      "text/plain": [
       "0.7430232866683557"
      ]
     },
     "execution_count": 39,
     "metadata": {},
     "output_type": "execute_result"
    }
   ],
   "source": [
    "dL = -0.1440\n",
    "dL2= 0.1000\n",
    "mismatch = 5.07e-11\n",
    "diots = 1/np.array([-0.1,0.5])\n",
    "fun2(diots)"
   ]
  },
  {
   "cell_type": "code",
   "execution_count": null,
   "metadata": {},
   "outputs": [],
   "source": []
  },
  {
   "cell_type": "code",
   "execution_count": null,
   "metadata": {},
   "outputs": [],
   "source": []
  }
 ],
 "metadata": {
  "kernelspec": {
   "display_name": "Python 3",
   "language": "python",
   "name": "python3"
  },
  "language_info": {
   "codemirror_mode": {
    "name": "ipython",
    "version": 3
   },
   "file_extension": ".py",
   "mimetype": "text/x-python",
   "name": "python",
   "nbconvert_exporter": "python",
   "pygments_lexer": "ipython3",
   "version": "3.7.2"
  },
  "toc": {
   "base_numbering": 1,
   "nav_menu": {},
   "number_sections": true,
   "sideBar": true,
   "skip_h1_title": false,
   "title_cell": "Table of Contents",
   "title_sidebar": "Contents",
   "toc_cell": false,
   "toc_position": {
    "height": "calc(100% - 180px)",
    "left": "10px",
    "top": "150px",
    "width": "349px"
   },
   "toc_section_display": true,
   "toc_window_display": true
  },
  "toc_position": {
   "height": "640px",
   "left": "1262.7px",
   "right": "20px",
   "top": "97px",
   "width": "271px"
  }
 },
 "nbformat": 4,
 "nbformat_minor": 2
}
