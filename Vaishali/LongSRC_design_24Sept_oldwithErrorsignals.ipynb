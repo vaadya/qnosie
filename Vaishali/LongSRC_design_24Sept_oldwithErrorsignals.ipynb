{
 "cells": [
  {
   "cell_type": "markdown",
   "metadata": {},
   "source": [
    "<span style=\"font-size:200%; text-align:left;\"><b>Lab setup of long SRC in a Michelson</b></span>\n",
    "<br/>\n",
    "Code : Mostly D.Toyra but I, V Adya chipped in\n"
   ]
  },
  {
   "cell_type": "markdown",
   "metadata": {},
   "source": [
    "# Importing packages"
   ]
  },
  {
   "cell_type": "code",
   "execution_count": 1,
   "metadata": {},
   "outputs": [
    {
     "name": "stdout",
     "output_type": "stream",
     "text": [
      "                                              ..-\n",
      "    PyKat develop         _                  '(\n",
      "                          \\`.|\\.__...-\"\"\"\"-_.\" )\n",
      "       ..+-----.._        /  ' `            .-'\n",
      "   . '            `:      7/* _/._\\    \\   (\n",
      "  (        '::;;+;;:      `-\"' =\" /,`\"\" `) /\n",
      "  L.        \\`:::a:f            c_/     n_'\n",
      "  ..`--...___`.  .    ,\n",
      "   `^-....____:   +.      www.gwoptics.org/pykat\n",
      "\n"
     ]
    }
   ],
   "source": [
    "import pykat\n",
    "import pykat.ifo as ifo\n",
    "import pykat.ifo.aligo as aligo\n",
    "import pykat.ifo.aligo.plot\n",
    "from pykat.optics import ABCD as a\n",
    "\n",
    "import numpy as np\n",
    "import matplotlib.pyplot as plt\n",
    "from scipy.optimize import minimize_scalar\n",
    "\n",
    "import pickle\n",
    "import matplotlib as mpl\n",
    "mpl.rcParams['axes.formatter.useoffset']=False\n",
    "\n",
    "\n",
    "from scipy.optimize import minimize\n",
    "from pykat.optics.gaussian_beams import BeamParam"
   ]
  },
  {
   "cell_type": "markdown",
   "metadata": {},
   "source": [
    "# Setting up Long SRC IFO\n",
    "## Tuning DFO"
   ]
  },
  {
   "cell_type": "code",
   "execution_count": null,
   "metadata": {},
   "outputs": [],
   "source": [
    "kat7 = pykat.finesse.kat()\n",
    "kat7.verbose = False\n",
    "kat7.load(\"LongSRC_design_24Sept.kat\")\n",
    "kat7.eom1.midx = 0\n"
   ]
  },
  {
   "cell_type": "markdown",
   "metadata": {},
   "source": [
    "### Tuning Y arm"
   ]
  },
  {
   "cell_type": "code",
   "execution_count": null,
   "metadata": {},
   "outputs": [],
   "source": [
    "kat = kat7.deepcopy()\n",
    "kat.parse(\"\"\"\n",
    "xaxis EY phi lin -100 100 200\n",
    "yaxis abs\n",
    "\"\"\")\n",
    "out = kat.run()\n",
    "fig = plt.figure(figsize=(7,3))\n",
    "ax = fig.add_subplot(111)\n",
    "ax.plot(out.x, out['AS_Port'])\n",
    "ax.set_xlim(out.x.min(),out.x.max())\n",
    "ax.grid()\n",
    "ax.set_title('Y-ARM')\n",
    "ax.set_xlabel('Tuning [deg]')\n",
    "ax.set_ylabel('Power [W]')\n",
    "plt.show(fig)"
   ]
  },
  {
   "cell_type": "code",
   "execution_count": null,
   "metadata": {},
   "outputs": [],
   "source": [
    "phi_Y = out.x[out['AS_Port'].argmin()]\n",
    "print(phi_Y)"
   ]
  },
  {
   "cell_type": "markdown",
   "metadata": {},
   "source": [
    "### X Arm"
   ]
  },
  {
   "cell_type": "code",
   "execution_count": null,
   "metadata": {},
   "outputs": [],
   "source": [
    "#tuning x arm\n",
    "kat = kat7.deepcopy()\n",
    "kat.EY.phi = phi_Y\n",
    "\n",
    "kat.parse(\"\"\"\n",
    "xaxis EX phi lin -100 100 200\n",
    "yaxis abs\n",
    "\"\"\")\n",
    "out = kat.run()\n",
    "\n",
    "fig = plt.figure(figsize=(7,3))\n",
    "ax = fig.add_subplot(111)\n",
    "ax.plot(out.x, out['AS_Port'])\n",
    "ax.set_xlim(out.x.min(),out.x.max())\n",
    "ax.grid()\n",
    "ax.set_title('X-ARM')\n",
    "ax.set_xlabel('Tuning [degb\\]')\n",
    "ax.set_ylabel('Power [W]')\n",
    "plt.show(fig)"
   ]
  },
  {
   "cell_type": "code",
   "execution_count": null,
   "metadata": {},
   "outputs": [],
   "source": [
    "phi_X = out.x[out['AS_Port'].argmin()]\n",
    "phi_X"
   ]
  },
  {
   "cell_type": "markdown",
   "metadata": {},
   "source": [
    "## Amplitude and phase of the carrier, sidebands everywhere\n"
   ]
  },
  {
   "cell_type": "code",
   "execution_count": null,
   "metadata": {},
   "outputs": [],
   "source": [
    "kat6 = pykat.finesse.kat()\n",
    "kat6.verbose = False\n",
    "kat6.load(\"LongSRC_design_24Sept.kat\")\n",
    "kat6.EY.phi = phi_Y\n",
    "kat6.EX.phi = phi_X\n",
    "\n",
    "\n",
    "kat6.eom1.midx = 0.1\n"
   ]
  },
  {
   "cell_type": "code",
   "execution_count": null,
   "metadata": {},
   "outputs": [],
   "source": [
    "# Tuning x arm\n",
    "kat = kat6.deepcopy()\n",
    "\n",
    "kat.parse(\"\"\"\n",
    "variable dummy 0\n",
    "xaxis SRM phi lin -100 100 200\n",
    "yaxis abs:deg\n",
    "\"\"\")\n",
    "out = kat.run()\n",
    "\n",
    "fig = plt.figure(figsize=(7,9), dpi=100)\n",
    "ax = fig.add_subplot(211)\n",
    "ax1 = fig.add_subplot(212)\n",
    "\n",
    "ax.plot(out.x, np.abs(out['Xarm']),label='Carrier, Xarm')\n",
    "ax.plot(out.x, np.abs(out['Yarm']),label='Carrier, Yarm')\n",
    "ax.plot(out.x, np.abs(out['SRCa']),label='Carrier, SRC')\n",
    "ax.plot(out.x, np.abs(out['Xarm_f1']),label='SB, Xarm')\n",
    "ax.plot(out.x, np.abs(out['Yarm_f1']),label='SB, Yarm')\n",
    "ax.plot(out.x, np.abs(out['SRCa_f1']),label='SB, SRC')\n",
    "\n",
    "\n",
    "ax1.plot(out.x, np.angle(out['Xarm']),label='Carrier, Xarm')\n",
    "ax1.plot(out.x, np.angle(out['Yarm']),label='Carrier, Yarm')\n",
    "ax1.plot(out.x, np.angle(out['SRCa']),label='Carrier, SRC')\n",
    "ax1.plot(out.x, np.angle(out['Xarm_f1']),label='SB, Xarm')\n",
    "ax1.plot(out.x, np.angle(out['Yarm_f1']),label='SB, Yarm')\n",
    "ax1.plot(out.x, np.angle(out['SRCa_f1']),label='SB, SRC')\n",
    "\n",
    "ax.set_xlim(out.x.min(),out.x.max())\n",
    "ax.grid()\n",
    "ax.set_title('Amplitude ')\n",
    "ax.set_xlabel('SRC tuning [deg]')\n",
    "ax.set_ylabel('au')\n",
    "ax.legend()\n",
    "\n",
    "ax1.set_xlim(out.x.min(),out.x.max())\n",
    "ax1.grid()\n",
    "ax1.set_title('Phase')\n",
    "ax1.set_xlabel('SRC tuning [deg]')\n",
    "ax1.set_ylabel('au')\n",
    "ax1.legend()\n",
    "\n",
    "plt.show(fig)"
   ]
  },
  {
   "cell_type": "markdown",
   "metadata": {},
   "source": [
    "## Schnupp asymmetry optimisation"
   ]
  },
  {
   "cell_type": "code",
   "execution_count": null,
   "metadata": {},
   "outputs": [],
   "source": [
    "#3.47256317425e-07\n",
    "#Sidebands optimisation with Schnupp Asymmetry\n",
    "kat1=kat6.deepcopy()\n",
    "kat1.parse(\"\"\" \n",
    "ad SRC_SB1 1230000000 nSRM1\n",
    "set test_sb1 SRC_SB1 abs\n",
    "ad X_SB2 1230000000 nBS3\n",
    "set test_sb2 X_SB2 abs\n",
    "ad Y_SB3 1230000000 nBS2\n",
    "set test_sb3 Y_SB3 abs\n",
    "##########################################################################\n",
    "\n",
    "func SRC_sb1 = $test_sb1 * $test_sb1\n",
    "func X_sb2 = $test_sb2 * $test_sb2\n",
    "func Y_sb3 = $test_sb3 * $test_sb3\n",
    "\n",
    "variable schnupp_asym 0\n",
    "xaxis schnupp_asym l lin 0 0.01 100\n",
    "const lmean  1\n",
    "func xlength = $lmean + 0.5*$x1\n",
    "func ylength = $lmean - 0.5*$x1\n",
    "put LX l $xlength\n",
    "put LY l $ylength\n",
    "\n",
    "noplot xlength\n",
    "noplot ylength\n",
    "\n",
    "\"\"\")\n",
    "\n",
    "\n",
    "out1=kat1.run()\n",
    "fig = plt.figure(figsize=(12,7))\n",
    "ax = fig.add_subplot(111)\n",
    "ax.semilogy(out1.x,np.abs(out1['SRC_sb1']),'b-',label='f1 in SRC')\n",
    "ax.semilogy(out1.x,np.abs(out1['X_sb2']),'k-',label='f1 in X arm')\n",
    "ax.semilogy(out1.x,np.abs(out1['Y_sb3']),'r-',label='f1 in Y arm')\n",
    "\n",
    "ax.legend(loc=4)\n",
    "ax.set_title('Sideband resonance conditions in the IFO ')\n",
    "x=out1.x\n",
    "#ax.set_xlim(x.min(),x.max())\n",
    "#ax.set_ylim(0.000001,1)\n",
    "ax.set_yscale(\"log\")\n",
    "ax.set_xlabel('Schnupp asymmetry [m]')\n",
    "ax.set_ylabel('Sideband power in the SRC [W]')\n",
    "ax.grid()\n",
    "\n",
    "#print(out2['Y_sb3'])\n",
    "#plt.savefig(\"SidebandCoupling.eps\", bbox_inches='tight')"
   ]
  },
  {
   "cell_type": "markdown",
   "metadata": {},
   "source": [
    "# Error signals"
   ]
  },
  {
   "cell_type": "code",
   "execution_count": null,
   "metadata": {},
   "outputs": [],
   "source": [
    "\n",
    "#Adding photodoiodes to demodulate the output\n",
    "kat6.parse(\"\"\" \n",
    "pd1 REFL_I 1230000000 10 nBS1\n",
    "pd1 REFL_Q 1230000000 100 nBS1\n",
    "pd1 DC_PD 0 0 nOut\n",
    "pd1 TRANS_I 1230000000 0 nOut\n",
    "pd1 TRANS_Q 1230000000 90 nOut\n",
    "\n",
    "yaxis abs\n",
    "\"\"\")\n",
    "\n",
    "#Defining the different DoFs\n",
    "LSCDOFs = [\"SRCL\",\"MICH\"]\n",
    "LSCDOFCommands = {}\n",
    "\n",
    "LSCDOFCommands[\"MICH\"] = \"\"\"\n",
    "variable dummy1 0\n",
    "xaxis dummy1 phi lin -100 100 1000\n",
    "put* EX phi $x1\n",
    "put* EY phi $mx1\n",
    "\"\"\"\n",
    "\n",
    "LSCDOFCommands[\"SRCL\"] = \"\"\"\n",
    "variable dummy5 0\n",
    "xaxis dummy5 phi lin -100 100 1000\n",
    "put* SRM phi $x1\n",
    "\"\"\"\n",
    "\n",
    "\n",
    "#Plot the Error signals and see if they make sense\n",
    "\n",
    "for DOF in LSCDOFs:\n",
    "    kat=kat6.deepcopy()\n",
    "    kat.parse(LSCDOFCommands[DOF])\n",
    "    out=kat.run()\n",
    "    \n",
    "    plt.figure()\n",
    "    #plt.plot(out.x,out[\"DC_PD\"], label=\"DC_PD\")\n",
    "    plt.plot(out.x,out[\"REFL_I\"], label=\"Common_PD\")\n",
    "    plt.plot(out.x,out[\"REFL_Q\"], label=\"SRCL_PD\")\n",
    "    #plt.plot(out.x,out[\"test_PD\"], label=\"test_PD\")\n",
    "    #plt.plot(out.x,out[\"test_PD2\"], label=\"test_PD\")\n",
    "    plt.legend()\n",
    "    plt.grid()\n",
    "    plt.ylabel(\"Signal [W]\")\n",
    "    plt.title(DOF)\n",
    "    #plt.savefig(DOF+\"1.jpg\", bbox_inches='tight')\n",
    "    plt.show()\n",
    "   "
   ]
  },
  {
   "cell_type": "markdown",
   "metadata": {},
   "source": [
    "# Test with long Signal Recycling Cavity\n",
    "## Beam parameter testing"
   ]
  },
  {
   "cell_type": "code",
   "execution_count": null,
   "metadata": {},
   "outputs": [],
   "source": [
    "kat2 = pykat.finesse.kat()\n",
    "kat2.verbose = True\n",
    "kat2.load(\"LongSRC_design_24Sept.kat\")\n",
    "\n",
    "kat2.parse(\"\"\"\n",
    "trace 10\n",
    "mismatches\n",
    "\n",
    "bp qx x q nBS4\n",
    "bp qy x q nBS4\n",
    "\n",
    "noxaxis\n",
    "yaxis abs:deg\n",
    "\"\"\")\n",
    "\n",
    "kat2.removeBlock('Photodiodes')\n",
    "kat2.EX.Rc = 30\n",
    "kat2.EY.Rc = 30\n",
    "kat2.SRM.Rc = np.inf\n",
    "\n",
    "\n",
    "kat2.SRM_AR.Rc = 0.062997\n",
    "kat2.SRCc2.L = 1.35e-01\n",
    "kat2.SRC2.L = 1.1 - 1.35e-01 - 1e-2\n",
    "#print(kat2.SRC2.L)\n",
    "kat2.TSRM.Rc = 1.07\n",
    "kat2.cTSRM.remove()\n",
    "\n",
    "out2 = kat2.run()\n",
    "\n",
    "print(out2.stdout)\n",
    "\n",
    "qx = out2['qx']\n",
    "qy = out2['qy']\n",
    "\n",
    "#L1 = kat2.SRC1.L.value"
   ]
  },
  {
   "cell_type": "code",
   "execution_count": null,
   "metadata": {},
   "outputs": [],
   "source": [
    "(0.106071314202909 + 0.0599822586338401j)*1.8"
   ]
  },
  {
   "cell_type": "code",
   "execution_count": null,
   "metadata": {},
   "outputs": [],
   "source": [
    "qx"
   ]
  },
  {
   "cell_type": "code",
   "execution_count": null,
   "metadata": {},
   "outputs": [],
   "source": [
    "kat2.generateKatScript()"
   ]
  },
  {
   "cell_type": "markdown",
   "metadata": {},
   "source": [
    "## Some tips to run the  file if you happen to change parameters\n",
    "1. If you change any lengths that matter, make sure the beam parameters used to calculate the RoC of SRM_AR and the distance between the AR surface and the first crystal surface is correct (Daniel has made it Vaishali proof but still no harm in checking)\n",
    "2. Make sure to comment out the cav command for TSRM cavity and then look at the radius curvature of the wavefront at TSRM and use that value as the RoC of the TSRM.\n",
    "3. Put in the cav command agian adn see if the waist in the crystal is correct i.e. 32 um in the middle of the crystal (5 mm)"
   ]
  },
  {
   "cell_type": "code",
   "execution_count": null,
   "metadata": {},
   "outputs": [],
   "source": []
  },
  {
   "cell_type": "code",
   "execution_count": null,
   "metadata": {},
   "outputs": [],
   "source": []
  },
  {
   "cell_type": "markdown",
   "metadata": {},
   "source": [
    "# Printing cavity parameters and DC powers everywhere"
   ]
  },
  {
   "cell_type": "code",
   "execution_count": null,
   "metadata": {},
   "outputs": [],
   "source": [
    "print(\"Input power\",np.max(np.abs(out1['Pin'])))\n",
    "print(\"Power going to x arm\",np.max(np.abs(out1['Px'])))\n",
    "print(\"Power going to y arm\",np.max(np.abs(out1['Py'])))\n",
    "print(\"Power in the SRC\",np.max(np.abs(out1['Psrc'])))\n",
    "print(\"DC Power on DARM PD\",np.max(np.abs(out1['AS_Port'])))\n"
   ]
  },
  {
   "cell_type": "markdown",
   "metadata": {},
   "source": [
    "# Some math to work out cavity parameters (No need to run!)"
   ]
  },
  {
   "cell_type": "code",
   "execution_count": null,
   "metadata": {},
   "outputs": [],
   "source": [
    "m = -0.151429\n",
    "(m+1.0)/2.0"
   ]
  },
  {
   "cell_type": "code",
   "execution_count": null,
   "metadata": {},
   "outputs": [],
   "source": [
    "kat2.S"
   ]
  },
  {
   "cell_type": "code",
   "execution_count": null,
   "metadata": {},
   "outputs": [],
   "source": [
    "L = 1.21\n",
    "\n",
    "g1 = 1.0-L/30\n",
    "\n",
    "g2 = 1.0-L/np.inf\n",
    "\n",
    "print(g1)\n",
    "print(g2)\n",
    "\n",
    "print(g1*g2)"
   ]
  },
  {
   "cell_type": "code",
   "execution_count": null,
   "metadata": {},
   "outputs": [],
   "source": [
    "R1 = 0.062997\n",
    "L1 =  1.21\n"
   ]
  },
  {
   "cell_type": "code",
   "execution_count": null,
   "metadata": {},
   "outputs": [],
   "source": [
    "g1 = 1.0-L1/R1\n",
    "\n",
    "g2 = 1.0-L1/1.07\n",
    "\n",
    "\n",
    "\n",
    "print(g1)\n",
    "print(g2)\n",
    "\n",
    "print(g1*g2)"
   ]
  },
  {
   "cell_type": "code",
   "execution_count": null,
   "metadata": {},
   "outputs": [],
   "source": []
  },
  {
   "cell_type": "markdown",
   "metadata": {},
   "source": [
    "# Learning how to use pykat ABCD matrices (NO need to run!)"
   ]
  },
  {
   "cell_type": "code",
   "execution_count": null,
   "metadata": {},
   "outputs": [],
   "source": [
    "A = a.mirror_refl(1, 1)\n",
    "\n",
    "q1 = pykat.optics.gaussian_beams.BeamParam(w0=1, z=0)\n",
    "\n",
    "a.apply(A, q1, 1, 1)"
   ]
  },
  {
   "cell_type": "code",
   "execution_count": null,
   "metadata": {},
   "outputs": [],
   "source": [
    "help(pykat.optics.gaussian_beams.BeamParam)"
   ]
  },
  {
   "cell_type": "code",
   "execution_count": null,
   "metadata": {},
   "outputs": [],
   "source": [
    "help(a.space)\n",
    "help(a.mirror_trans)"
   ]
  },
  {
   "cell_type": "code",
   "execution_count": null,
   "metadata": {},
   "outputs": [],
   "source": [
    "q0 = pykat.optics.gaussian_beams.BeamParam(w0=315.781231594237e-6, z=460.760869565217e-3)\n",
    "\n",
    "S0 = a.space(1,0.21)\n",
    "S1 = a.mirror_trans(1, 1.45, 2.0)\n",
    "S2 = a.space(1.45,0.006)\n",
    "S3 = a.mirror_trans(1.45, 1, 0.025)\n",
    "S4 = a.space(1,0.07)\n",
    "S5 = a.mirror_trans(1, 1.8, np.inf)\n",
    "S6 = a.space(1.8,0.005)\n",
    "\n",
    "S7 = a.mirror_trans(1.8,1,np.inf)\n",
    "\n",
    "Ssum = S6 * S5 * S4 * S3 * S2 * S1 * S0\n",
    "\n",
    "\n",
    "q2 = a.apply(Ssum, q0, 1, 1.8)\n"
   ]
  },
  {
   "cell_type": "code",
   "execution_count": null,
   "metadata": {},
   "outputs": [],
   "source": [
    "a.bs_trans(1.8,1, np.inf, np.inf, 1.14)"
   ]
  },
  {
   "cell_type": "code",
   "execution_count": null,
   "metadata": {},
   "outputs": [],
   "source": [
    "q2"
   ]
  },
  {
   "cell_type": "markdown",
   "metadata": {},
   "source": [
    "# Designing the waist size in the crystal  \n"
   ]
  },
  {
   "cell_type": "markdown",
   "metadata": {},
   "source": [
    "## Controller"
   ]
  },
  {
   "cell_type": "code",
   "execution_count": 45,
   "metadata": {},
   "outputs": [],
   "source": [
    "RoC_EX = 100\n",
    "RoC_EY = 100\n",
    "\n",
    "w_crys = 30e-6"
   ]
  },
  {
   "cell_type": "markdown",
   "metadata": {},
   "source": [
    "## The model"
   ]
  },
  {
   "cell_type": "code",
   "execution_count": 46,
   "metadata": {},
   "outputs": [],
   "source": [
    "base = pykat.finesse.kat()\n",
    "base.verbose = True\n",
    "base.load(\"LongSRC_design_24Sept.kat\")\n",
    "\n",
    "base.removeBlock('Photodiodes')\n",
    "\n",
    "base.EX.Rc = RoC_EX\n",
    "base.EY.Rc = RoC_EY"
   ]
  },
  {
   "cell_type": "markdown",
   "metadata": {},
   "source": [
    "## Run 1\n",
    "Running without `cav`-command on TSRM. Detecting complex beam parameter at output port of the beam splitter."
   ]
  },
  {
   "cell_type": "code",
   "execution_count": 51,
   "metadata": {},
   "outputs": [
    {
     "name": "stdout",
     "output_type": "stream",
     "text": [
      "--------------------------------------------------------------\n",
      "Running kat - Started at 2019-09-30 17:36:55.199125\n",
      "\n",
      "Finished in 0.0200748 seconds\n",
      "Cavity is stable! :) \n",
      "Stability parameters: 0.9779  0.978  0.9779  0.978\n"
     ]
    },
    {
     "name": "stderr",
     "output_type": "stream",
     "text": [
      "\r",
      "  0% | ETA:  --:--:-- | Calculating                                            \r",
      "100% | ETA:  0:00:00 | Calculating                                             "
     ]
    }
   ],
   "source": [
    "kat = base.deepcopy()\n",
    "# Adding simulation instructions and detectors.\n",
    "kat.parse(\"\"\"\n",
    "\n",
    "bp qex x q nEMx\n",
    "bp qey x q nEMy\n",
    "\n",
    "bp qbsx x q nBS4\n",
    "\n",
    "cp cSRMX x m\n",
    "cp cSRMY x m\n",
    "cp cSRMX y m\n",
    "cp cSRMY y m\n",
    "\n",
    "noxaxis\n",
    "yaxis abs:deg\n",
    "\"\"\")\n",
    "\n",
    "kat.cTSRM.remove()\n",
    "                \n",
    "out = kat.run()\n",
    "\n",
    "#print(out2.stdout)\n",
    "\n",
    "qBSx = out['qbsx']\n",
    "\n",
    "qEXx = out['qex']\n",
    "qEYx = out['qey']\n",
    "\n",
    "\n",
    "\n",
    "# Checking stability\n",
    "# --------------------\n",
    "mX_x = np.abs(out['cSRMX_x_m'])\n",
    "mY_x = np.abs(out['cSRMY_x_m'])\n",
    "mX_y = np.abs(out['cSRMX_x_m'])\n",
    "mY_y = np.abs(out['cSRMY_x_m'])\n",
    "\n",
    "if (not (mX_x > -1 and mX_x < 1) or not (mX_y > -1 and mX_y < 1) or \n",
    "    not (mY_x > -1 and mY_x < 1) or not (mY_y > -1 and mY_y < 1)):\n",
    "    print('Cavity is unstable!!!!! :(')\n",
    "    print('Stability parameters: {}  {}  {}  {}'.format(mX_x, mY_x, mX_y, mY_y))\n",
    "else:\n",
    "    print('Cavity is stable! :) ')\n",
    "    print('Stability parameters: {}  {}  {}  {}'.format(mX_x, mY_x, mX_y, mY_y))\n",
    "# --------------------\n",
    "  \n"
   ]
  },
  {
   "cell_type": "markdown",
   "metadata": {},
   "source": [
    "### Optimising SRM RoC2 and distance from crystal surface"
   ]
  },
  {
   "cell_type": "code",
   "execution_count": 52,
   "metadata": {},
   "outputs": [
    {
     "name": "stdout",
     "output_type": "stream",
     "text": [
      "[0.07634193] [0.16367969]\n"
     ]
    }
   ],
   "source": [
    "\n",
    "# q0 = pykat.optics.gaussian_beams.BeamParam(w0=315.781231594237e-6, z=460.76086956521e-3)\n",
    "\n",
    "q0 = BeamParam(q=qBSx) # Here we import the beam parameter from nBS4 which is \n",
    "                     # the node of the BS facing the HR surface of SRM\n",
    "\n",
    "# Define the function here and the parameters to vary are \n",
    "# RoC of the AR surface of SRM (roc in the functions below) and the distance between\n",
    "# crystal and the AR surface of SRM (L in the functions below)\n",
    "\n",
    "# Here we have used the pykat ABCD matrices which account for refractive index in beam parameter\n",
    "# Unlike the wikipedia ABCD matrices which have the beam parameter included in the matrix element\n",
    "# so tl:dr be careful when comparing things\n",
    "# The function rocL calculates the beam parameters and we have this here\n",
    "# to make sure we get a waist at the centre of the crystal\n",
    "\n",
    "def rocL(roc, L):\n",
    "    S0 = a.space(1,kat.SRC1.L.value)\n",
    "    S1 = a.mirror_trans(1, kat.thsrm1.n.value, np.inf)\n",
    "    S2 = a.space(kat.thsrm1.n.value, kat.thsrm1.L.value)\n",
    "    S3 = a.mirror_trans(kat.thsrm1.n.value, 1, roc)\n",
    "    S4 = a.space(1, L)\n",
    "    S5 = a.mirror_trans(1, kat.sCRYS.n.value, np.inf) \n",
    "    S6 = a.space(kat.sCRYS.n.value, kat.sCRYS.L.value/2.0)\n",
    "\n",
    "    Ssum = S6 * S5 * S4 * S3 * S2 * S1 * S0\n",
    "\n",
    "    return a.apply(Ssum, q0, 1, 1.8)\n",
    "\n",
    "# Here we define a function to vary the L and roc\n",
    "def fun2(L, roc):\n",
    "    if L <=0:   # Adding this here to make sure that the minimisation routine does not spit out negative values of L for me\n",
    "        return 1000\n",
    "    return np.abs(rocL(roc, L).z)\n",
    "    \n",
    "def fun1(diopt):\n",
    "    \n",
    "    sol = minimize(fun2, 0.07, args=(1/diopt), method='Nelder-Mead') # Minimisation routine to find the best roc and L \n",
    "    \n",
    "    L = sol.x[0]\n",
    "    q = rocL(1.0/diopt, L)\n",
    "    z = q.z\n",
    "    w0 = q.w0\n",
    "    return np.abs(w0-w_crys)\n",
    "\n",
    "# Optimising RoC\n",
    "sol1 = minimize(fun1, 1.0/0.062997, method='Nelder-Mead') # Minimisation routine to find the best roc and L \n",
    "RoC_SRMAR = 1.0/sol1.x\n",
    "\n",
    "# Finding correspoinding length\n",
    "sol2 = minimize(fun2, 0.07, args=RoC_SRMAR, method='Nelder-Mead') # Minimisation routine to find the best roc and L \n",
    "L = sol2.x\n",
    "print(RoC_SRMAR, L)"
   ]
  },
  {
   "cell_type": "markdown",
   "metadata": {},
   "source": [
    "## Run 2\n",
    "Obtaining the RoC of the beam front at the TSRM"
   ]
  },
  {
   "cell_type": "code",
   "execution_count": 53,
   "metadata": {},
   "outputs": [
    {
     "name": "stdout",
     "output_type": "stream",
     "text": [
      "--------------------------------------------------------------\n",
      "Running kat - Started at 2019-09-30 17:36:56.881698\n",
      "\n",
      "Finished in 0.0205309 seconds\n",
      "0.914847516820705 0.914849990121275 0.9148487534709899\n"
     ]
    },
    {
     "name": "stderr",
     "output_type": "stream",
     "text": [
      "\r",
      "  0% | ETA:  --:--:-- | Calculating                                            \r",
      "100% | ETA:  0:00:00 | Calculating                                             "
     ]
    }
   ],
   "source": [
    "kat = base.deepcopy()\n",
    "\n",
    "# Setting values as optimsised above\n",
    "kat.SRM_AR.Rc = RoC_SRMAR\n",
    "kat.SRCc2.L = L\n",
    "\n",
    "L_SRC = (kat.LX.L.value+kat.LY.L.value)/2.0 + kat.SRC1.L.value\n",
    "L_SRC2 = L_SRC - (kat.thsrm1.L.value*kat.thsrm1.n.value + L + kat.sCRYS.L.value*kat.sCRYS.n.value)\n",
    "# Setting distance between crystal and TSRM such that the total length of the TSRC matches the SRC length.\n",
    "kat.SRC2.L = L_SRC2\n",
    "\n",
    "kat.parse(\"\"\"\n",
    "bp Rcx_tsrm x r nTSRM1\n",
    "bp Rcy_tsrm y r nTSRM1\n",
    "\n",
    "noxaxis\n",
    "yaxis abs\n",
    "\"\"\")\n",
    "kat.cTSRM.remove()\n",
    "\n",
    "out = kat.run()\n",
    "\n",
    "Rcx = out['Rcx_tsrm']\n",
    "Rcy = out['Rcy_tsrm']\n",
    "# Average beam front radius\n",
    "Rc = (Rcx + Rcy)/2.0\n",
    "print(Rcx, Rcy, Rc)"
   ]
  },
  {
   "cell_type": "markdown",
   "metadata": {},
   "source": [
    "## Run 3\n",
    "Check modematching"
   ]
  },
  {
   "cell_type": "code",
   "execution_count": 54,
   "metadata": {},
   "outputs": [
    {
     "name": "stdout",
     "output_type": "stream",
     "text": [
      "Parsing `mismatches` into pykat object not implemented yet, added as extra line.\n",
      "--------------------------------------------------------------\n",
      "Running kat - Started at 2019-09-30 17:36:57.727554\n",
      "\n",
      "Finished in 0.0213361 seconds\n",
      "\n",
      "------------------------------------------------------------------------\n",
      "                     FINESSE 2.2                (build 2.2-31-ge1141681)\n",
      "       o_.-=.        Frequency domain INterferomEter Simulation SoftwarE\n",
      "      (\\'\".\\|        06.03.2019         http://www.gwoptics.org/finesse/\n",
      "      .>' (_--.      \n",
      "   _=/d   ,^\\        Input file /var/folders/k1/yts33d_93v1_9yd1768nkwph0000gn/T/tmpgtixpkbk.kat,\n",
      "  ~~ \\)-'   '        Output file /var/folders/k1/yts33d_93v1_9yd1768nkwph0000gn/T/tmpgtixpkbk.out,\n",
      "     / |             Gnuplot file /var/folders/k1/yts33d_93v1_9yd1768nkwph0000gn/T/tmpgtixpkbk.gnu \n",
      "    '  '                                        Mon Sep 30 17:36:57 2019\n",
      "------------------------------------------------------------------------\n",
      " 'noxaxis' has been set, ignoring all other xaxis commands\n",
      " \n",
      "---- Start interferometer mismatches ----\n",
      " mirror: SRM\n",
      " \t1->2:    3.974518068e-05\n",
      "\t2->1:    3.974518068e-05\n",
      " bs: BS\n",
      " \t1->3:    1.256975019e-06\n",
      "\t3->1:    1.256975019e-06\n",
      "\t3->4:    1.256975019e-06\n",
      "\t4->3:    1.256975019e-06\n",
      " \n",
      "---- End interferometer mismatches ----\n",
      " \n",
      " computation time:  0.0101865s\n",
      "\n"
     ]
    },
    {
     "name": "stderr",
     "output_type": "stream",
     "text": [
      "\r",
      "  0% | ETA:  --:--:-- | Calculating                                            \r",
      "100% | ETA:  0:00:00 | Calculating                                             "
     ]
    }
   ],
   "source": [
    "kat = base.deepcopy()\n",
    "\n",
    "# Setting values as optimsised above\n",
    "kat.SRM_AR.Rc = RoC_SRMAR\n",
    "kat.SRCc2.L = L\n",
    "kat.TSRM.Rc = Rc\n",
    "kat.SRC2.L = L_SRC2\n",
    "\n",
    "\n",
    "kat.parse(\"\"\"\n",
    "bp Rcx_tsrm x r nTSRM1\n",
    "bp Rcy_tsrm y r nTSRM1\n",
    "mismatches\n",
    "noxaxis\n",
    "\"\"\")\n",
    "\n",
    "out = kat.run()\n",
    "print(out.stdout)"
   ]
  },
  {
   "cell_type": "markdown",
   "metadata": {},
   "source": [
    "If all looks good, setting parameters to `base`."
   ]
  },
  {
   "cell_type": "code",
   "execution_count": 55,
   "metadata": {},
   "outputs": [],
   "source": [
    "base.SRM_AR.Rc = RoC_SRMAR\n",
    "base.SRCc2.L = L\n",
    "base.TSRM.Rc = Rc\n",
    "base.SRC2.L = L_SRC2"
   ]
  },
  {
   "cell_type": "markdown",
   "metadata": {},
   "source": [
    "## Plot beam sizes"
   ]
  },
  {
   "cell_type": "code",
   "execution_count": 62,
   "metadata": {},
   "outputs": [
    {
     "name": "stdout",
     "output_type": "stream",
     "text": [
      "--------------------------------------------------------------\n",
      "Running kat - Started at 2019-09-30 17:40:25.818390\n",
      "\n",
      "Finished in 0.0212338 seconds\n",
      "Cavity is stable! :) \n",
      "Stability parameters: 0.9779  0.978  0.9779  0.978  0.999300593938465  0.999334795323018\n"
     ]
    },
    {
     "name": "stderr",
     "output_type": "stream",
     "text": [
      "\r",
      "  0% | ETA:  --:--:-- | Calculating                                            \r",
      "100% | ETA:  0:00:00 | Calculating                                             "
     ]
    }
   ],
   "source": [
    "kat = base.deepcopy()\n",
    "\n",
    "kat.parse(\"\"\"\n",
    "\n",
    "bp qex x q nEMx\n",
    "bp qbsx x q nBS4\n",
    "bp qsrm x q nSRM1\n",
    "bp qsrmarx x q nSRM_AR2\n",
    "bp qcr1 x q nCRYS1a\n",
    "bp q_cr1b x q nCRYS1b\n",
    "bp qcr2 x q nCRYS2b\n",
    "bp qtsrm x q nTSRM1\n",
    "\n",
    "\n",
    "cp cSRMX x m\n",
    "cp cSRMY x m\n",
    "cp cSRMX y m\n",
    "cp cSRMY y m\n",
    "\n",
    "cp cTSRM x m\n",
    "cp cTSRM y m\n",
    "\n",
    "noxaxis\n",
    "yaxis abs:deg\n",
    "\"\"\")\n",
    "\n",
    "                \n",
    "out = kat.run()\n",
    "\n",
    "\n",
    "qex = out['qex']\n",
    "\n",
    "qbsx = out['qbsx']\n",
    "qsrm = out['qsrm']\n",
    "\n",
    "qsrmarx = out['qsrmarx']\n",
    "qcr1 = out['qcr1']\n",
    "qcr2 = out['qcr2']\n",
    "qtsrm = out['qtsrm']\n",
    "\n",
    "mX_x = np.abs(out['cSRMX_x_m'])\n",
    "mY_x = np.abs(out['cSRMY_x_m'])\n",
    "mX_y = np.abs(out['cSRMX_x_m'])\n",
    "mY_y = np.abs(out['cSRMY_x_m'])\n",
    "\n",
    "mTSRM_x = np.abs(out['cTSRM_x_m'])\n",
    "mTSRM_y = np.abs(out['cTSRM_y_m'])\n",
    "\n",
    "\n",
    "if (not (mX_x > -1 and mX_x < 1) or not (mX_y > -1 and mX_y < 1) or \n",
    "    not (mY_x > -1 and mY_x < 1) or not (mY_y > -1 and mY_y < 1) or \n",
    "    not (mTSRM_x > -1 and mTSRM_x < 1) or not (mTSRM_y > -1 and mTSRM_y < 1)):\n",
    "    print('Cavity is unstable! :) ')\n",
    "    print('Stability parameters: {}  {}  {}  {}  {}  {}'.format(mX_x, mY_x, mX_y, mY_y, mTSRM_x, mTSRM_y))\n",
    "else:\n",
    "    print('Cavity is stable! :) ')\n",
    "    print('Stability parameters: {}  {}  {}  {}  {}  {}'.format(mX_x, mY_x, mX_y, mY_y, mTSRM_x, mTSRM_y))"
   ]
  },
  {
   "cell_type": "code",
   "execution_count": 59,
   "metadata": {},
   "outputs": [
    {
     "data": {
      "text/plain": [
       "0.999300593938465"
      ]
     },
     "execution_count": 59,
     "metadata": {},
     "output_type": "execute_result"
    }
   ],
   "source": [
    "mTSRM_x"
   ]
  },
  {
   "cell_type": "code",
   "execution_count": 57,
   "metadata": {},
   "outputs": [
    {
     "data": {
      "image/png": "[encoded data removed]",
      "text/plain": [
       "<Figure size 1200x800 with 1 Axes>"
      ]
     },
     "metadata": {
      "needs_background": "light"
     },
     "output_type": "display_data"
    },
    {
     "data": {
      "image/png": "[encoded data removed]",
      "text/plain": [
       "<Figure size 1200x800 with 1 Axes>"
      ]
     },
     "metadata": {
      "needs_background": "light"
     },
     "output_type": "display_data"
    }
   ],
   "source": [
    "def q2w(q0,z,n=1):\n",
    "    w = np.zeros(len(z))\n",
    "    for k,a in enumerate(z):\n",
    "        w[k] = BeamParam(q=q0+a, nr=n).w\n",
    "    return w\n",
    "\n",
    "\n",
    "\n",
    "###############################################\n",
    "# Lengths and parameters\n",
    "###############################################\n",
    "\n",
    "\n",
    "# End mirror\n",
    "w_ex = BeamParam(q=qex).w\n",
    "\n",
    "# End mirror to BS\n",
    "L_ex_bs = kat.LX.L.value\n",
    "z_ex_bs = np.linspace(0,L_ex_bs,10)\n",
    "w_ex_bs = q2w(qex, z_ex_bs)\n",
    "\n",
    "# BS\n",
    "w_bs = BeamParam(q=qbsx).w\n",
    "\n",
    "# BS to SRM\n",
    "L_bs_srm = kat.SRC1.L.value\n",
    "z_bs_srm = np.linspace(0,L_bs_srm,10)\n",
    "w_bs_srm = q2w(qbsx,z_bs_srm)\n",
    "z_bs_srm += L_ex_bs\n",
    "\n",
    "# SRM\n",
    "w_srm = BeamParam(q=qsrm).w\n",
    "\n",
    "# SRM substrate\n",
    "L_srm_sub = kat.thsrm1.L.value\n",
    "\n",
    "# SRM AR\n",
    "w_srmar = BeamParam(q=qsrmarx).w\n",
    "\n",
    "# SRM AR to Crystal\n",
    "L_srm_crys = kat.SRCc2.L.value\n",
    "z_srm_crys = np.linspace(0,L_srm_crys,10)\n",
    "w_srm_crys = q2w(qsrmarx, z_srm_crys)\n",
    "z_srm_crys += L_ex_bs+L_bs_srm+L_srm_sub\n",
    "\n",
    "# Crystal, surface 1\n",
    "w_crys = BeamParam(q=qcr1).w\n",
    "\n",
    "# Inside the Crystal\n",
    "L_crys = kat.sCRYS.L.value\n",
    "z_crys_sub = np.linspace(0,L_crys,50)\n",
    "w_crys_sub = q2w(qcr1*kat.sCRYS.n.value, z_crys_sub, n=kat.sCRYS.n.value)\n",
    "z_crys_sub += L_ex_bs+L_bs_srm+L_srm_sub+L_srm_crys\n",
    "\n",
    "\n",
    "# Crystal, surface 2\n",
    "w_crys2 = BeamParam(q=qcr2).w\n",
    "\n",
    "# Crystal to TSRM\n",
    "L_crys_tsrm = kat.SRC2.L.value\n",
    "z_crys_tsrm = np.linspace(0,L_crys_tsrm,10)\n",
    "w_crys_tsrm = q2w(qcr2,z_crys_tsrm)\n",
    "z_crys_tsrm += L_ex_bs+L_bs_srm+L_srm_sub+L_srm_crys+L_crys\n",
    "\n",
    "# TSRM\n",
    "w_tsrm = BeamParam(q=qtsrm).w\n",
    "\n",
    "\n",
    "###############################################\n",
    "# Plotting\n",
    "###############################################\n",
    "\n",
    "fig = plt.figure(dpi=200)\n",
    "ax = fig.add_subplot(111)\n",
    "\n",
    "# End mirror\n",
    "ax.plot(0,w_ex,'b*')\n",
    "ax.plot(0,-w_ex,'b*')\n",
    "\n",
    "# End mirror to BS\n",
    "ax.plot(z_ex_bs, w_ex_bs,'-b')\n",
    "ax.plot(z_ex_bs, -w_ex_bs,'-b')\n",
    "\n",
    "# BS\n",
    "ax.plot(L_ex_bs, w_bs,'b*')\n",
    "ax.plot(L_ex_bs, -w_bs,'b*')\n",
    "\n",
    "# BS to SRM\n",
    "ax.plot(z_bs_srm, w_bs_srm,'-b')\n",
    "ax.plot(z_bs_srm, -w_bs_srm,'-b')\n",
    "\n",
    "# SRM\n",
    "ax.plot(L_ex_bs+L_bs_srm,w_srm,'b*')\n",
    "ax.plot(L_ex_bs+L_bs_srm,-w_srm,'b*')\n",
    "\n",
    "# SRMAR\n",
    "ax.plot(L_ex_bs+L_bs_srm+L_srm_sub,w_srmar,'b*')\n",
    "ax.plot(L_ex_bs+L_bs_srm+L_srm_sub,-w_srmar,'b*')\n",
    "\n",
    "# SRMAR to Crystal\n",
    "ax.plot(z_srm_crys, w_srm_crys,'-b')\n",
    "ax.plot(z_srm_crys, -w_srm_crys,'-b')\n",
    "\n",
    "# Crystal surface 1\n",
    "ax.plot(L_ex_bs+L_bs_srm+L_srm_sub+L_srm_crys, w_crys,'b*')\n",
    "ax.plot(L_ex_bs+L_bs_srm+L_srm_sub+L_srm_crys, -w_crys,'b*')\n",
    "\n",
    "# Inside Crystal\n",
    "ax.plot(z_crys_sub, w_crys_sub,'-b')\n",
    "ax.plot(z_crys_sub, -w_crys_sub,'-b')\n",
    "\n",
    "# Crystal surface 2\n",
    "ax.plot(L_ex_bs+L_bs_srm+L_srm_sub+L_srm_crys+L_crys, w_crys2,'b*')\n",
    "ax.plot(L_ex_bs+L_bs_srm+L_srm_sub+L_srm_crys+L_crys, -w_crys2,'b*')\n",
    "\n",
    "# Crystal to TSRM\n",
    "ax.plot(z_crys_tsrm, w_crys_tsrm,'-b')\n",
    "ax.plot(z_crys_tsrm, -w_crys_tsrm,'-b')\n",
    "\n",
    "# TSRM\n",
    "ax.plot(L_ex_bs+L_bs_srm+L_srm_sub+L_srm_crys+L_crys+L_crys_tsrm, w_tsrm,'b*')\n",
    "ax.plot(L_ex_bs+L_bs_srm+L_srm_sub+L_srm_crys+L_crys+L_crys_tsrm, -w_tsrm,'b*')\n",
    "\n",
    "ax.set_ylabel('w [m]')\n",
    "ax.set_xlabel('z [m]')\n",
    "\n",
    "ax.grid()\n",
    "ax.set_ylim(0,0.02)\n",
    "plt.show(fig)\n",
    "\n",
    "\n",
    "\n",
    "fig = plt.figure(dpi=200)\n",
    "ax = fig.add_subplot(111)\n",
    "\n",
    "# Crystal surface 1\n",
    "ax.plot(L_ex_bs+L_bs_srm+L_srm_sub+L_srm_crys, w_crys*1e6,'b*')\n",
    "#ax.plot(L_ex_bs+L_bs_srm+L_srm_sub+L_srm_crys, -w_crys,'b*')\n",
    "\n",
    "# Inside Crystal\n",
    "ax.plot(z_crys_sub, w_crys_sub*1e6,'-b')\n",
    "#ax.plot(z_crys_sub, -w_crys_sub,'-b')\n",
    "\n",
    "# Crystal surface 2\n",
    "ax.plot(L_ex_bs+L_bs_srm+L_srm_sub+L_srm_crys+L_crys, w_crys2*1e6,'b*')\n",
    "#ax.plot(L_ex_bs+L_bs_srm+L_srm_sub+L_srm_crys+L_crys, -w_crys2,'b*')\n",
    "ax.grid()\n",
    "\n",
    "ax.set_ylabel('Beam radius [um]')\n",
    "ax.set_title('Inside crystal')\n",
    "plt.show(fig)"
   ]
  },
  {
   "cell_type": "code",
   "execution_count": null,
   "metadata": {},
   "outputs": [],
   "source": [
    "out2['cSRMX_x_m']"
   ]
  },
  {
   "cell_type": "code",
   "execution_count": null,
   "metadata": {},
   "outputs": [],
   "source": [
    "out2.ylabels"
   ]
  },
  {
   "cell_type": "code",
   "execution_count": null,
   "metadata": {},
   "outputs": [],
   "source": [
    "kat2.cSRM"
   ]
  },
  {
   "cell_type": "code",
   "execution_count": null,
   "metadata": {},
   "outputs": [],
   "source": [
    "qcr1"
   ]
  },
  {
   "cell_type": "code",
   "execution_count": null,
   "metadata": {},
   "outputs": [],
   "source": [
    "BeamParamqex"
   ]
  },
  {
   "cell_type": "code",
   "execution_count": null,
   "metadata": {},
   "outputs": [],
   "source": [
    "help(BeamParam)"
   ]
  },
  {
   "cell_type": "markdown",
   "metadata": {},
   "source": [
    "## Plot beam"
   ]
  },
  {
   "cell_type": "code",
   "execution_count": null,
   "metadata": {},
   "outputs": [],
   "source": [
    "def q2w(q0,z,n=1):\n",
    "    w = np.zeros(len(z))\n",
    "    for k,a in enumerate(z):\n",
    "        w[k] = BeamParam(q=q0+a, nr=n).w\n",
    "    return w\n",
    "\n",
    "\n",
    "\n",
    "###############################################\n",
    "# Lengths and parameters\n",
    "###############################################\n",
    "\n",
    "\n",
    "# End mirror\n",
    "w_ex = BeamParam(q=qex).w\n",
    "\n",
    "# End mirror to BS\n",
    "L_ex_bs = kat2.LX.L.value\n",
    "z_ex_bs = np.linspace(0,L_ex_bs,10)\n",
    "w_ex_bs = q2w(qex, z_ex_bs)\n",
    "\n",
    "# BS\n",
    "w_bs = BeamParam(q=qbsx).w\n",
    "\n",
    "# BS to SRM\n",
    "L_bs_srm = kat2.SRC1.L.value\n",
    "z_bs_srm = np.linspace(0,L_bs_srm,10)\n",
    "w_bs_srm = q2w(qbsx,z_bs_srm)\n",
    "z_bs_srm += L_ex_bs\n",
    "\n",
    "# SRM\n",
    "w_srm = BeamParam(q=qsrm).w\n",
    "\n",
    "# SRM substrate\n",
    "L_srm_sub = kat2.thsrm1.L.value\n",
    "\n",
    "# SRM AR\n",
    "w_srmar = BeamParam(q=qsrmarx).w\n",
    "\n",
    "# SRM AR to Crystal\n",
    "L_srm_crys = kat2.SRCc2.L.value\n",
    "z_srm_crys = np.linspace(0,L_srm_crys,10)\n",
    "w_srm_crys = q2w(qsrmarx, z_srm_crys)\n",
    "z_srm_crys += L_ex_bs+L_bs_srm+L_srm_sub\n",
    "\n",
    "# Crystal, surface 1\n",
    "w_crys = BeamParam(q=qcr1).w\n",
    "\n",
    "# Inside the Crystal\n",
    "L_crys = kat2.sCRYS.L.value\n",
    "z_crys_sub = np.linspace(0,L_crys,10)\n",
    "w_crys_sub = q2w(qcr1*kat2.sCRYS.n.value, z_crys_sub, n=kat2.sCRYS.n.value)\n",
    "z_crys_sub += L_ex_bs+L_bs_srm+L_srm_sub+L_srm_crys\n",
    "\n",
    "\n",
    "# Crystal, surface 2\n",
    "w_crys2 = BeamParam(q=qcr2).w\n",
    "\n",
    "# Crystal to TSRM\n",
    "L_crys_tsrm = kat2.SRC2.L.value\n",
    "z_crys_tsrm = np.linspace(0,L_crys_tsrm,10)\n",
    "w_crys_tsrm = q2w(qcr2,z_crys_tsrm)\n",
    "z_crys_tsrm += L_ex_bs+L_bs_srm+L_srm_sub+L_srm_crys+L_crys\n",
    "\n",
    "# TSRM\n",
    "w_tsrm = BeamParam(q=qtsrm).w\n",
    "\n",
    "\n",
    "###############################################\n",
    "# Plotting\n",
    "###############################################\n",
    "\n",
    "fig = plt.figure(dpi=200)\n",
    "ax = fig.add_subplot(111)\n",
    "\n",
    "# End mirror\n",
    "ax.plot(0,w_ex,'b*')\n",
    "ax.plot(0,-w_ex,'b*')\n",
    "\n",
    "# End mirror to BS\n",
    "ax.plot(z_ex_bs, w_ex_bs,'-b')\n",
    "ax.plot(z_ex_bs, -w_ex_bs,'-b')\n",
    "\n",
    "# BS\n",
    "ax.plot(L_ex_bs, w_bs,'b*')\n",
    "ax.plot(L_ex_bs, -w_bs,'b*')\n",
    "\n",
    "# BS to SRM\n",
    "ax.plot(z_bs_srm, w_bs_srm,'-b')\n",
    "ax.plot(z_bs_srm, -w_bs_srm,'-b')\n",
    "\n",
    "# SRM\n",
    "ax.plot(L_ex_bs+L_bs_srm,w_srm,'b*')\n",
    "ax.plot(L_ex_bs+L_bs_srm,-w_srm,'b*')\n",
    "\n",
    "# SRMAR\n",
    "ax.plot(L_ex_bs+L_bs_srm+L_srm_sub,w_srmar,'b*')\n",
    "ax.plot(L_ex_bs+L_bs_srm+L_srm_sub,-w_srmar,'b*')\n",
    "\n",
    "# SRMAR to Crystal\n",
    "ax.plot(z_srm_crys, w_srm_crys,'-b')\n",
    "ax.plot(z_srm_crys, -w_srm_crys,'-b')\n",
    "\n",
    "# Crystal surface 1\n",
    "ax.plot(L_ex_bs+L_bs_srm+L_srm_sub+L_srm_crys, w_crys,'b*')\n",
    "ax.plot(L_ex_bs+L_bs_srm+L_srm_sub+L_srm_crys, -w_crys,'b*')\n",
    "\n",
    "# Inside Crystal\n",
    "ax.plot(z_crys_sub, w_crys_sub,'-b')\n",
    "ax.plot(z_crys_sub, -w_crys_sub,'-b')\n",
    "\n",
    "# Crystal surface 2\n",
    "ax.plot(L_ex_bs+L_bs_srm+L_srm_sub+L_srm_crys+L_crys, w_crys2,'b*')\n",
    "ax.plot(L_ex_bs+L_bs_srm+L_srm_sub+L_srm_crys+L_crys, -w_crys2,'b*')\n",
    "\n",
    "# Crystal to TSRM\n",
    "ax.plot(z_crys_tsrm, w_crys_tsrm,'-b')\n",
    "ax.plot(z_crys_tsrm, -w_crys_tsrm,'-b')\n",
    "\n",
    "# TSRM\n",
    "ax.plot(L_ex_bs+L_bs_srm+L_srm_sub+L_srm_crys+L_crys+L_crys_tsrm, w_tsrm,'b*')\n",
    "ax.plot(L_ex_bs+L_bs_srm+L_srm_sub+L_srm_crys+L_crys+L_crys_tsrm, -w_tsrm,'b*')\n",
    "\n",
    "ax.set_ylabel('w [m]')\n",
    "ax.set_xlabel('z [m]')\n",
    "\n",
    "plt.show(fig)"
   ]
  },
  {
   "cell_type": "code",
   "execution_count": null,
   "metadata": {},
   "outputs": [],
   "source": [
    "kat2.sCRYS.n.value"
   ]
  },
  {
   "cell_type": "code",
   "execution_count": null,
   "metadata": {},
   "outputs": [],
   "source": [
    "w_crys_sub"
   ]
  },
  {
   "cell_type": "code",
   "execution_count": null,
   "metadata": {},
   "outputs": [],
   "source": [
    "w_crys2"
   ]
  },
  {
   "cell_type": "code",
   "execution_count": null,
   "metadata": {},
   "outputs": [],
   "source": [
    "40.9584826219816"
   ]
  },
  {
   "cell_type": "code",
   "execution_count": null,
   "metadata": {},
   "outputs": [],
   "source": [
    "w_crys2"
   ]
  },
  {
   "cell_type": "code",
   "execution_count": null,
   "metadata": {},
   "outputs": [],
   "source": [
    "qcr1*1.8"
   ]
  },
  {
   "cell_type": "code",
   "execution_count": 65,
   "metadata": {},
   "outputs": [
    {
     "data": {
      "text/plain": [
       "<AttrParam (SRM.Rcx=inf) at 0x181779ca90>"
      ]
     },
     "execution_count": 65,
     "metadata": {},
     "output_type": "execute_result"
    }
   ],
   "source": [
    "kat2.SRM.Rc"
   ]
  },
  {
   "cell_type": "code",
   "execution_count": null,
   "metadata": {},
   "outputs": [],
   "source": [
    "BeamParam(q=out2['q_cr1b'],nr=1.8).w"
   ]
  },
  {
   "cell_type": "code",
   "execution_count": null,
   "metadata": {},
   "outputs": [],
   "source": []
  },
  {
   "cell_type": "code",
   "execution_count": null,
   "metadata": {},
   "outputs": [],
   "source": [
    "\n",
    "\n",
    "q_etm = out['qx_ex']\n",
    "\n",
    "\n",
    "\n",
    "\n",
    "zs = np.linspace(-10,10,100)\n",
    "w = np.zeros(len(zs))\n",
    "for k,z in enumerate(zs):\n",
    "    w[k] = (q0+z).w\n",
    "    \n",
    "fig = plt.figure()\n",
    "ax = fig.add_subplot(111)\n",
    "ax.plot(zs,w)\n",
    "ax.plot(zs,-w)\n",
    "ax.set_ylabel('w [m]')\n",
    "ax.set_xlabel('z [m]')\n",
    "\n",
    "plt.show(fig)"
   ]
  },
  {
   "cell_type": "code",
   "execution_count": null,
   "metadata": {},
   "outputs": [],
   "source": []
  },
  {
   "cell_type": "markdown",
   "metadata": {},
   "source": [
    "# Playground"
   ]
  },
  {
   "cell_type": "code",
   "execution_count": 15,
   "metadata": {},
   "outputs": [
    {
     "name": "stdout",
     "output_type": "stream",
     "text": [
      "RoC =  10.000000 m ---> L = 1.36e+00 m, where z = -1.33e-07 m, w0 = 1.338 mm\n",
      "RoC =   0.186640 m ---> L = 4.02e-01 m, where z =  1.21e-08 m, w0 = 0.100 mm\n",
      "RoC =   0.094199 m ---> L = 2.02e-01 m, where z = -2.74e-07 m, w0 = 0.050 mm\n",
      "RoC =   0.062997 m ---> L = 1.35e-01 m, where z = -7.32e-07 m, w0 = 0.034 mm\n",
      "RoC =   0.047323 m ---> L = 1.00e-01 m, where z = -7.28e-07 m, w0 = 0.025 mm\n",
      "RoC =   0.037894 m ---> L = 7.99e-02 m, where z =  4.65e-07 m, w0 = 0.020 mm\n",
      "RoC =   0.031598 m ---> L = 6.61e-02 m, where z =  2.40e-07 m, w0 = 0.017 mm\n",
      "RoC =   0.027096 m ---> L = 5.63e-02 m, where z =  5.93e-07 m, w0 = 0.014 mm\n",
      "RoC =   0.023717 m ---> L = 4.89e-02 m, where z = -4.81e-07 m, w0 = 0.013 mm\n",
      "RoC =   0.021088 m ---> L = 4.32e-02 m, where z =  5.92e-07 m, w0 = 0.011 mm\n",
      "RoC =   0.018983 m ---> L = 3.86e-02 m, where z = -4.21e-07 m, w0 = 0.010 mm\n",
      "RoC =   0.017260 m ---> L = 3.49e-02 m, where z =  4.39e-07 m, w0 = 0.009 mm\n",
      "RoC =   0.015824 m ---> L = 3.17e-02 m, where z =  5.09e-07 m, w0 = 0.008 mm\n",
      "RoC =   0.014609 m ---> L = 2.91e-02 m, where z =  6.21e-07 m, w0 = 0.008 mm\n",
      "RoC =   0.013567 m ---> L = 2.68e-02 m, where z = -5.82e-08 m, w0 = 0.007 mm\n",
      "RoC =   0.012663 m ---> L = 2.48e-02 m, where z =  5.97e-07 m, w0 = 0.007 mm\n",
      "RoC =   0.011873 m ---> L = 2.31e-02 m, where z = -5.81e-09 m, w0 = 0.006 mm\n",
      "RoC =   0.011175 m ---> L = 2.16e-02 m, where z = -7.42e-07 m, w0 = 0.006 mm\n",
      "RoC =   0.010555 m ---> L = 2.02e-02 m, where z =  6.49e-07 m, w0 = 0.006 mm\n",
      "RoC =   0.010000 m ---> L = 1.90e-02 m, where z = -1.87e-07 m, w0 = 0.005 mm\n"
     ]
    }
   ],
   "source": [
    "# q0 = pykat.optics.gaussian_beams.BeamParam(w0=315.781231594237e-6, z=460.76086956521e-3)\n",
    "\n",
    "q0 = BeamParam(q=qBSx) # Here we import the beam parameter from nBS4 which is \n",
    "                     # the node of the BS facing the HR surface of SRM\n",
    "\n",
    "# Define the function here and the parameters to vary are \n",
    "# RoC of the AR surface of SRM (roc in the functions below) and the distance between\n",
    "# crystal and the AR surface of SRM (L in the functions below)\n",
    "\n",
    "# Here we have used the pykat ABCD matrices which account for refractive index in beam parameter\n",
    "# Unlike the wikipedia ABCD matrices which have the beam parameter included in the matrix element\n",
    "# so tl:dr be careful when comparing things\n",
    "# The function rocL calculates the beam parameters and we have this here\n",
    "# to make sure we get a waist at the centre of the crystal\n",
    "\n",
    "def rocL(roc, L):\n",
    "    S0 = a.space(1,kat.SRC1.L.value)\n",
    "    S1 = a.mirror_trans(1, kat.thsrm1.n.value, np.inf)\n",
    "    S2 = a.space(kat.thsrm1.n.value, kat.thsrm1.L.value)\n",
    "    S3 = a.mirror_trans(kat.thsrm1.n.value, 1, roc)\n",
    "    S4 = a.space(1, L)\n",
    "    S5 = a.mirror_trans(1, kat.sCRYS.n.value, np.inf) \n",
    "    S6 = a.space(kat.sCRYS.n.value, kat.sCRYS.L.value/2.0)\n",
    "\n",
    "    Ssum = S6 * S5 * S4 * S3 * S2 * S1 * S0\n",
    "\n",
    "    return a.apply(Ssum, q0, 1, 1.8)\n",
    "\n",
    "# Here we define a function to vary the L and roc\n",
    "def fun2(L, roc):\n",
    "    if L <=0:   # Adding this here to make sure that the minimisation routine does not spit out negative values of L for me\n",
    "        return 1000\n",
    "    return np.abs(rocL(roc, L).z)\n",
    "    \n",
    "\n",
    "diopt = np.linspace(0.1, 100, 20) #Dioptres is used because - just easier to do. We have gone from 1 cm RoC to 10 m RoC\n",
    "\n",
    "for k,d in enumerate(diopt):\n",
    "    \n",
    "    sol = minimize(f, 0.07, args=(1/d), method='Nelder-Mead', tol=1e-6) # Minimisation routine to find the best roc and L \n",
    "    \n",
    "    L = sol.x[0]\n",
    "    q = rocL(1.0/d, L)\n",
    "    z = q.z\n",
    "    w0 = q.w0\n",
    "    \n",
    "    print('RoC = {:10.6f} m ---> L = {:.2e} m, where z = {:9.2e} m, w0 = {:.3f} mm'.format(1.0/d, L, z, w0*1e3))"
   ]
  }
 ],
 "metadata": {
  "kernelspec": {
   "display_name": "Python 3",
   "language": "python",
   "name": "python3"
  },
  "language_info": {
   "codemirror_mode": {
    "name": "ipython",
    "version": 3
   },
   "file_extension": ".py",
   "mimetype": "text/x-python",
   "name": "python",
   "nbconvert_exporter": "python",
   "pygments_lexer": "ipython3",
   "version": "3.7.2"
  },
  "toc": {
   "base_numbering": 1,
   "nav_menu": {},
   "number_sections": true,
   "sideBar": true,
   "skip_h1_title": false,
   "title_cell": "Table of Contents",
   "title_sidebar": "Contents",
   "toc_cell": false,
   "toc_position": {
    "height": "calc(100% - 180px)",
    "left": "10px",
    "top": "150px",
    "width": "349px"
   },
   "toc_section_display": true,
   "toc_window_display": true
  },
  "toc_position": {
   "height": "640px",
   "left": "1262.7px",
   "right": "20px",
   "top": "97px",
   "width": "271px"
  }
 },
 "nbformat": 4,
 "nbformat_minor": 2
}
